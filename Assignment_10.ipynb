{
  "cells": [
    {
      "cell_type": "code",
      "execution_count": 23,
      "metadata": {
        "colab": {
          "base_uri": "https://localhost:8080/"
        },
        "id": "nuMPO5kFGkXd",
        "outputId": "2e93fa07-f718-46f9-e2bc-36436ad142ac"
      },
      "outputs": [
        {
          "name": "stderr",
          "output_type": "stream",
          "text": [
            "[nltk_data] Downloading package punkt_tab to\n",
            "[nltk_data]     C:\\Users\\Sahil\\AppData\\Roaming\\nltk_data...\n",
            "[nltk_data]   Package punkt_tab is already up-to-date!\n",
            "[nltk_data] Downloading package wordnet to\n",
            "[nltk_data]     C:\\Users\\Sahil\\AppData\\Roaming\\nltk_data...\n",
            "[nltk_data]   Package wordnet is already up-to-date!\n",
            "[nltk_data] Downloading package averaged_perceptron_tagger_eng to\n",
            "[nltk_data]     C:\\Users\\Sahil\\AppData\\Roaming\\nltk_data...\n",
            "[nltk_data]   Package averaged_perceptron_tagger_eng is already up-to-\n",
            "[nltk_data]       date!\n"
          ]
        },
        {
          "data": {
            "text/plain": [
              "True"
            ]
          },
          "execution_count": 23,
          "metadata": {},
          "output_type": "execute_result"
        }
      ],
      "source": [
        "import math ,re ,nltk\n",
        "nltk.download('punkt_tab')\n",
        "nltk.download('wordnet')\n",
        "nltk.download('averaged_perceptron_tagger_eng')"
      ]
    },
    {
      "cell_type": "code",
      "execution_count": 24,
      "metadata": {
        "id": "va4QIFsjLKnf"
      },
      "outputs": [],
      "source": [
        "with open('doc_01.txt','r') as file:\n",
        "  doc=file.read()\n",
        "with open('doc_02.txt','r')as file:\n",
        "  doc2=file.read()"
      ]
    },
    {
      "cell_type": "code",
      "execution_count": 25,
      "metadata": {
        "colab": {
          "base_uri": "https://localhost:8080/"
        },
        "id": "mllP9HIrOfq4",
        "outputId": "b6c36993-09ff-4a93-cc5d-1a14cec6147a"
      },
      "outputs": [
        {
          "name": "stdout",
          "output_type": "stream",
          "text": [
            "Between 2016 and 2019, the state forest department under theÂ BJPÂ government had launched â€˜Green Maharashtraâ€™ drive with an aim to plant 50 crore trees across the state in the four-year period. In October 2019, the government had claimed it had surpassed the target by planting 33 crore trees in July-September 2019.Â The Indian ExpressÂ had found that non-forest agencies â€” such as gram panchayats â€” which were tasked with planting trees had not uploaded the mandatory audio-visual proof of the tree plantation drives on the specially created portal.\n",
            "In Pune Revenue Division, it was claimed the gram panchayats planted 1.7 crore saplings; however, no evidence was uploaded for 87 per cent (1.49 crore) saplings. Also, out of the 59 government agencies involved in the drive as many as 38 had not submitted survival reports about the saplings.\n",
            "This year, the targets set by the forest department were comparatively modest. For example, Pune Circle â€” which comprises three divisions in Pune and Solapur district â€” had planned to plant 17 lakh saplings on forest land. However, it may not meet the target due to unavailability of funds. Last year Pune Circle planted 70 lakh saplings on forest land.\n",
            "In Pune Division â€” which comprises six talukas namely Maval, Mulshi, Daund, Indapur, Baramati and Havveli â€” preparations were done for plantation of about 4 lakh trees with special emphasis on teakwood.\n",
            "The National Forest Policy aims and emphasizes at maintaining 33% of the countryâ€™s geographical area under forest and green cover. In view of this and as a part of the 50 crore plantation programme within Maharashtra, the Maharashtra Forest Department aims to plant 4 crore saplings all over the State betweenÂ 1st to July 7th, 2017Â to celebrateÂ â€˜Vanmohotsavâ€™.\n",
            "Â \n",
            "The plantation programme, which was announced in 2016 with the aim of plantingÂ 2 crore trees on 1stÂ July 2016 was a resounding success with the final total reported figure ofÂ 2.82 crore saplings plantedÂ on a single day. To maintain consistency of this platform without affecting its momentum, the Forest Department has set the target of plantation of 4 crore, 13 crore and 33 crore saplings under the mission of 50 crore plantation which shall be accomplished in the three consecutive years viz. 2017, 2018 and 2019.\n",
            "Â \n",
            "TheÂ 4 croreÂ saplings for the year 2017 will be planted during the Vanmohotsav,Â July 1st to July 7thÂ in a state-wide driveÂ with the involvement of 33 government departments along with Students of Schools and Colleges, NSS, NCC, CSR, NGOs, Railways, National Highways, Defence, NABARD and other stakeholders of Society.\n",
            "Â \n",
            "In a first of its kind, aÂ 24-hourÂ toll freeÂ helpline number 1926Â called â€˜Hello Forestâ€™ has been set up to provide information regarding plantation, protection and for mass awareness. The Forest Department has created aÂ mobile application called â€˜My Plantsâ€™Â to record details of the plantation such as numbers, species and location into the computer system of the Forest Department. All volunteers at individual, collective and organizational level should download and use this application to record their tree plantation work through the application, which will be operational from 1stÂ July to 7thÂ July.Â \n",
            "Â \n",
            "In consonance of the public participation, the Maharashtra Forest Department has initiated the â€˜Maharashtra Harit Senaâ€™/ â€˜Green Armyâ€™ which is a body of dedicated volunteers to participate in the plantation, protection, and activities in forest, wildlife, and related sectors around the year. Individuals and organisations interested in volunteering can register on the Green Army websiteÂ www.greenarmy.mahaforest.gov.in\n",
            "Â \n",
            "An integrated drive has been set in place to ensure seamless and successful participation from all stakeholders of society, especially the public.\n",
            "\n",
            "\n"
          ]
        }
      ],
      "source": [
        "print(doc)"
      ]
    },
    {
      "cell_type": "markdown",
      "metadata": {
        "id": "k_u6-vk4OoJw"
      },
      "source": [
        "**Tokenization**"
      ]
    },
    {
      "cell_type": "code",
      "execution_count": 26,
      "metadata": {
        "colab": {
          "base_uri": "https://localhost:8080/"
        },
        "id": "O_g7nJ3NOng-",
        "outputId": "2ef780a9-1d28-4c0e-e2b6-6f11dcb48890"
      },
      "outputs": [
        {
          "name": "stdout",
          "output_type": "stream",
          "text": [
            "['Between', '2016', 'and', '2019', ',', 'the', 'state', 'forest', 'department', 'under', 'theÂ', 'BJPÂ', 'government', 'had', 'launched', 'â€˜Green', 'Maharashtraâ€™', 'drive', 'with', 'an', 'aim', 'to', 'plant', '50', 'crore', 'trees', 'across', 'the', 'state', 'in', 'the', 'four-year', 'period', '.', 'In', 'October', '2019', ',', 'the', 'government', 'had', 'claimed', 'it', 'had', 'surpassed', 'the', 'target', 'by', 'planting', '33', 'crore', 'trees', 'in', 'July-September', '2019.Â', 'The', 'Indian', 'ExpressÂ', 'had', 'found', 'that', 'non-forest', 'agencies', 'â€', '”', 'such', 'as', 'gram', 'panchayats', 'â€', '”', 'which', 'were', 'tasked', 'with', 'planting', 'trees', 'had', 'not', 'uploaded', 'the', 'mandatory', 'audio-visual', 'proof', 'of', 'the', 'tree', 'plantation', 'drives', 'on', 'the', 'specially', 'created', 'portal', '.', 'In', 'Pune', 'Revenue', 'Division', ',', 'it', 'was', 'claimed', 'the', 'gram', 'panchayats', 'planted', '1.7', 'crore', 'saplings', ';', 'however', ',', 'no', 'evidence', 'was', 'uploaded', 'for', '87', 'per', 'cent', '(', '1.49', 'crore', ')', 'saplings', '.', 'Also', ',', 'out', 'of', 'the', '59', 'government', 'agencies', 'involved', 'in', 'the', 'drive', 'as', 'many', 'as', '38', 'had', 'not', 'submitted', 'survival', 'reports', 'about', 'the', 'saplings', '.', 'This', 'year', ',', 'the', 'targets', 'set', 'by', 'the', 'forest', 'department', 'were', 'comparatively', 'modest', '.', 'For', 'example', ',', 'Pune', 'Circle', 'â€', '”', 'which', 'comprises', 'three', 'divisions', 'in', 'Pune', 'and', 'Solapur', 'district', 'â€', '”', 'had', 'planned', 'to', 'plant', '17', 'lakh', 'saplings', 'on', 'forest', 'land', '.', 'However', ',', 'it', 'may', 'not', 'meet', 'the', 'target', 'due', 'to', 'unavailability', 'of', 'funds', '.', 'Last', 'year', 'Pune', 'Circle', 'planted', '70', 'lakh', 'saplings', 'on', 'forest', 'land', '.', 'In', 'Pune', 'Division', 'â€', '”', 'which', 'comprises', 'six', 'talukas', 'namely', 'Maval', ',', 'Mulshi', ',', 'Daund', ',', 'Indapur', ',', 'Baramati', 'and', 'Havveli', 'â€', '”', 'preparations', 'were', 'done', 'for', 'plantation', 'of', 'about', '4', 'lakh', 'trees', 'with', 'special', 'emphasis', 'on', 'teakwood', '.', 'The', 'National', 'Forest', 'Policy', 'aims', 'and', 'emphasizes', 'at', 'maintaining', '33', '%', 'of', 'the', 'countryâ€™s', 'geographical', 'area', 'under', 'forest', 'and', 'green', 'cover', '.', 'In', 'view', 'of', 'this', 'and', 'as', 'a', 'part', 'of', 'the', '50', 'crore', 'plantation', 'programme', 'within', 'Maharashtra', ',', 'the', 'Maharashtra', 'Forest', 'Department', 'aims', 'to', 'plant', '4', 'crore', 'saplings', 'all', 'over', 'the', 'State', 'betweenÂ', '1st', 'to', 'July', '7th', ',', '2017Â', 'to', 'celebrateÂ', 'â€˜Vanmohotsavâ€™', '.', 'Â', 'The', 'plantation', 'programme', ',', 'which', 'was', 'announced', 'in', '2016', 'with', 'the', 'aim', 'of', 'plantingÂ', '2', 'crore', 'trees', 'on', '1stÂ', 'July', '2016', 'was', 'a', 'resounding', 'success', 'with', 'the', 'final', 'total', 'reported', 'figure', 'ofÂ', '2.82', 'crore', 'saplings', 'plantedÂ', 'on', 'a', 'single', 'day', '.', 'To', 'maintain', 'consistency', 'of', 'this', 'platform', 'without', 'affecting', 'its', 'momentum', ',', 'the', 'Forest', 'Department', 'has', 'set', 'the', 'target', 'of', 'plantation', 'of', '4', 'crore', ',', '13', 'crore', 'and', '33', 'crore', 'saplings', 'under', 'the', 'mission', 'of', '50', 'crore', 'plantation', 'which', 'shall', 'be', 'accomplished', 'in', 'the', 'three', 'consecutive', 'years', 'viz', '.', '2017', ',', '2018', 'and', '2019', '.', 'Â', 'TheÂ', '4', 'croreÂ', 'saplings', 'for', 'the', 'year', '2017', 'will', 'be', 'planted', 'during', 'the', 'Vanmohotsav', ',', 'Â', 'July', '1st', 'to', 'July', '7thÂ', 'in', 'a', 'state-wide', 'driveÂ', 'with', 'the', 'involvement', 'of', '33', 'government', 'departments', 'along', 'with', 'Students', 'of', 'Schools', 'and', 'Colleges', ',', 'NSS', ',', 'NCC', ',', 'CSR', ',', 'NGOs', ',', 'Railways', ',', 'National', 'Highways', ',', 'Defence', ',', 'NABARD', 'and', 'other', 'stakeholders', 'of', 'Society', '.', 'Â', 'In', 'a', 'first', 'of', 'its', 'kind', ',', 'aÂ', '24-hourÂ', 'toll', 'freeÂ', 'helpline', 'number', '1926Â', 'called', 'â€˜Hello', 'Forestâ€™', 'has', 'been', 'set', 'up', 'to', 'provide', 'information', 'regarding', 'plantation', ',', 'protection', 'and', 'for', 'mass', 'awareness', '.', 'The', 'Forest', 'Department', 'has', 'created', 'aÂ', 'mobile', 'application', 'called', 'â€˜My', 'Plantsâ€™Â', 'to', 'record', 'details', 'of', 'the', 'plantation', 'such', 'as', 'numbers', ',', 'species', 'and', 'location', 'into', 'the', 'computer', 'system', 'of', 'the', 'Forest', 'Department', '.', 'All', 'volunteers', 'at', 'individual', ',', 'collective', 'and', 'organizational', 'level', 'should', 'download', 'and', 'use', 'this', 'application', 'to', 'record', 'their', 'tree', 'plantation', 'work', 'through', 'the', 'application', ',', 'which', 'will', 'be', 'operational', 'from', '1stÂ', 'July', 'to', '7thÂ', 'July.Â', 'Â', 'In', 'consonance', 'of', 'the', 'public', 'participation', ',', 'the', 'Maharashtra', 'Forest', 'Department', 'has', 'initiated', 'the', 'â€˜Maharashtra', 'Harit', 'Senaâ€™/', 'â€˜Green', 'Armyâ€™', 'which', 'is', 'a', 'body', 'of', 'dedicated', 'volunteers', 'to', 'participate', 'in', 'the', 'plantation', ',', 'protection', ',', 'and', 'activities', 'in', 'forest', ',', 'wildlife', ',', 'and', 'related', 'sectors', 'around', 'the', 'year', '.', 'Individuals', 'and', 'organisations', 'interested', 'in', 'volunteering', 'can', 'register', 'on', 'the', 'Green', 'Army', 'websiteÂ', 'www.greenarmy.mahaforest.gov.in', 'Â', 'An', 'integrated', 'drive', 'has', 'been', 'set', 'in', 'place', 'to', 'ensure', 'seamless', 'and', 'successful', 'participation', 'from', 'all', 'stakeholders', 'of', 'society', ',', 'especially', 'the', 'public', '.']\n"
          ]
        }
      ],
      "source": [
        "word_tokens = nltk.word_tokenize(doc)\n",
        "print(word_tokens)"
      ]
    },
    {
      "cell_type": "code",
      "execution_count": 27,
      "metadata": {
        "colab": {
          "base_uri": "https://localhost:8080/"
        },
        "id": "YLaHdrBeY4dZ",
        "outputId": "4ffde947-767c-40bc-ce15-038816ae1d7a"
      },
      "outputs": [
        {
          "name": "stderr",
          "output_type": "stream",
          "text": [
            "[nltk_data] Downloading package stopwords to\n",
            "[nltk_data]     C:\\Users\\Sahil\\AppData\\Roaming\\nltk_data...\n",
            "[nltk_data]   Package stopwords is already up-to-date!\n"
          ]
        },
        {
          "data": {
            "text/plain": [
              "True"
            ]
          },
          "execution_count": 27,
          "metadata": {},
          "output_type": "execute_result"
        }
      ],
      "source": [
        "nltk.download('stopwords')"
      ]
    },
    {
      "cell_type": "markdown",
      "metadata": {
        "id": "yiV7E80JXe0P"
      },
      "source": [
        "Stop Words"
      ]
    },
    {
      "cell_type": "code",
      "execution_count": 28,
      "metadata": {
        "colab": {
          "base_uri": "https://localhost:8080/"
        },
        "id": "7Lpu6Pi_Y6qu",
        "outputId": "16d3472d-1c7c-49fd-d425-e6d8a9c830ed"
      },
      "outputs": [
        {
          "name": "stdout",
          "output_type": "stream",
          "text": [
            "{\"needn't\", 'this', 's', 'just', 'don', 'that', \"couldn't\", \"mustn't\", \"we'll\", 'they', 'needn', \"you're\", \"they're\", \"it'll\", \"wasn't\", 'hadn', \"we're\", 'those', 'both', 'hers', 'than', 'll', 'about', 'but', 'haven', 'which', 'we', 'yourselves', \"that'll\", 'them', 'did', \"they'd\", 're', 'under', 'is', 'or', 'themselves', 'as', 'do', 'can', 'not', 'had', 'once', 'few', \"you've\", 'isn', 'to', 'all', 'nor', 'now', 'these', 'were', 'their', 'yours', \"they've\", 'y', \"she'd\", \"won't\", \"i've\", 'ourselves', \"you'd\", \"he's\", 'because', 'each', 'he', 'wouldn', 'further', \"shan't\", 'd', 'during', 'was', 'been', \"should've\", 'her', 'aren', 'an', 'mightn', 'same', 'your', 'no', 'above', 'yourself', 'when', \"he'd\", 'how', 'whom', 'it', 'm', 'after', 'weren', 'other', \"doesn't\", 'itself', 'any', \"i'd\", 'shouldn', 'having', \"i'm\", 'there', 'with', \"it's\", 'against', 'again', 'some', 'down', 'his', \"she's\", 'the', \"isn't\", \"wouldn't\", 'ours', 'if', 'of', 'most', 'wasn', \"didn't\", 'its', \"haven't\", 'where', 'here', 'who', \"weren't\", 'doesn', 'at', 'didn', 'between', 'him', 'herself', 'should', 'shan', 'won', \"he'll\", 'our', 'why', 'for', 'too', 'below', 'couldn', 'does', 'mustn', 'in', 'have', \"mightn't\", 'on', 'my', 'myself', \"don't\", \"hadn't\", 'she', 'me', \"i'll\", 'until', 'being', 'over', 'be', 'ain', \"you'll\", 'i', 'while', \"they'll\", 'will', 'you', 'from', 'doing', 'out', 'so', 'by', \"shouldn't\", 't', 'up', 've', \"hasn't\", \"aren't\", 'has', 'such', 'before', 'ma', 'then', 'into', 'am', \"it'd\", \"we'd\", 'a', 'are', \"we've\", 'himself', 'theirs', 'through', \"she'll\", 'more', 'off', 'and', 'what', 'own', 'hasn', 'only', 'very', 'o'}\n"
          ]
        }
      ],
      "source": [
        "from nltk.corpus import stopwords\n",
        "stop_words = set(stopwords.words('english'))\n",
        "print(stop_words)"
      ]
    },
    {
      "cell_type": "code",
      "execution_count": 29,
      "metadata": {
        "colab": {
          "base_uri": "https://localhost:8080/"
        },
        "id": "kbwsZvJjZK8V",
        "outputId": "8f5d9ab3-d891-4de7-d4fa-9af074398645"
      },
      "outputs": [
        {
          "name": "stdout",
          "output_type": "stream",
          "text": [
            "['Between', '2016', '2019', ',', 'state', 'forest', 'department', 'theÂ', 'BJPÂ', 'government', 'launched', 'â€˜Green', 'Maharashtraâ€™', 'drive', 'aim', 'plant', '50', 'crore', 'trees', 'across', 'state', 'four-year', 'period', '.', 'In', 'October', '2019', ',', 'government', 'claimed', 'surpassed', 'target', 'planting', '33', 'crore', 'trees', 'July-September', '2019.Â', 'The', 'Indian', 'ExpressÂ', 'found', 'non-forest', 'agencies', 'â€', '”', 'gram', 'panchayats', 'â€', '”', 'tasked', 'planting', 'trees', 'uploaded', 'mandatory', 'audio-visual', 'proof', 'tree', 'plantation', 'drives', 'specially', 'created', 'portal', '.', 'In', 'Pune', 'Revenue', 'Division', ',', 'claimed', 'gram', 'panchayats', 'planted', '1.7', 'crore', 'saplings', ';', 'however', ',', 'evidence', 'uploaded', '87', 'per', 'cent', '(', '1.49', 'crore', ')', 'saplings', '.', 'Also', ',', '59', 'government', 'agencies', 'involved', 'drive', 'many', '38', 'submitted', 'survival', 'reports', 'saplings', '.', 'This', 'year', ',', 'targets', 'set', 'forest', 'department', 'comparatively', 'modest', '.', 'For', 'example', ',', 'Pune', 'Circle', 'â€', '”', 'comprises', 'three', 'divisions', 'Pune', 'Solapur', 'district', 'â€', '”', 'planned', 'plant', '17', 'lakh', 'saplings', 'forest', 'land', '.', 'However', ',', 'may', 'meet', 'target', 'due', 'unavailability', 'funds', '.', 'Last', 'year', 'Pune', 'Circle', 'planted', '70', 'lakh', 'saplings', 'forest', 'land', '.', 'In', 'Pune', 'Division', 'â€', '”', 'comprises', 'six', 'talukas', 'namely', 'Maval', ',', 'Mulshi', ',', 'Daund', ',', 'Indapur', ',', 'Baramati', 'Havveli', 'â€', '”', 'preparations', 'done', 'plantation', '4', 'lakh', 'trees', 'special', 'emphasis', 'teakwood', '.', 'The', 'National', 'Forest', 'Policy', 'aims', 'emphasizes', 'maintaining', '33', '%', 'countryâ€™s', 'geographical', 'area', 'forest', 'green', 'cover', '.', 'In', 'view', 'part', '50', 'crore', 'plantation', 'programme', 'within', 'Maharashtra', ',', 'Maharashtra', 'Forest', 'Department', 'aims', 'plant', '4', 'crore', 'saplings', 'State', 'betweenÂ', '1st', 'July', '7th', ',', '2017Â', 'celebrateÂ', 'â€˜Vanmohotsavâ€™', '.', 'Â', 'The', 'plantation', 'programme', ',', 'announced', '2016', 'aim', 'plantingÂ', '2', 'crore', 'trees', '1stÂ', 'July', '2016', 'resounding', 'success', 'final', 'total', 'reported', 'figure', 'ofÂ', '2.82', 'crore', 'saplings', 'plantedÂ', 'single', 'day', '.', 'To', 'maintain', 'consistency', 'platform', 'without', 'affecting', 'momentum', ',', 'Forest', 'Department', 'set', 'target', 'plantation', '4', 'crore', ',', '13', 'crore', '33', 'crore', 'saplings', 'mission', '50', 'crore', 'plantation', 'shall', 'accomplished', 'three', 'consecutive', 'years', 'viz', '.', '2017', ',', '2018', '2019', '.', 'Â', 'TheÂ', '4', 'croreÂ', 'saplings', 'year', '2017', 'planted', 'Vanmohotsav', ',', 'Â', 'July', '1st', 'July', '7thÂ', 'state-wide', 'driveÂ', 'involvement', '33', 'government', 'departments', 'along', 'Students', 'Schools', 'Colleges', ',', 'NSS', ',', 'NCC', ',', 'CSR', ',', 'NGOs', ',', 'Railways', ',', 'National', 'Highways', ',', 'Defence', ',', 'NABARD', 'stakeholders', 'Society', '.', 'Â', 'In', 'first', 'kind', ',', 'aÂ', '24-hourÂ', 'toll', 'freeÂ', 'helpline', 'number', '1926Â', 'called', 'â€˜Hello', 'Forestâ€™', 'set', 'provide', 'information', 'regarding', 'plantation', ',', 'protection', 'mass', 'awareness', '.', 'The', 'Forest', 'Department', 'created', 'aÂ', 'mobile', 'application', 'called', 'â€˜My', 'Plantsâ€™Â', 'record', 'details', 'plantation', 'numbers', ',', 'species', 'location', 'computer', 'system', 'Forest', 'Department', '.', 'All', 'volunteers', 'individual', ',', 'collective', 'organizational', 'level', 'download', 'use', 'application', 'record', 'tree', 'plantation', 'work', 'application', ',', 'operational', '1stÂ', 'July', '7thÂ', 'July.Â', 'Â', 'In', 'consonance', 'public', 'participation', ',', 'Maharashtra', 'Forest', 'Department', 'initiated', 'â€˜Maharashtra', 'Harit', 'Senaâ€™/', 'â€˜Green', 'Armyâ€™', 'body', 'dedicated', 'volunteers', 'participate', 'plantation', ',', 'protection', ',', 'activities', 'forest', ',', 'wildlife', ',', 'related', 'sectors', 'around', 'year', '.', 'Individuals', 'organisations', 'interested', 'volunteering', 'register', 'Green', 'Army', 'websiteÂ', 'www.greenarmy.mahaforest.gov.in', 'Â', 'An', 'integrated', 'drive', 'set', 'place', 'ensure', 'seamless', 'successful', 'participation', 'stakeholders', 'society', ',', 'especially', 'public', '.']\n"
          ]
        }
      ],
      "source": [
        "word_tokens=[word for word in word_tokens if word not in stop_words]\n",
        "print(word_tokens)"
      ]
    },
    {
      "cell_type": "code",
      "execution_count": 30,
      "metadata": {
        "colab": {
          "base_uri": "https://localhost:8080/"
        },
        "id": "sJ1t27ozfX0H",
        "outputId": "e366f52e-ee26-4287-a13e-9f21201f8b0b"
      },
      "outputs": [
        {
          "name": "stdout",
          "output_type": "stream",
          "text": [
            "[('Between', 'IN'), ('2016', 'CD'), ('2019', 'CD'), (',', ','), ('state', 'NN'), ('forest', 'JJS'), ('department', 'NN'), ('theÂ', 'NN'), ('BJPÂ', 'NNP'), ('government', 'NN'), ('launched', 'VBD'), ('â€˜Green', 'JJ'), ('Maharashtraâ€™', 'NNP'), ('drive', 'NN'), ('aim', 'NN'), ('plant', 'NN'), ('50', 'CD'), ('crore', 'NN'), ('trees', 'NNS'), ('across', 'IN'), ('state', 'NN'), ('four-year', 'JJ'), ('period', 'NN'), ('.', '.'), ('In', 'IN'), ('October', 'NNP'), ('2019', 'CD'), (',', ','), ('government', 'NN'), ('claimed', 'VBD'), ('surpassed', 'JJ'), ('target', 'NN'), ('planting', 'VBG'), ('33', 'CD'), ('crore', 'NN'), ('trees', 'NNS'), ('July-September', 'NNP'), ('2019.Â', 'CD'), ('The', 'DT'), ('Indian', 'JJ'), ('ExpressÂ', 'NNP'), ('found', 'VBD'), ('non-forest', 'JJS'), ('agencies', 'NNS'), ('â€', 'VBP'), ('”', 'JJ'), ('gram', 'NN'), ('panchayats', 'NNS'), ('â€', 'VBP'), ('”', 'JJ'), ('tasked', 'VBN'), ('planting', 'NN'), ('trees', 'NNS'), ('uploaded', 'JJ'), ('mandatory', 'JJ'), ('audio-visual', 'JJ'), ('proof', 'NN'), ('tree', 'JJ'), ('plantation', 'NN'), ('drives', 'NNS'), ('specially', 'RB'), ('created', 'VBD'), ('portal', 'JJ'), ('.', '.'), ('In', 'IN'), ('Pune', 'NNP'), ('Revenue', 'NNP'), ('Division', 'NNP'), (',', ','), ('claimed', 'VBD'), ('gram', 'JJ'), ('panchayats', 'NNS'), ('planted', 'VBD'), ('1.7', 'CD'), ('crore', 'NN'), ('saplings', 'NNS'), (';', ':'), ('however', 'RB'), (',', ','), ('evidence', 'NN'), ('uploaded', 'VBD'), ('87', 'CD'), ('per', 'IN'), ('cent', 'NN'), ('(', '('), ('1.49', 'CD'), ('crore', 'NN'), (')', ')'), ('saplings', 'NNS'), ('.', '.'), ('Also', 'RB'), (',', ','), ('59', 'CD'), ('government', 'NN'), ('agencies', 'NNS'), ('involved', 'VBD'), ('drive', 'JJ'), ('many', 'JJ'), ('38', 'CD'), ('submitted', 'VBD'), ('survival', 'NN'), ('reports', 'NNS'), ('saplings', 'NNS'), ('.', '.'), ('This', 'DT'), ('year', 'NN'), (',', ','), ('targets', 'NNS'), ('set', 'VBP'), ('forest', 'JJS'), ('department', 'NN'), ('comparatively', 'RB'), ('modest', 'JJ'), ('.', '.'), ('For', 'IN'), ('example', 'NN'), (',', ','), ('Pune', 'NNP'), ('Circle', 'NNP'), ('â€', 'NNP'), ('”', 'NNP'), ('comprises', 'VBZ'), ('three', 'CD'), ('divisions', 'NNS'), ('Pune', 'NNP'), ('Solapur', 'NNP'), ('district', 'NN'), ('â€', 'NNP'), ('”', 'NNP'), ('planned', 'VBD'), ('plant', 'NN'), ('17', 'CD'), ('lakh', 'JJ'), ('saplings', 'NNS'), ('forest', 'JJS'), ('land', 'NN'), ('.', '.'), ('However', 'RB'), (',', ','), ('may', 'MD'), ('meet', 'VB'), ('target', 'NN'), ('due', 'JJ'), ('unavailability', 'NN'), ('funds', 'NNS'), ('.', '.'), ('Last', 'JJ'), ('year', 'NN'), ('Pune', 'NNP'), ('Circle', 'NNP'), ('planted', 'VBD'), ('70', 'CD'), ('lakh', 'JJ'), ('saplings', 'NNS'), ('forest', 'JJS'), ('land', 'NN'), ('.', '.'), ('In', 'IN'), ('Pune', 'NNP'), ('Division', 'NNP'), ('â€', 'NNP'), ('”', 'NNP'), ('comprises', 'VBZ'), ('six', 'CD'), ('talukas', 'NN'), ('namely', 'RB'), ('Maval', 'NNP'), (',', ','), ('Mulshi', 'NNP'), (',', ','), ('Daund', 'NNP'), (',', ','), ('Indapur', 'NNP'), (',', ','), ('Baramati', 'NNP'), ('Havveli', 'NNP'), ('â€', 'NNP'), ('”', 'NNP'), ('preparations', 'NNS'), ('done', 'VBN'), ('plantation', 'NN'), ('4', 'CD'), ('lakh', 'NN'), ('trees', 'NNS'), ('special', 'JJ'), ('emphasis', 'NN'), ('teakwood', 'NN'), ('.', '.'), ('The', 'DT'), ('National', 'NNP'), ('Forest', 'NNP'), ('Policy', 'NNP'), ('aims', 'VBZ'), ('emphasizes', 'VBZ'), ('maintaining', 'VBG'), ('33', 'CD'), ('%', 'NN'), ('countryâ€™s', 'JJ'), ('geographical', 'JJ'), ('area', 'NN'), ('forest', 'JJS'), ('green', 'JJ'), ('cover', 'NN'), ('.', '.'), ('In', 'IN'), ('view', 'NN'), ('part', 'NN'), ('50', 'CD'), ('crore', 'NN'), ('plantation', 'NN'), ('programme', 'NN'), ('within', 'IN'), ('Maharashtra', 'NNP'), (',', ','), ('Maharashtra', 'NNP'), ('Forest', 'NNP'), ('Department', 'NNP'), ('aims', 'VBZ'), ('plant', 'NN'), ('4', 'CD'), ('crore', 'NN'), ('saplings', 'NNS'), ('State', 'NNP'), ('betweenÂ', 'VBD'), ('1st', 'CD'), ('July', 'NNP'), ('7th', 'CD'), (',', ','), ('2017Â', 'CD'), ('celebrateÂ', 'NN'), ('â€˜Vanmohotsavâ€™', 'NN'), ('.', '.'), ('Â', 'VB'), ('The', 'DT'), ('plantation', 'NN'), ('programme', 'NN'), (',', ','), ('announced', 'VBD'), ('2016', 'CD'), ('aim', 'NN'), ('plantingÂ', 'VBD'), ('2', 'CD'), ('crore', 'NN'), ('trees', 'NNS'), ('1stÂ', 'CD'), ('July', 'NNP'), ('2016', 'CD'), ('resounding', 'VBG'), ('success', 'NN'), ('final', 'JJ'), ('total', 'NN'), ('reported', 'VBD'), ('figure', 'NN'), ('ofÂ', 'NN'), ('2.82', 'CD'), ('crore', 'NN'), ('saplings', 'NNS'), ('plantedÂ', 'VBP'), ('single', 'JJ'), ('day', 'NN'), ('.', '.'), ('To', 'TO'), ('maintain', 'VB'), ('consistency', 'NN'), ('platform', 'NN'), ('without', 'IN'), ('affecting', 'VBG'), ('momentum', 'NN'), (',', ','), ('Forest', 'NNP'), ('Department', 'NNP'), ('set', 'VBD'), ('target', 'NN'), ('plantation', 'NN'), ('4', 'CD'), ('crore', 'NN'), (',', ','), ('13', 'CD'), ('crore', 'NN'), ('33', 'CD'), ('crore', 'NN'), ('saplings', 'NNS'), ('mission', 'NN'), ('50', 'CD'), ('crore', 'NN'), ('plantation', 'NN'), ('shall', 'MD'), ('accomplished', 'VB'), ('three', 'CD'), ('consecutive', 'JJ'), ('years', 'NNS'), ('viz', 'RB'), ('.', '.'), ('2017', 'CD'), (',', ','), ('2018', 'CD'), ('2019', 'CD'), ('.', '.'), ('Â', 'VB'), ('TheÂ', 'NNP'), ('4', 'CD'), ('croreÂ', 'NN'), ('saplings', 'NNS'), ('year', 'NN'), ('2017', 'CD'), ('planted', 'VBD'), ('Vanmohotsav', 'NNP'), (',', ','), ('Â', 'NNP'), ('July', 'NNP'), ('1st', 'CD'), ('July', 'NNP'), ('7thÂ', 'CD'), ('state-wide', 'JJ'), ('driveÂ', 'NN'), ('involvement', 'NN'), ('33', 'CD'), ('government', 'NN'), ('departments', 'NNS'), ('along', 'IN'), ('Students', 'NNS'), ('Schools', 'NNP'), ('Colleges', 'NNP'), (',', ','), ('NSS', 'NNP'), (',', ','), ('NCC', 'NNP'), (',', ','), ('CSR', 'NNP'), (',', ','), ('NGOs', 'NNP'), (',', ','), ('Railways', 'NNP'), (',', ','), ('National', 'NNP'), ('Highways', 'NNP'), (',', ','), ('Defence', 'NNP'), (',', ','), ('NABARD', 'NNP'), ('stakeholders', 'VBZ'), ('Society', 'NNP'), ('.', '.'), ('Â', 'NN'), ('In', 'IN'), ('first', 'JJ'), ('kind', 'NN'), (',', ','), ('aÂ', 'JJ'), ('24-hourÂ', 'JJ'), ('toll', 'NN'), ('freeÂ', 'NN'), ('helpline', 'NN'), ('number', 'NN'), ('1926Â', 'CD'), ('called', 'VBN'), ('â€˜Hello', 'NN'), ('Forestâ€™', 'NNP'), ('set', 'VBD'), ('provide', 'JJ'), ('information', 'NN'), ('regarding', 'VBG'), ('plantation', 'NN'), (',', ','), ('protection', 'NN'), ('mass', 'NN'), ('awareness', 'NN'), ('.', '.'), ('The', 'DT'), ('Forest', 'NNP'), ('Department', 'NNP'), ('created', 'VBD'), ('aÂ', 'RB'), ('mobile', 'JJ'), ('application', 'NN'), ('called', 'VBN'), ('â€˜My', 'NNP'), ('Plantsâ€™Â', 'NNP'), ('record', 'NN'), ('details', 'NNS'), ('plantation', 'NN'), ('numbers', 'NNS'), (',', ','), ('species', 'NNS'), ('location', 'VBP'), ('computer', 'NN'), ('system', 'NN'), ('Forest', 'NNP'), ('Department', 'NNP'), ('.', '.'), ('All', 'NNP'), ('volunteers', 'NNS'), ('individual', 'JJ'), (',', ','), ('collective', 'JJ'), ('organizational', 'JJ'), ('level', 'NN'), ('download', 'NN'), ('use', 'NN'), ('application', 'NN'), ('record', 'NN'), ('tree', 'NN'), ('plantation', 'NN'), ('work', 'NN'), ('application', 'NN'), (',', ','), ('operational', 'JJ'), ('1stÂ', 'CD'), ('July', 'NNP'), ('7thÂ', 'CD'), ('July.Â', 'NNP'), ('Â', 'NN'), ('In', 'IN'), ('consonance', 'NN'), ('public', 'JJ'), ('participation', 'NN'), (',', ','), ('Maharashtra', 'NNP'), ('Forest', 'NNP'), ('Department', 'NNP'), ('initiated', 'VBD'), ('â€˜Maharashtra', 'NNP'), ('Harit', 'NNP'), ('Senaâ€™/', 'NNP'), ('â€˜Green', 'NNP'), ('Armyâ€™', 'NNP'), ('body', 'NN'), ('dedicated', 'VBD'), ('volunteers', 'NNS'), ('participate', 'JJ'), ('plantation', 'NN'), (',', ','), ('protection', 'NN'), (',', ','), ('activities', 'NNS'), ('forest', 'VBP'), (',', ','), ('wildlife', 'NN'), (',', ','), ('related', 'JJ'), ('sectors', 'NNS'), ('around', 'IN'), ('year', 'NN'), ('.', '.'), ('Individuals', 'NNS'), ('organisations', 'NNS'), ('interested', 'JJ'), ('volunteering', 'VBG'), ('register', 'NN'), ('Green', 'NNP'), ('Army', 'NNP'), ('websiteÂ', 'NN'), ('www.greenarmy.mahaforest.gov.in', 'NN'), ('Â', 'VBD'), ('An', 'DT'), ('integrated', 'JJ'), ('drive', 'NN'), ('set', 'VBN'), ('place', 'NN'), ('ensure', 'VB'), ('seamless', 'JJ'), ('successful', 'JJ'), ('participation', 'NN'), ('stakeholders', 'NNS'), ('society', 'NN'), (',', ','), ('especially', 'RB'), ('public', 'JJ'), ('.', '.')]\n"
          ]
        }
      ],
      "source": [
        "tagged=nltk.pos_tag(word_tokens)\n",
        "print(tagged)"
      ]
    },
    {
      "cell_type": "markdown",
      "metadata": {
        "id": "mg3il_IVgeFF"
      },
      "source": [
        "Stemming & Lemmatization"
      ]
    },
    {
      "cell_type": "code",
      "execution_count": 31,
      "metadata": {
        "id": "6rjaQU09ggrA"
      },
      "outputs": [],
      "source": [
        "from nltk.stem import PorterStemmer, WordNetLemmatizer"
      ]
    },
    {
      "cell_type": "code",
      "execution_count": 32,
      "metadata": {
        "id": "OAsH2ZEKi_rl"
      },
      "outputs": [],
      "source": [
        "lemmatizer = WordNetLemmatizer()\n",
        "stemmer = PorterStemmer()"
      ]
    },
    {
      "cell_type": "code",
      "execution_count": 33,
      "metadata": {
        "colab": {
          "base_uri": "https://localhost:8080/"
        },
        "id": "FLMXKMJGkjD7",
        "outputId": "49ec8a87-b1b3-4925-aae3-34f3fb9fe8e1"
      },
      "outputs": [
        {
          "name": "stdout",
          "output_type": "stream",
          "text": [
            "Lemmatized tokens:\n",
            "\n",
            "['Between', '2016', '2019', ',', 'state', 'forest', 'department', 'theÂ', 'BJPÂ', 'government', 'launched', 'â€˜Green', 'Maharashtraâ€™', 'drive', 'aim', 'plant', '50', 'crore', 'tree', 'across', 'state', 'four-year', 'period', '.', 'In', 'October', '2019', ',', 'government', 'claimed', 'surpassed', 'target', 'planting', '33', 'crore', 'tree', 'July-September', '2019.Â', 'The', 'Indian', 'ExpressÂ', 'found', 'non-forest', 'agency', 'â€', '”', 'gram', 'panchayat', 'â€', '”', 'tasked', 'planting', 'tree', 'uploaded', 'mandatory', 'audio-visual', 'proof', 'tree', 'plantation', 'drive', 'specially', 'created', 'portal', '.', 'In', 'Pune', 'Revenue', 'Division', ',', 'claimed', 'gram', 'panchayat', 'planted', '1.7', 'crore', 'sapling', ';', 'however', ',', 'evidence', 'uploaded', '87', 'per', 'cent', '(', '1.49', 'crore', ')', 'sapling', '.', 'Also', ',', '59', 'government', 'agency', 'involved', 'drive', 'many', '38', 'submitted', 'survival', 'report', 'sapling', '.', 'This', 'year', ',', 'target', 'set', 'forest', 'department', 'comparatively', 'modest', '.', 'For', 'example', ',', 'Pune', 'Circle', 'â€', '”', 'comprises', 'three', 'division', 'Pune', 'Solapur', 'district', 'â€', '”', 'planned', 'plant', '17', 'lakh', 'sapling', 'forest', 'land', '.', 'However', ',', 'may', 'meet', 'target', 'due', 'unavailability', 'fund', '.', 'Last', 'year', 'Pune', 'Circle', 'planted', '70', 'lakh', 'sapling', 'forest', 'land', '.', 'In', 'Pune', 'Division', 'â€', '”', 'comprises', 'six', 'talukas', 'namely', 'Maval', ',', 'Mulshi', ',', 'Daund', ',', 'Indapur', ',', 'Baramati', 'Havveli', 'â€', '”', 'preparation', 'done', 'plantation', '4', 'lakh', 'tree', 'special', 'emphasis', 'teakwood', '.', 'The', 'National', 'Forest', 'Policy', 'aim', 'emphasizes', 'maintaining', '33', '%', 'countryâ€™s', 'geographical', 'area', 'forest', 'green', 'cover', '.', 'In', 'view', 'part', '50', 'crore', 'plantation', 'programme', 'within', 'Maharashtra', ',', 'Maharashtra', 'Forest', 'Department', 'aim', 'plant', '4', 'crore', 'sapling', 'State', 'betweenÂ', '1st', 'July', '7th', ',', '2017Â', 'celebrateÂ', 'â€˜Vanmohotsavâ€™', '.', 'Â', 'The', 'plantation', 'programme', ',', 'announced', '2016', 'aim', 'plantingÂ', '2', 'crore', 'tree', '1stÂ', 'July', '2016', 'resounding', 'success', 'final', 'total', 'reported', 'figure', 'ofÂ', '2.82', 'crore', 'sapling', 'plantedÂ', 'single', 'day', '.', 'To', 'maintain', 'consistency', 'platform', 'without', 'affecting', 'momentum', ',', 'Forest', 'Department', 'set', 'target', 'plantation', '4', 'crore', ',', '13', 'crore', '33', 'crore', 'sapling', 'mission', '50', 'crore', 'plantation', 'shall', 'accomplished', 'three', 'consecutive', 'year', 'viz', '.', '2017', ',', '2018', '2019', '.', 'Â', 'TheÂ', '4', 'croreÂ', 'sapling', 'year', '2017', 'planted', 'Vanmohotsav', ',', 'Â', 'July', '1st', 'July', '7thÂ', 'state-wide', 'driveÂ', 'involvement', '33', 'government', 'department', 'along', 'Students', 'Schools', 'Colleges', ',', 'NSS', ',', 'NCC', ',', 'CSR', ',', 'NGOs', ',', 'Railways', ',', 'National', 'Highways', ',', 'Defence', ',', 'NABARD', 'stakeholder', 'Society', '.', 'Â', 'In', 'first', 'kind', ',', 'aÂ', '24-hourÂ', 'toll', 'freeÂ', 'helpline', 'number', '1926Â', 'called', 'â€˜Hello', 'Forestâ€™', 'set', 'provide', 'information', 'regarding', 'plantation', ',', 'protection', 'mass', 'awareness', '.', 'The', 'Forest', 'Department', 'created', 'aÂ', 'mobile', 'application', 'called', 'â€˜My', 'Plantsâ€™Â', 'record', 'detail', 'plantation', 'number', ',', 'specie', 'location', 'computer', 'system', 'Forest', 'Department', '.', 'All', 'volunteer', 'individual', ',', 'collective', 'organizational', 'level', 'download', 'use', 'application', 'record', 'tree', 'plantation', 'work', 'application', ',', 'operational', '1stÂ', 'July', '7thÂ', 'July.Â', 'Â', 'In', 'consonance', 'public', 'participation', ',', 'Maharashtra', 'Forest', 'Department', 'initiated', 'â€˜Maharashtra', 'Harit', 'Senaâ€™/', 'â€˜Green', 'Armyâ€™', 'body', 'dedicated', 'volunteer', 'participate', 'plantation', ',', 'protection', ',', 'activity', 'forest', ',', 'wildlife', ',', 'related', 'sector', 'around', 'year', '.', 'Individuals', 'organisation', 'interested', 'volunteering', 'register', 'Green', 'Army', 'websiteÂ', 'www.greenarmy.mahaforest.gov.in', 'Â', 'An', 'integrated', 'drive', 'set', 'place', 'ensure', 'seamless', 'successful', 'participation', 'stakeholder', 'society', ',', 'especially', 'public', '.']\n",
            "steamed tokens:\n",
            "\n",
            "['between', '2016', '2019', ',', 'state', 'forest', 'depart', 'theâ', 'bjpâ', 'govern', 'launch', 'â€˜green', 'maharashtraâ€™', 'drive', 'aim', 'plant', '50', 'crore', 'tree', 'across', 'state', 'four-year', 'period', '.', 'in', 'octob', '2019', ',', 'govern', 'claim', 'surpass', 'target', 'plant', '33', 'crore', 'tree', 'july-septemb', '2019.â', 'the', 'indian', 'expressâ', 'found', 'non-forest', 'agenc', 'â€', '”', 'gram', 'panchayat', 'â€', '”', 'task', 'plant', 'tree', 'upload', 'mandatori', 'audio-visu', 'proof', 'tree', 'plantat', 'drive', 'special', 'creat', 'portal', '.', 'in', 'pune', 'revenu', 'divis', ',', 'claim', 'gram', 'panchayat', 'plant', '1.7', 'crore', 'sapl', ';', 'howev', ',', 'evid', 'upload', '87', 'per', 'cent', '(', '1.49', 'crore', ')', 'sapl', '.', 'also', ',', '59', 'govern', 'agenc', 'involv', 'drive', 'mani', '38', 'submit', 'surviv', 'report', 'sapl', '.', 'thi', 'year', ',', 'target', 'set', 'forest', 'depart', 'compar', 'modest', '.', 'for', 'exampl', ',', 'pune', 'circl', 'â€', '”', 'compris', 'three', 'divis', 'pune', 'solapur', 'district', 'â€', '”', 'plan', 'plant', '17', 'lakh', 'sapl', 'forest', 'land', '.', 'howev', ',', 'may', 'meet', 'target', 'due', 'unavail', 'fund', '.', 'last', 'year', 'pune', 'circl', 'plant', '70', 'lakh', 'sapl', 'forest', 'land', '.', 'in', 'pune', 'divis', 'â€', '”', 'compris', 'six', 'taluka', 'name', 'maval', ',', 'mulshi', ',', 'daund', ',', 'indapur', ',', 'baramati', 'havv', 'â€', '”', 'prepar', 'done', 'plantat', '4', 'lakh', 'tree', 'special', 'emphasi', 'teakwood', '.', 'the', 'nation', 'forest', 'polici', 'aim', 'emphas', 'maintain', '33', '%', 'countryâ€™', 'geograph', 'area', 'forest', 'green', 'cover', '.', 'in', 'view', 'part', '50', 'crore', 'plantat', 'programm', 'within', 'maharashtra', ',', 'maharashtra', 'forest', 'depart', 'aim', 'plant', '4', 'crore', 'sapl', 'state', 'betweenâ', '1st', 'juli', '7th', ',', '2017â', 'celebrateâ', 'â€˜vanmohotsavâ€™', '.', 'â', 'the', 'plantat', 'programm', ',', 'announc', '2016', 'aim', 'plantingâ', '2', 'crore', 'tree', '1stâ', 'juli', '2016', 'resound', 'success', 'final', 'total', 'report', 'figur', 'ofâ', '2.82', 'crore', 'sapl', 'plantedâ', 'singl', 'day', '.', 'to', 'maintain', 'consist', 'platform', 'without', 'affect', 'momentum', ',', 'forest', 'depart', 'set', 'target', 'plantat', '4', 'crore', ',', '13', 'crore', '33', 'crore', 'sapl', 'mission', '50', 'crore', 'plantat', 'shall', 'accomplish', 'three', 'consecut', 'year', 'viz', '.', '2017', ',', '2018', '2019', '.', 'â', 'theâ', '4', 'croreâ', 'sapl', 'year', '2017', 'plant', 'vanmohotsav', ',', 'â', 'juli', '1st', 'juli', '7thâ', 'state-wid', 'driveâ', 'involv', '33', 'govern', 'depart', 'along', 'student', 'school', 'colleg', ',', 'nss', ',', 'ncc', ',', 'csr', ',', 'ngo', ',', 'railway', ',', 'nation', 'highway', ',', 'defenc', ',', 'nabard', 'stakehold', 'societi', '.', 'â', 'in', 'first', 'kind', ',', 'aâ', '24-hourâ', 'toll', 'freeâ', 'helplin', 'number', '1926â', 'call', 'â€˜hello', 'forestâ€™', 'set', 'provid', 'inform', 'regard', 'plantat', ',', 'protect', 'mass', 'awar', '.', 'the', 'forest', 'depart', 'creat', 'aâ', 'mobil', 'applic', 'call', 'â€˜mi', 'plantsâ€™â', 'record', 'detail', 'plantat', 'number', ',', 'speci', 'locat', 'comput', 'system', 'forest', 'depart', '.', 'all', 'volunt', 'individu', ',', 'collect', 'organiz', 'level', 'download', 'use', 'applic', 'record', 'tree', 'plantat', 'work', 'applic', ',', 'oper', '1stâ', 'juli', '7thâ', 'july.â', 'â', 'in', 'conson', 'public', 'particip', ',', 'maharashtra', 'forest', 'depart', 'initi', 'â€˜maharashtra', 'harit', 'senaâ€™/', 'â€˜green', 'armyâ€™', 'bodi', 'dedic', 'volunt', 'particip', 'plantat', ',', 'protect', ',', 'activ', 'forest', ',', 'wildlif', ',', 'relat', 'sector', 'around', 'year', '.', 'individu', 'organis', 'interest', 'volunt', 'regist', 'green', 'armi', 'websiteâ', 'www.greenarmy.mahaforest.gov.in', 'â', 'an', 'integr', 'drive', 'set', 'place', 'ensur', 'seamless', 'success', 'particip', 'stakehold', 'societi', ',', 'especi', 'public', '.']\n"
          ]
        }
      ],
      "source": [
        "def lemandstem(tokens):\n",
        "  lemmatized_tokens = [lemmatizer.lemmatize(word) for word in tokens]\n",
        "  stemmed_tokens = [stemmer.stem(word) for word in lemmatized_tokens]\n",
        "  return lemmatized_tokens,stemmed_tokens\n",
        "\n",
        "lemtokens,steamtokens=lemandstem(word_tokens)\n",
        "print(\"Lemmatized tokens:\\n\")\n",
        "print(lemtokens)\n",
        "print(\"steamed tokens:\\n\")\n",
        "print(steamtokens)\n"
      ]
    },
    {
      "cell_type": "markdown",
      "metadata": {
        "id": "MkSiS3LH88O-"
      },
      "source": [
        "Since stemming is giving improper words, we will use lemmatized tokens in the further steps"
      ]
    },
    {
      "cell_type": "markdown",
      "metadata": {
        "id": "EWT39aHqSmLE"
      },
      "source": [
        "**TF-IDF**"
      ]
    },
    {
      "cell_type": "markdown",
      "metadata": {
        "id": "YHRvnyQKVc0L"
      },
      "source": [
        "Term Frequency"
      ]
    },
    {
      "cell_type": "code",
      "execution_count": 34,
      "metadata": {
        "id": "nQUq58l7Sp1d"
      },
      "outputs": [],
      "source": [
        "def cal_tf(doc):\n",
        "  word_tokens=nltk.word_tokenize(doc)\n",
        "  tf_dict=dict()\n",
        "  for word in word_tokens:\n",
        "    tf_dict[word]=word_tokens.count(word)\n",
        "  tf=dict()\n",
        "  for word,cnt in tf_dict.items():\n",
        "    tf[word]=cnt/len(tf_dict)\n",
        "  return tf"
      ]
    },
    {
      "cell_type": "code",
      "execution_count": 35,
      "metadata": {
        "id": "YfTOEPFCUhwj"
      },
      "outputs": [],
      "source": [
        "tf_doc1=cal_tf(doc)\n",
        "tf_doc2=cal_tf(doc2)"
      ]
    },
    {
      "cell_type": "code",
      "execution_count": 36,
      "metadata": {
        "colab": {
          "base_uri": "https://localhost:8080/"
        },
        "id": "QA-LUHsDUuRx",
        "outputId": "a12e07c2-5102-4eb7-d2d2-c845ef47425d"
      },
      "outputs": [
        {
          "name": "stdout",
          "output_type": "stream",
          "text": [
            "{'Between': 0.003194888178913738, '2016': 0.009584664536741214, 'and': 0.05750798722044728, '2019': 0.009584664536741214, ',': 0.12140575079872204, 'the': 0.12460063897763578, 'state': 0.006389776357827476, 'forest': 0.019169329073482427, 'department': 0.006389776357827476, 'under': 0.009584664536741214, 'theÂ': 0.003194888178913738, 'BJPÂ': 0.003194888178913738, 'government': 0.012779552715654952, 'had': 0.022364217252396165, 'launched': 0.003194888178913738, 'â€˜Green': 0.006389776357827476, 'Maharashtraâ€™': 0.003194888178913738, 'drive': 0.009584664536741214, 'with': 0.022364217252396165, 'an': 0.003194888178913738, 'aim': 0.006389776357827476, 'to': 0.04153354632587859, 'plant': 0.009584664536741214, '50': 0.009584664536741214, 'crore': 0.038338658146964855, 'trees': 0.01597444089456869, 'across': 0.003194888178913738, 'in': 0.03514376996805112, 'four-year': 0.003194888178913738, 'period': 0.003194888178913738, '.': 0.06070287539936102, 'In': 0.019169329073482427, 'October': 0.003194888178913738, 'claimed': 0.006389776357827476, 'it': 0.009584664536741214, 'surpassed': 0.003194888178913738, 'target': 0.009584664536741214, 'by': 0.006389776357827476, 'planting': 0.006389776357827476, '33': 0.012779552715654952, 'July-September': 0.003194888178913738, '2019.Â': 0.003194888178913738, 'The': 0.012779552715654952, 'Indian': 0.003194888178913738, 'ExpressÂ': 0.003194888178913738, 'found': 0.003194888178913738, 'that': 0.003194888178913738, 'non-forest': 0.003194888178913738, 'agencies': 0.006389776357827476, 'â€': 0.019169329073482427, '”': 0.019169329073482427, 'such': 0.006389776357827476, 'as': 0.01597444089456869, 'gram': 0.006389776357827476, 'panchayats': 0.006389776357827476, 'which': 0.022364217252396165, 'were': 0.009584664536741214, 'tasked': 0.003194888178913738, 'not': 0.009584664536741214, 'uploaded': 0.006389776357827476, 'mandatory': 0.003194888178913738, 'audio-visual': 0.003194888178913738, 'proof': 0.003194888178913738, 'of': 0.0670926517571885, 'tree': 0.006389776357827476, 'plantation': 0.03194888178913738, 'drives': 0.003194888178913738, 'on': 0.022364217252396165, 'specially': 0.003194888178913738, 'created': 0.006389776357827476, 'portal': 0.003194888178913738, 'Pune': 0.01597444089456869, 'Revenue': 0.003194888178913738, 'Division': 0.006389776357827476, 'was': 0.012779552715654952, 'planted': 0.009584664536741214, '1.7': 0.003194888178913738, 'saplings': 0.02875399361022364, ';': 0.003194888178913738, 'however': 0.003194888178913738, 'no': 0.003194888178913738, 'evidence': 0.003194888178913738, 'for': 0.012779552715654952, '87': 0.003194888178913738, 'per': 0.003194888178913738, 'cent': 0.003194888178913738, '(': 0.003194888178913738, '1.49': 0.003194888178913738, ')': 0.003194888178913738, 'Also': 0.003194888178913738, 'out': 0.003194888178913738, '59': 0.003194888178913738, 'involved': 0.003194888178913738, 'many': 0.003194888178913738, '38': 0.003194888178913738, 'submitted': 0.003194888178913738, 'survival': 0.003194888178913738, 'reports': 0.003194888178913738, 'about': 0.006389776357827476, 'This': 0.003194888178913738, 'year': 0.012779552715654952, 'targets': 0.003194888178913738, 'set': 0.012779552715654952, 'comparatively': 0.003194888178913738, 'modest': 0.003194888178913738, 'For': 0.003194888178913738, 'example': 0.003194888178913738, 'Circle': 0.006389776357827476, 'comprises': 0.006389776357827476, 'three': 0.006389776357827476, 'divisions': 0.003194888178913738, 'Solapur': 0.003194888178913738, 'district': 0.003194888178913738, 'planned': 0.003194888178913738, '17': 0.003194888178913738, 'lakh': 0.009584664536741214, 'land': 0.006389776357827476, 'However': 0.003194888178913738, 'may': 0.003194888178913738, 'meet': 0.003194888178913738, 'due': 0.003194888178913738, 'unavailability': 0.003194888178913738, 'funds': 0.003194888178913738, 'Last': 0.003194888178913738, '70': 0.003194888178913738, 'six': 0.003194888178913738, 'talukas': 0.003194888178913738, 'namely': 0.003194888178913738, 'Maval': 0.003194888178913738, 'Mulshi': 0.003194888178913738, 'Daund': 0.003194888178913738, 'Indapur': 0.003194888178913738, 'Baramati': 0.003194888178913738, 'Havveli': 0.003194888178913738, 'preparations': 0.003194888178913738, 'done': 0.003194888178913738, '4': 0.012779552715654952, 'special': 0.003194888178913738, 'emphasis': 0.003194888178913738, 'teakwood': 0.003194888178913738, 'National': 0.006389776357827476, 'Forest': 0.019169329073482427, 'Policy': 0.003194888178913738, 'aims': 0.006389776357827476, 'emphasizes': 0.003194888178913738, 'at': 0.006389776357827476, 'maintaining': 0.003194888178913738, '%': 0.003194888178913738, 'countryâ€™s': 0.003194888178913738, 'geographical': 0.003194888178913738, 'area': 0.003194888178913738, 'green': 0.003194888178913738, 'cover': 0.003194888178913738, 'view': 0.003194888178913738, 'this': 0.009584664536741214, 'a': 0.019169329073482427, 'part': 0.003194888178913738, 'programme': 0.006389776357827476, 'within': 0.003194888178913738, 'Maharashtra': 0.009584664536741214, 'Department': 0.01597444089456869, 'all': 0.006389776357827476, 'over': 0.003194888178913738, 'State': 0.003194888178913738, 'betweenÂ': 0.003194888178913738, '1st': 0.006389776357827476, 'July': 0.01597444089456869, '7th': 0.003194888178913738, '2017Â': 0.003194888178913738, 'celebrateÂ': 0.003194888178913738, 'â€˜Vanmohotsavâ€™': 0.003194888178913738, 'Â': 0.019169329073482427, 'announced': 0.003194888178913738, 'plantingÂ': 0.003194888178913738, '2': 0.003194888178913738, '1stÂ': 0.006389776357827476, 'resounding': 0.003194888178913738, 'success': 0.003194888178913738, 'final': 0.003194888178913738, 'total': 0.003194888178913738, 'reported': 0.003194888178913738, 'figure': 0.003194888178913738, 'ofÂ': 0.003194888178913738, '2.82': 0.003194888178913738, 'plantedÂ': 0.003194888178913738, 'single': 0.003194888178913738, 'day': 0.003194888178913738, 'To': 0.003194888178913738, 'maintain': 0.003194888178913738, 'consistency': 0.003194888178913738, 'platform': 0.003194888178913738, 'without': 0.003194888178913738, 'affecting': 0.003194888178913738, 'its': 0.006389776357827476, 'momentum': 0.003194888178913738, 'has': 0.01597444089456869, '13': 0.003194888178913738, 'mission': 0.003194888178913738, 'shall': 0.003194888178913738, 'be': 0.009584664536741214, 'accomplished': 0.003194888178913738, 'consecutive': 0.003194888178913738, 'years': 0.003194888178913738, 'viz': 0.003194888178913738, '2017': 0.006389776357827476, '2018': 0.003194888178913738, 'TheÂ': 0.003194888178913738, 'croreÂ': 0.003194888178913738, 'will': 0.006389776357827476, 'during': 0.003194888178913738, 'Vanmohotsav': 0.003194888178913738, '7thÂ': 0.006389776357827476, 'state-wide': 0.003194888178913738, 'driveÂ': 0.003194888178913738, 'involvement': 0.003194888178913738, 'departments': 0.003194888178913738, 'along': 0.003194888178913738, 'Students': 0.003194888178913738, 'Schools': 0.003194888178913738, 'Colleges': 0.003194888178913738, 'NSS': 0.003194888178913738, 'NCC': 0.003194888178913738, 'CSR': 0.003194888178913738, 'NGOs': 0.003194888178913738, 'Railways': 0.003194888178913738, 'Highways': 0.003194888178913738, 'Defence': 0.003194888178913738, 'NABARD': 0.003194888178913738, 'other': 0.003194888178913738, 'stakeholders': 0.006389776357827476, 'Society': 0.003194888178913738, 'first': 0.003194888178913738, 'kind': 0.003194888178913738, 'aÂ': 0.006389776357827476, '24-hourÂ': 0.003194888178913738, 'toll': 0.003194888178913738, 'freeÂ': 0.003194888178913738, 'helpline': 0.003194888178913738, 'number': 0.003194888178913738, '1926Â': 0.003194888178913738, 'called': 0.006389776357827476, 'â€˜Hello': 0.003194888178913738, 'Forestâ€™': 0.003194888178913738, 'been': 0.006389776357827476, 'up': 0.003194888178913738, 'provide': 0.003194888178913738, 'information': 0.003194888178913738, 'regarding': 0.003194888178913738, 'protection': 0.006389776357827476, 'mass': 0.003194888178913738, 'awareness': 0.003194888178913738, 'mobile': 0.003194888178913738, 'application': 0.009584664536741214, 'â€˜My': 0.003194888178913738, 'Plantsâ€™Â': 0.003194888178913738, 'record': 0.006389776357827476, 'details': 0.003194888178913738, 'numbers': 0.003194888178913738, 'species': 0.003194888178913738, 'location': 0.003194888178913738, 'into': 0.003194888178913738, 'computer': 0.003194888178913738, 'system': 0.003194888178913738, 'All': 0.003194888178913738, 'volunteers': 0.006389776357827476, 'individual': 0.003194888178913738, 'collective': 0.003194888178913738, 'organizational': 0.003194888178913738, 'level': 0.003194888178913738, 'should': 0.003194888178913738, 'download': 0.003194888178913738, 'use': 0.003194888178913738, 'their': 0.003194888178913738, 'work': 0.003194888178913738, 'through': 0.003194888178913738, 'operational': 0.003194888178913738, 'from': 0.006389776357827476, 'July.Â': 0.003194888178913738, 'consonance': 0.003194888178913738, 'public': 0.006389776357827476, 'participation': 0.006389776357827476, 'initiated': 0.003194888178913738, 'â€˜Maharashtra': 0.003194888178913738, 'Harit': 0.003194888178913738, 'Senaâ€™/': 0.003194888178913738, 'Armyâ€™': 0.003194888178913738, 'is': 0.003194888178913738, 'body': 0.003194888178913738, 'dedicated': 0.003194888178913738, 'participate': 0.003194888178913738, 'activities': 0.003194888178913738, 'wildlife': 0.003194888178913738, 'related': 0.003194888178913738, 'sectors': 0.003194888178913738, 'around': 0.003194888178913738, 'Individuals': 0.003194888178913738, 'organisations': 0.003194888178913738, 'interested': 0.003194888178913738, 'volunteering': 0.003194888178913738, 'can': 0.003194888178913738, 'register': 0.003194888178913738, 'Green': 0.003194888178913738, 'Army': 0.003194888178913738, 'websiteÂ': 0.003194888178913738, 'www.greenarmy.mahaforest.gov.in': 0.003194888178913738, 'An': 0.003194888178913738, 'integrated': 0.003194888178913738, 'place': 0.003194888178913738, 'ensure': 0.003194888178913738, 'seamless': 0.003194888178913738, 'successful': 0.003194888178913738, 'society': 0.003194888178913738, 'especially': 0.003194888178913738}\n"
          ]
        }
      ],
      "source": [
        "print(tf_doc1)"
      ]
    },
    {
      "cell_type": "code",
      "execution_count": 37,
      "metadata": {
        "colab": {
          "base_uri": "https://localhost:8080/"
        },
        "id": "D-wthez7UzQx",
        "outputId": "dbac7734-860f-4b15-9d93-5c9f45829764"
      },
      "outputs": [
        {
          "name": "stdout",
          "output_type": "stream",
          "text": [
            "{'Millions': 0.004739336492890996, 'of': 0.06635071090047394, 'people': 0.004739336492890996, 'in': 0.04739336492890995, 'India': 0.018957345971563982, 'took': 0.004739336492890996, 'part': 0.004739336492890996, 'an': 0.014218009478672985, 'annual': 0.009478672985781991, 'tree': 0.018957345971563982, 'planting': 0.009478672985781991, 'drive': 0.009478672985781991, 'Sunday': 0.004739336492890996, '.': 0.08530805687203792, 'More': 0.004739336492890996, 'than': 0.004739336492890996, '250': 0.004739336492890996, 'million': 0.009478672985781991, 'saplings': 0.037914691943127965, 'were': 0.014218009478672985, 'planted': 0.018957345971563982, 'a': 0.03317535545023697, 'single': 0.004739336492890996, 'day': 0.004739336492890996, 'across': 0.009478672985781991, 'the': 0.11374407582938388, 'country': 0.009478672985781991, \"'s\": 0.009478672985781991, 'most-populous': 0.004739336492890996, 'state': 0.023696682464454975, 'The': 0.03317535545023697, 'campaign': 0.004739336492890996, 'was': 0.009478672985781991, 'led': 0.004739336492890996, 'by': 0.014218009478672985, 'Uttar': 0.018957345971563982, 'Pradesh': 0.018957345971563982, 'government': 0.018957345971563982, 'officials': 0.009478672985781991, ',': 0.0947867298578199, 'lawmakers': 0.004739336492890996, 'and': 0.037914691943127965, 'activists': 0.004739336492890996, 'bid': 0.004739336492890996, 'to': 0.04739336492890995, 'reduce': 0.004739336492890996, 'carbon': 0.004739336492890996, 'emissions': 0.004739336492890996, 'combat': 0.004739336492890996, 'climate': 0.004739336492890996, 'change': 0.004739336492890996, 'Where': 0.004739336492890996, 'trees': 0.009478672985781991, '?': 0.014218009478672985, 'volunteers': 0.004739336492890996, 'forests': 0.004739336492890996, 'farms': 0.004739336492890996, 'schools': 0.004739336492890996, 'along': 0.004739336492890996, 'riverbanks': 0.004739336492890996, 'highways': 0.004739336492890996, '``': 0.023696682464454975, 'We': 0.004739336492890996, 'are': 0.004739336492890996, 'committed': 0.004739336492890996, 'increasing': 0.004739336492890996, 'forest': 0.023696682464454975, 'cover': 0.023696682464454975, 'over': 0.009478672985781991, '15': 0.004739336492890996, '%': 0.023696682464454975, 'total': 0.009478672985781991, 'land': 0.014218009478672985, 'area': 0.009478672985781991, 'next': 0.004739336492890996, 'five': 0.004739336492890996, 'years': 0.009478672985781991, \"''\": 0.023696682464454975, 'said': 0.023696682464454975, 'official': 0.014218009478672985, 'Manoj': 0.004739336492890996, 'Singh': 0.009478672985781991, 'According': 0.004739336492890996, 'another': 0.004739336492890996, 'has': 0.03317535545023697, 'increased': 0.009478672985781991, 'last': 0.009478672985781991, 'few': 0.004739336492890996, 'There': 0.009478672985781991, 'been': 0.018957345971563982, 'increase': 0.009478672985781991, '127': 0.004739336492890996, 'sqare': 0.009478672985781991, 'kilometers': 0.004739336492890996, '[': 0.004739336492890996, '79': 0.004739336492890996, 'miles': 0.004739336492890996, ']': 0.004739336492890996, 'Â': 0.004739336492890996, 'as': 0.014218009478672985, 'compared': 0.009478672985781991, '2017': 0.004739336492890996, 'spokesperson': 0.004739336492890996, 'quoted': 0.004739336492890996, 'saying': 0.004739336492890996, 'inÂ': 0.004739336492890996, 'Indian': 0.004739336492890996, 'Express': 0.004739336492890996, 'newspaper': 0.009478672985781991, 'also': 0.004739336492890996, 'plants': 0.004739336492890996, '3.05': 0.004739336492890996, 'national': 0.004739336492890996, 'average': 0.004739336492890996, '2.89': 0.004739336492890996, 'citing': 0.004739336492890996, '2019': 0.004739336492890996, 'Forest': 0.009478672985781991, 'Survey': 0.004739336492890996, 'report': 0.004739336492890996, 'How': 0.004739336492890996, 'many': 0.004739336492890996, 'survive': 0.009478672985781991, 'State': 0.004739336492890996, 'Minister': 0.004739336492890996, 'Dara': 0.004739336492890996, 'long-term': 0.004739336492890996, 'survival': 0.004739336492890996, 'remains': 0.004739336492890996, 'concern': 0.004739336492890996, 'adding': 0.004739336492890996, 'that': 0.014218009478672985, 'usually': 0.004739336492890996, 'only': 0.004739336492890996, '60': 0.004739336492890996, 'rest': 0.004739336492890996, 'succumb': 0.004739336492890996, 'disease': 0.004739336492890996, 'or': 0.014218009478672985, 'lack': 0.004739336492890996, 'water': 0.004739336492890996, 'However': 0.009478672985781991, 'he': 0.009478672985781991, 'thatÂ': 0.004739336492890996, 'about': 0.004739336492890996, '80': 0.004739336492890996, 'four': 0.004739336492890996, 'drives': 0.004739336492890996, 'have': 0.018957345971563982, 'survived': 0.009478672985781991, 'All': 0.004739336492890996, 'regions': 0.004739336492890996, 'where': 0.004739336492890996, 'plantation': 0.009478672985781991, 'is': 0.009478672985781991, 'being': 0.004739336492890996, 'carried': 0.004739336492890996, 'out': 0.004739336492890996, 'geo-tagged': 0.004739336492890996, 'so': 0.009478672985781991, 'we': 0.004739336492890996, 'can': 0.009478672985781991, 'ascertain': 0.004739336492890996, 'what': 0.004739336492890996, 'exactly': 0.004739336492890996, 'happened': 0.004739336492890996, 'Chauhan': 0.004739336492890996, 'told': 0.004739336492890996, 'Pioneer': 0.004739336492890996, 'These': 0.004739336492890996, 'carry': 0.004739336492890996, 'QR': 0.004739336492890996, 'codes': 0.004739336492890996, 'maintain': 0.004739336492890996, 'record': 0.004739336492890996, 'verify': 0.004739336492890996, 'whether': 0.004739336492890996, 'not': 0.004739336492890996, 'Besides': 0.004739336492890996, 'teams': 0.004739336492890996, 'formed': 0.004739336492890996, 'monitor': 0.004739336492890996, 'progress': 0.004739336492890996, 'What': 0.004739336492890996, 'extent': 0.004739336492890996, 'project': 0.004739336492890996, 'vowed': 0.004739336492890996, 'third': 0.004739336492890996, 'its': 0.004739336492890996, '95': 0.004739336492890996, 'hectares': 0.004739336492890996, 'under': 0.004739336492890996, '2030': 0.004739336492890996, 'allocated': 0.004739336492890996, '$': 0.004739336492890996, '6.2': 0.004739336492890996, 'billion': 0.009478672985781991, '(': 0.004739336492890996, 'â‚¬5.2': 0.004739336492890996, ')': 0.004739336492890996, 'for': 0.004739336492890996, 'tree-planting': 0.004739336492890996, 'industrial': 0.004739336492890996, 'development': 0.004739336492890996, 'rapidly': 0.004739336492890996, 'growing': 0.004739336492890996, 'population': 0.004739336492890996, 'put': 0.004739336492890996, 'further': 0.004739336492890996, 'stress': 0.004739336492890996, 'on': 0.004739336492890996}\n"
          ]
        }
      ],
      "source": [
        "print(tf_doc2)"
      ]
    },
    {
      "cell_type": "code",
      "execution_count": null,
      "metadata": {
        "id": "CP4MEP6CU8tp"
      },
      "outputs": [],
      "source": []
    },
    {
      "cell_type": "markdown",
      "metadata": {
        "id": "XMxopPaVViM4"
      },
      "source": [
        "Inverse Document Frequency"
      ]
    },
    {
      "cell_type": "code",
      "execution_count": 38,
      "metadata": {
        "id": "Wltlu_MdVrSf"
      },
      "outputs": [],
      "source": [
        "doc_token1=nltk.word_tokenize(doc)\n",
        "doc_token2=nltk.word_tokenize(doc2)\n",
        "def calidf():\n",
        "  N=2\n",
        "  all_tokens=doc_token1+doc_token2\n",
        "  idf=dict()\n",
        "  for token in all_tokens:\n",
        "    f=0\n",
        "    if token in doc_token1:\n",
        "      f+=1\n",
        "    if token in doc_token2:\n",
        "      f+=1\n",
        "    idf[token]=math.log(N/f)\n",
        "  return idf"
      ]
    },
    {
      "cell_type": "code",
      "execution_count": 39,
      "metadata": {
        "colab": {
          "base_uri": "https://localhost:8080/"
        },
        "id": "esw7xDVxWtNE",
        "outputId": "b11c95fa-4bde-4208-98b6-e442655e6932"
      },
      "outputs": [
        {
          "name": "stdout",
          "output_type": "stream",
          "text": [
            "{'Between': 0.6931471805599453, '2016': 0.6931471805599453, 'and': 0.0, '2019': 0.0, ',': 0.0, 'the': 0.0, 'state': 0.0, 'forest': 0.0, 'department': 0.6931471805599453, 'under': 0.0, 'theÂ': 0.6931471805599453, 'BJPÂ': 0.6931471805599453, 'government': 0.0, 'had': 0.6931471805599453, 'launched': 0.6931471805599453, 'â€˜Green': 0.6931471805599453, 'Maharashtraâ€™': 0.6931471805599453, 'drive': 0.0, 'with': 0.6931471805599453, 'an': 0.0, 'aim': 0.6931471805599453, 'to': 0.0, 'plant': 0.6931471805599453, '50': 0.6931471805599453, 'crore': 0.6931471805599453, 'trees': 0.0, 'across': 0.0, 'in': 0.0, 'four-year': 0.6931471805599453, 'period': 0.6931471805599453, '.': 0.0, 'In': 0.6931471805599453, 'October': 0.6931471805599453, 'claimed': 0.6931471805599453, 'it': 0.6931471805599453, 'surpassed': 0.6931471805599453, 'target': 0.6931471805599453, 'by': 0.0, 'planting': 0.0, '33': 0.6931471805599453, 'July-September': 0.6931471805599453, '2019.Â': 0.6931471805599453, 'The': 0.0, 'Indian': 0.0, 'ExpressÂ': 0.6931471805599453, 'found': 0.6931471805599453, 'that': 0.0, 'non-forest': 0.6931471805599453, 'agencies': 0.6931471805599453, 'â€': 0.6931471805599453, '”': 0.6931471805599453, 'such': 0.6931471805599453, 'as': 0.0, 'gram': 0.6931471805599453, 'panchayats': 0.6931471805599453, 'which': 0.6931471805599453, 'were': 0.0, 'tasked': 0.6931471805599453, 'not': 0.0, 'uploaded': 0.6931471805599453, 'mandatory': 0.6931471805599453, 'audio-visual': 0.6931471805599453, 'proof': 0.6931471805599453, 'of': 0.0, 'tree': 0.0, 'plantation': 0.0, 'drives': 0.0, 'on': 0.0, 'specially': 0.6931471805599453, 'created': 0.6931471805599453, 'portal': 0.6931471805599453, 'Pune': 0.6931471805599453, 'Revenue': 0.6931471805599453, 'Division': 0.6931471805599453, 'was': 0.0, 'planted': 0.0, '1.7': 0.6931471805599453, 'saplings': 0.0, ';': 0.6931471805599453, 'however': 0.6931471805599453, 'no': 0.6931471805599453, 'evidence': 0.6931471805599453, 'for': 0.0, '87': 0.6931471805599453, 'per': 0.6931471805599453, 'cent': 0.6931471805599453, '(': 0.0, '1.49': 0.6931471805599453, ')': 0.0, 'Also': 0.6931471805599453, 'out': 0.0, '59': 0.6931471805599453, 'involved': 0.6931471805599453, 'many': 0.0, '38': 0.6931471805599453, 'submitted': 0.6931471805599453, 'survival': 0.0, 'reports': 0.6931471805599453, 'about': 0.0, 'This': 0.6931471805599453, 'year': 0.6931471805599453, 'targets': 0.6931471805599453, 'set': 0.6931471805599453, 'comparatively': 0.6931471805599453, 'modest': 0.6931471805599453, 'For': 0.6931471805599453, 'example': 0.6931471805599453, 'Circle': 0.6931471805599453, 'comprises': 0.6931471805599453, 'three': 0.6931471805599453, 'divisions': 0.6931471805599453, 'Solapur': 0.6931471805599453, 'district': 0.6931471805599453, 'planned': 0.6931471805599453, '17': 0.6931471805599453, 'lakh': 0.6931471805599453, 'land': 0.0, 'However': 0.0, 'may': 0.6931471805599453, 'meet': 0.6931471805599453, 'due': 0.6931471805599453, 'unavailability': 0.6931471805599453, 'funds': 0.6931471805599453, 'Last': 0.6931471805599453, '70': 0.6931471805599453, 'six': 0.6931471805599453, 'talukas': 0.6931471805599453, 'namely': 0.6931471805599453, 'Maval': 0.6931471805599453, 'Mulshi': 0.6931471805599453, 'Daund': 0.6931471805599453, 'Indapur': 0.6931471805599453, 'Baramati': 0.6931471805599453, 'Havveli': 0.6931471805599453, 'preparations': 0.6931471805599453, 'done': 0.6931471805599453, '4': 0.6931471805599453, 'special': 0.6931471805599453, 'emphasis': 0.6931471805599453, 'teakwood': 0.6931471805599453, 'National': 0.6931471805599453, 'Forest': 0.0, 'Policy': 0.6931471805599453, 'aims': 0.6931471805599453, 'emphasizes': 0.6931471805599453, 'at': 0.6931471805599453, 'maintaining': 0.6931471805599453, '%': 0.0, 'countryâ€™s': 0.6931471805599453, 'geographical': 0.6931471805599453, 'area': 0.0, 'green': 0.6931471805599453, 'cover': 0.0, 'view': 0.6931471805599453, 'this': 0.6931471805599453, 'a': 0.0, 'part': 0.0, 'programme': 0.6931471805599453, 'within': 0.6931471805599453, 'Maharashtra': 0.6931471805599453, 'Department': 0.6931471805599453, 'all': 0.6931471805599453, 'over': 0.0, 'State': 0.0, 'betweenÂ': 0.6931471805599453, '1st': 0.6931471805599453, 'July': 0.6931471805599453, '7th': 0.6931471805599453, '2017Â': 0.6931471805599453, 'celebrateÂ': 0.6931471805599453, 'â€˜Vanmohotsavâ€™': 0.6931471805599453, 'Â': 0.0, 'announced': 0.6931471805599453, 'plantingÂ': 0.6931471805599453, '2': 0.6931471805599453, '1stÂ': 0.6931471805599453, 'resounding': 0.6931471805599453, 'success': 0.6931471805599453, 'final': 0.6931471805599453, 'total': 0.0, 'reported': 0.6931471805599453, 'figure': 0.6931471805599453, 'ofÂ': 0.6931471805599453, '2.82': 0.6931471805599453, 'plantedÂ': 0.6931471805599453, 'single': 0.0, 'day': 0.0, 'To': 0.6931471805599453, 'maintain': 0.0, 'consistency': 0.6931471805599453, 'platform': 0.6931471805599453, 'without': 0.6931471805599453, 'affecting': 0.6931471805599453, 'its': 0.0, 'momentum': 0.6931471805599453, 'has': 0.0, '13': 0.6931471805599453, 'mission': 0.6931471805599453, 'shall': 0.6931471805599453, 'be': 0.6931471805599453, 'accomplished': 0.6931471805599453, 'consecutive': 0.6931471805599453, 'years': 0.0, 'viz': 0.6931471805599453, '2017': 0.0, '2018': 0.6931471805599453, 'TheÂ': 0.6931471805599453, 'croreÂ': 0.6931471805599453, 'will': 0.6931471805599453, 'during': 0.6931471805599453, 'Vanmohotsav': 0.6931471805599453, '7thÂ': 0.6931471805599453, 'state-wide': 0.6931471805599453, 'driveÂ': 0.6931471805599453, 'involvement': 0.6931471805599453, 'departments': 0.6931471805599453, 'along': 0.0, 'Students': 0.6931471805599453, 'Schools': 0.6931471805599453, 'Colleges': 0.6931471805599453, 'NSS': 0.6931471805599453, 'NCC': 0.6931471805599453, 'CSR': 0.6931471805599453, 'NGOs': 0.6931471805599453, 'Railways': 0.6931471805599453, 'Highways': 0.6931471805599453, 'Defence': 0.6931471805599453, 'NABARD': 0.6931471805599453, 'other': 0.6931471805599453, 'stakeholders': 0.6931471805599453, 'Society': 0.6931471805599453, 'first': 0.6931471805599453, 'kind': 0.6931471805599453, 'aÂ': 0.6931471805599453, '24-hourÂ': 0.6931471805599453, 'toll': 0.6931471805599453, 'freeÂ': 0.6931471805599453, 'helpline': 0.6931471805599453, 'number': 0.6931471805599453, '1926Â': 0.6931471805599453, 'called': 0.6931471805599453, 'â€˜Hello': 0.6931471805599453, 'Forestâ€™': 0.6931471805599453, 'been': 0.0, 'up': 0.6931471805599453, 'provide': 0.6931471805599453, 'information': 0.6931471805599453, 'regarding': 0.6931471805599453, 'protection': 0.6931471805599453, 'mass': 0.6931471805599453, 'awareness': 0.6931471805599453, 'mobile': 0.6931471805599453, 'application': 0.6931471805599453, 'â€˜My': 0.6931471805599453, 'Plantsâ€™Â': 0.6931471805599453, 'record': 0.0, 'details': 0.6931471805599453, 'numbers': 0.6931471805599453, 'species': 0.6931471805599453, 'location': 0.6931471805599453, 'into': 0.6931471805599453, 'computer': 0.6931471805599453, 'system': 0.6931471805599453, 'All': 0.0, 'volunteers': 0.0, 'individual': 0.6931471805599453, 'collective': 0.6931471805599453, 'organizational': 0.6931471805599453, 'level': 0.6931471805599453, 'should': 0.6931471805599453, 'download': 0.6931471805599453, 'use': 0.6931471805599453, 'their': 0.6931471805599453, 'work': 0.6931471805599453, 'through': 0.6931471805599453, 'operational': 0.6931471805599453, 'from': 0.6931471805599453, 'July.Â': 0.6931471805599453, 'consonance': 0.6931471805599453, 'public': 0.6931471805599453, 'participation': 0.6931471805599453, 'initiated': 0.6931471805599453, 'â€˜Maharashtra': 0.6931471805599453, 'Harit': 0.6931471805599453, 'Senaâ€™/': 0.6931471805599453, 'Armyâ€™': 0.6931471805599453, 'is': 0.0, 'body': 0.6931471805599453, 'dedicated': 0.6931471805599453, 'participate': 0.6931471805599453, 'activities': 0.6931471805599453, 'wildlife': 0.6931471805599453, 'related': 0.6931471805599453, 'sectors': 0.6931471805599453, 'around': 0.6931471805599453, 'Individuals': 0.6931471805599453, 'organisations': 0.6931471805599453, 'interested': 0.6931471805599453, 'volunteering': 0.6931471805599453, 'can': 0.0, 'register': 0.6931471805599453, 'Green': 0.6931471805599453, 'Army': 0.6931471805599453, 'websiteÂ': 0.6931471805599453, 'www.greenarmy.mahaforest.gov.in': 0.6931471805599453, 'An': 0.6931471805599453, 'integrated': 0.6931471805599453, 'place': 0.6931471805599453, 'ensure': 0.6931471805599453, 'seamless': 0.6931471805599453, 'successful': 0.6931471805599453, 'society': 0.6931471805599453, 'especially': 0.6931471805599453, 'Millions': 0.6931471805599453, 'people': 0.6931471805599453, 'India': 0.6931471805599453, 'took': 0.6931471805599453, 'annual': 0.6931471805599453, 'Sunday': 0.6931471805599453, 'More': 0.6931471805599453, 'than': 0.6931471805599453, '250': 0.6931471805599453, 'million': 0.6931471805599453, 'country': 0.6931471805599453, \"'s\": 0.6931471805599453, 'most-populous': 0.6931471805599453, 'campaign': 0.6931471805599453, 'led': 0.6931471805599453, 'Uttar': 0.6931471805599453, 'Pradesh': 0.6931471805599453, 'officials': 0.6931471805599453, 'lawmakers': 0.6931471805599453, 'activists': 0.6931471805599453, 'bid': 0.6931471805599453, 'reduce': 0.6931471805599453, 'carbon': 0.6931471805599453, 'emissions': 0.6931471805599453, 'combat': 0.6931471805599453, 'climate': 0.6931471805599453, 'change': 0.6931471805599453, 'Where': 0.6931471805599453, '?': 0.6931471805599453, 'forests': 0.6931471805599453, 'farms': 0.6931471805599453, 'schools': 0.6931471805599453, 'riverbanks': 0.6931471805599453, 'highways': 0.6931471805599453, '``': 0.6931471805599453, 'We': 0.6931471805599453, 'are': 0.6931471805599453, 'committed': 0.6931471805599453, 'increasing': 0.6931471805599453, '15': 0.6931471805599453, 'next': 0.6931471805599453, 'five': 0.6931471805599453, \"''\": 0.6931471805599453, 'said': 0.6931471805599453, 'official': 0.6931471805599453, 'Manoj': 0.6931471805599453, 'Singh': 0.6931471805599453, 'According': 0.6931471805599453, 'another': 0.6931471805599453, 'increased': 0.6931471805599453, 'last': 0.6931471805599453, 'few': 0.6931471805599453, 'There': 0.6931471805599453, 'increase': 0.6931471805599453, '127': 0.6931471805599453, 'sqare': 0.6931471805599453, 'kilometers': 0.6931471805599453, '[': 0.6931471805599453, '79': 0.6931471805599453, 'miles': 0.6931471805599453, ']': 0.6931471805599453, 'compared': 0.6931471805599453, 'spokesperson': 0.6931471805599453, 'quoted': 0.6931471805599453, 'saying': 0.6931471805599453, 'inÂ': 0.6931471805599453, 'Express': 0.6931471805599453, 'newspaper': 0.6931471805599453, 'also': 0.6931471805599453, 'plants': 0.6931471805599453, '3.05': 0.6931471805599453, 'national': 0.6931471805599453, 'average': 0.6931471805599453, '2.89': 0.6931471805599453, 'citing': 0.6931471805599453, 'Survey': 0.6931471805599453, 'report': 0.6931471805599453, 'How': 0.6931471805599453, 'survive': 0.6931471805599453, 'Minister': 0.6931471805599453, 'Dara': 0.6931471805599453, 'long-term': 0.6931471805599453, 'remains': 0.6931471805599453, 'concern': 0.6931471805599453, 'adding': 0.6931471805599453, 'usually': 0.6931471805599453, 'only': 0.6931471805599453, '60': 0.6931471805599453, 'rest': 0.6931471805599453, 'succumb': 0.6931471805599453, 'disease': 0.6931471805599453, 'or': 0.6931471805599453, 'lack': 0.6931471805599453, 'water': 0.6931471805599453, 'he': 0.6931471805599453, 'thatÂ': 0.6931471805599453, '80': 0.6931471805599453, 'four': 0.6931471805599453, 'have': 0.6931471805599453, 'survived': 0.6931471805599453, 'regions': 0.6931471805599453, 'where': 0.6931471805599453, 'being': 0.6931471805599453, 'carried': 0.6931471805599453, 'geo-tagged': 0.6931471805599453, 'so': 0.6931471805599453, 'we': 0.6931471805599453, 'ascertain': 0.6931471805599453, 'what': 0.6931471805599453, 'exactly': 0.6931471805599453, 'happened': 0.6931471805599453, 'Chauhan': 0.6931471805599453, 'told': 0.6931471805599453, 'Pioneer': 0.6931471805599453, 'These': 0.6931471805599453, 'carry': 0.6931471805599453, 'QR': 0.6931471805599453, 'codes': 0.6931471805599453, 'verify': 0.6931471805599453, 'whether': 0.6931471805599453, 'Besides': 0.6931471805599453, 'teams': 0.6931471805599453, 'formed': 0.6931471805599453, 'monitor': 0.6931471805599453, 'progress': 0.6931471805599453, 'What': 0.6931471805599453, 'extent': 0.6931471805599453, 'project': 0.6931471805599453, 'vowed': 0.6931471805599453, 'third': 0.6931471805599453, '95': 0.6931471805599453, 'hectares': 0.6931471805599453, '2030': 0.6931471805599453, 'allocated': 0.6931471805599453, '$': 0.6931471805599453, '6.2': 0.6931471805599453, 'billion': 0.6931471805599453, 'â‚¬5.2': 0.6931471805599453, 'tree-planting': 0.6931471805599453, 'industrial': 0.6931471805599453, 'development': 0.6931471805599453, 'rapidly': 0.6931471805599453, 'growing': 0.6931471805599453, 'population': 0.6931471805599453, 'put': 0.6931471805599453, 'further': 0.6931471805599453, 'stress': 0.6931471805599453}\n"
          ]
        }
      ],
      "source": [
        "idf=calidf()\n",
        "print(idf)"
      ]
    },
    {
      "cell_type": "code",
      "execution_count": 40,
      "metadata": {
        "id": "St-X52RxW8Rz"
      },
      "outputs": [],
      "source": [
        "doc_1_tfidf=[]\n",
        "doc_2_tfidf=[]\n",
        "\n",
        "def cal_tfidf_doc1():\n",
        "  for token in doc_token1:\n",
        "    doc_1_tfidf.append(tf_doc1[token]*idf[token])\n",
        "  return doc_1_tfidf\n",
        "\n",
        "def cal_tfidf_doc2():\n",
        "  for token in doc_token2:\n",
        "    doc_2_tfidf.append(tf_doc2[token]*idf[token])\n",
        "  return doc_2_tfidf\n",
        "\n"
      ]
    },
    {
      "cell_type": "code",
      "execution_count": 41,
      "metadata": {
        "colab": {
          "base_uri": "https://localhost:8080/"
        },
        "id": "ekow0OYaYnZQ",
        "outputId": "9cc301c7-0832-497c-8449-6f0a4a844922"
      },
      "outputs": [
        {
          "data": {
            "text/plain": [
              "[0.0032850577277722527,\n",
              " 0.0,\n",
              " 0.0032850577277722527,\n",
              " 0.0,\n",
              " 0.01314023091108901,\n",
              " 0.0032850577277722527,\n",
              " 0.0,\n",
              " 0.0,\n",
              " 0.0,\n",
              " 0.006570115455544505,\n",
              " 0.0,\n",
              " 0.0,\n",
              " 0.0,\n",
              " 0.0032850577277722527,\n",
              " 0.0,\n",
              " 0.0032850577277722527,\n",
              " 0.0032850577277722527,\n",
              " 0.0032850577277722527,\n",
              " 0.006570115455544505,\n",
              " 0.0,\n",
              " 0.0,\n",
              " 0.0,\n",
              " 0.0,\n",
              " 0.0,\n",
              " 0.0,\n",
              " 0.0,\n",
              " 0.0,\n",
              " 0.0,\n",
              " 0.006570115455544505,\n",
              " 0.006570115455544505,\n",
              " 0.0032850577277722527,\n",
              " 0.0,\n",
              " 0.0,\n",
              " 0.0,\n",
              " 0.0032850577277722527,\n",
              " 0.0,\n",
              " 0.0032850577277722527,\n",
              " 0.0,\n",
              " 0.01314023091108901,\n",
              " 0.01314023091108901,\n",
              " 0.0,\n",
              " 0.0,\n",
              " 0.006570115455544505,\n",
              " 0.0,\n",
              " 0.0032850577277722527,\n",
              " 0.0,\n",
              " 0.0,\n",
              " 0.0032850577277722527,\n",
              " 0.0,\n",
              " 0.0,\n",
              " 0.0,\n",
              " 0.0032850577277722527,\n",
              " 0.0,\n",
              " 0.0032850577277722527,\n",
              " 0.0032850577277722527,\n",
              " 0.0032850577277722527,\n",
              " 0.0,\n",
              " 0.0032850577277722527,\n",
              " 0.0032850577277722527,\n",
              " 0.0032850577277722527,\n",
              " 0.0,\n",
              " 0.0032850577277722527,\n",
              " 0.0,\n",
              " 0.0,\n",
              " 0.0,\n",
              " 0.0,\n",
              " 0.009855173183316758,\n",
              " 0.0,\n",
              " 0.0,\n",
              " 0.0,\n",
              " 0.0,\n",
              " 0.0,\n",
              " 0.0,\n",
              " 0.0,\n",
              " 0.0032850577277722527,\n",
              " 0.0,\n",
              " 0.0032850577277722527,\n",
              " 0.0,\n",
              " 0.0032850577277722527,\n",
              " 0.0,\n",
              " 0.0,\n",
              " 0.0,\n",
              " 0.0032850577277722527,\n",
              " 0.0,\n",
              " 0.0032850577277722527,\n",
              " 0.0,\n",
              " 0.016425288638861262,\n",
              " 0.0032850577277722527,\n",
              " 0.0032850577277722527,\n",
              " 0.0032850577277722527,\n",
              " 0.0,\n",
              " 0.0032850577277722527,\n",
              " 0.0,\n",
              " 0.0,\n",
              " 0.0,\n",
              " 0.0,\n",
              " 0.01314023091108901,\n",
              " 0.01314023091108901,\n",
              " 0.0,\n",
              " 0.0,\n",
              " 0.0032850577277722527,\n",
              " 0.0,\n",
              " 0.0,\n",
              " 0.0,\n",
              " 0.0,\n",
              " 0.0,\n",
              " 0.0,\n",
              " 0.0,\n",
              " 0.0,\n",
              " 0.0032850577277722527,\n",
              " 0.0032850577277722527,\n",
              " 0.0,\n",
              " 0.0,\n",
              " 0.016425288638861262,\n",
              " 0.016425288638861262,\n",
              " 0.0,\n",
              " 0.0,\n",
              " 0.009855173183316758,\n",
              " 0.0032850577277722527,\n",
              " 0.006570115455544505,\n",
              " 0.0,\n",
              " 0.0032850577277722527,\n",
              " 0.0,\n",
              " 0.0032850577277722527,\n",
              " 0.0,\n",
              " 0.009855173183316758,\n",
              " 0.0,\n",
              " 0.0,\n",
              " 0.0,\n",
              " 0.0,\n",
              " 0.0,\n",
              " 0.0,\n",
              " 0.0,\n",
              " 0.0,\n",
              " 0.006570115455544505,\n",
              " 0.0,\n",
              " 0.0,\n",
              " 0.006570115455544505,\n",
              " 0.0032850577277722527,\n",
              " 0.0,\n",
              " 0.0,\n",
              " 0.016425288638861262,\n",
              " 0.006570115455544505,\n",
              " 0.0,\n",
              " 0.0,\n",
              " 0.0,\n",
              " 0.006570115455544505,\n",
              " 0.0,\n",
              " 0.0032850577277722527,\n",
              " 0.006570115455544505,\n",
              " 0.0032850577277722527,\n",
              " 0.0032850577277722527,\n",
              " 0.0032850577277722527,\n",
              " 0.006570115455544505,\n",
              " 0.0032850577277722527,\n",
              " 0.0032850577277722527,\n",
              " 0.0,\n",
              " 0.0,\n",
              " 0.0,\n",
              " 0.0,\n",
              " 0.0,\n",
              " 0.0,\n",
              " 0.01314023091108901,\n",
              " 0.01314023091108901,\n",
              " 0.0,\n",
              " 0.006570115455544505,\n",
              " 0.0,\n",
              " 0.0,\n",
              " 0.0,\n",
              " 0.016425288638861262,\n",
              " 0.0,\n",
              " 0.0,\n",
              " 0.0,\n",
              " 0.0032850577277722527,\n",
              " 0.0,\n",
              " 0.0032850577277722527,\n",
              " 0.0,\n",
              " 0.0032850577277722527,\n",
              " 0.0032850577277722527,\n",
              " 0.0,\n",
              " 0.0,\n",
              " 0.0032850577277722527,\n",
              " 0.006570115455544505,\n",
              " 0.0,\n",
              " 0.016425288638861262,\n",
              " 0.006570115455544505,\n",
              " 0.0,\n",
              " 0.0032850577277722527,\n",
              " 0.0,\n",
              " 0.0,\n",
              " 0.006570115455544505,\n",
              " 0.0,\n",
              " 0.0,\n",
              " 0.0,\n",
              " 0.0032850577277722527,\n",
              " 0.0,\n",
              " 0.0,\n",
              " 0.0,\n",
              " 0.0,\n",
              " 0.0,\n",
              " 0.006570115455544505,\n",
              " 0.0,\n",
              " 0.0032850577277722527,\n",
              " 0.0,\n",
              " 0.0,\n",
              " 0.0,\n",
              " 0.006570115455544505,\n",
              " 0.0,\n",
              " 0.0,\n",
              " 0.0032850577277722527,\n",
              " 0.0032850577277722527,\n",
              " 0.0,\n",
              " 0.0032850577277722527,\n",
              " 0.0,\n",
              " 0.0,\n",
              " 0.016425288638861262,\n",
              " 0.0,\n",
              " 0.009855173183316758,\n",
              " 0.016425288638861262,\n",
              " 0.0,\n",
              " 0.0032850577277722527,\n",
              " 0.0,\n",
              " 0.0,\n",
              " 0.0,\n",
              " 0.0032850577277722527,\n",
              " 0.0,\n",
              " 0.01314023091108901,\n",
              " 0.0032850577277722527,\n",
              " 0.0,\n",
              " 0.0032850577277722527,\n",
              " 0.0,\n",
              " 0.0,\n",
              " 0.006570115455544505,\n",
              " 0.009855173183316758,\n",
              " 0.01314023091108901,\n",
              " 0.01314023091108901,\n",
              " 0.0,\n",
              " 0.0,\n",
              " 0.0032850577277722527,\n",
              " 0.0032850577277722527,\n",
              " 0.006570115455544505,\n",
              " 0.016425288638861262,\n",
              " 0.0,\n",
              " 0.0032850577277722527,\n",
              " 0.0,\n",
              " 0.0,\n",
              " 0.0,\n",
              " 0.0,\n",
              " 0.0032850577277722527,\n",
              " 0.0,\n",
              " 0.0032850577277722527,\n",
              " 0.0,\n",
              " 0.0032850577277722527,\n",
              " 0.0,\n",
              " 0.0032850577277722527,\n",
              " 0.0032850577277722527,\n",
              " 0.0032850577277722527,\n",
              " 0.0,\n",
              " 0.0,\n",
              " 0.0,\n",
              " 0.0,\n",
              " 0.006570115455544505,\n",
              " 0.0,\n",
              " 0.0,\n",
              " 0.0032850577277722527,\n",
              " 0.0032850577277722527,\n",
              " 0.0,\n",
              " 0.0032850577277722527,\n",
              " 0.009855173183316758,\n",
              " 0.0032850577277722527,\n",
              " 0.0,\n",
              " 0.0032850577277722527,\n",
              " 0.0,\n",
              " 0.0,\n",
              " 0.0,\n",
              " 0.006570115455544505,\n",
              " 0.016425288638861262,\n",
              " 0.0032850577277722527,\n",
              " 0.0,\n",
              " 0.0032850577277722527,\n",
              " 0.0,\n",
              " 0.0,\n",
              " 0.0,\n",
              " 0.0,\n",
              " 0.0,\n",
              " 0.0,\n",
              " 0.0,\n",
              " 0.006570115455544505,\n",
              " 0.0032850577277722527,\n",
              " 0.006570115455544505,\n",
              " 0.0,\n",
              " 0.01314023091108901,\n",
              " 0.006570115455544505,\n",
              " 0.0,\n",
              " 0.016425288638861262,\n",
              " 0.0,\n",
              " 0.0,\n",
              " 0.0032850577277722527,\n",
              " 0.0032850577277722527,\n",
              " 0.0,\n",
              " 0.0,\n",
              " 0.0032850577277722527,\n",
              " 0.0032850577277722527,\n",
              " 0.0,\n",
              " 0.01314023091108901,\n",
              " 0.0,\n",
              " 0.0032850577277722527,\n",
              " 0.006570115455544505,\n",
              " 0.0,\n",
              " 0.0032850577277722527,\n",
              " 0.0,\n",
              " 0.0032850577277722527,\n",
              " 0.0032850577277722527,\n",
              " 0.0032850577277722527,\n",
              " 0.0032850577277722527,\n",
              " 0.0,\n",
              " 0.016425288638861262,\n",
              " 0.0032850577277722527,\n",
              " 0.0032850577277722527,\n",
              " 0.0,\n",
              " 0.0032850577277722527,\n",
              " 0.006570115455544505,\n",
              " 0.0,\n",
              " 0.016425288638861262,\n",
              " 0.0032850577277722527,\n",
              " 0.0,\n",
              " 0.0032850577277722527,\n",
              " 0.0032850577277722527,\n",
              " 0.0032850577277722527,\n",
              " 0.006570115455544505,\n",
              " 0.0,\n",
              " 0.006570115455544505,\n",
              " 0.0,\n",
              " 0.0,\n",
              " 0.0,\n",
              " 0.0,\n",
              " 0.0,\n",
              " 0.0032850577277722527,\n",
              " 0.0032850577277722527,\n",
              " 0.0,\n",
              " 0.0,\n",
              " 0.006570115455544505,\n",
              " 0.009855173183316758,\n",
              " 0.0,\n",
              " 0.0,\n",
              " 0.0032850577277722527,\n",
              " 0.0,\n",
              " 0.0032850577277722527,\n",
              " 0.01314023091108901,\n",
              " 0.0,\n",
              " 0.0032850577277722527,\n",
              " 0.0,\n",
              " 0.0032850577277722527,\n",
              " 0.0032850577277722527,\n",
              " 0.0,\n",
              " 0.0,\n",
              " 0.0,\n",
              " 0.0,\n",
              " 0.0,\n",
              " 0.016425288638861262,\n",
              " 0.006570115455544505,\n",
              " 0.016425288638861262,\n",
              " 0.0,\n",
              " 0.0032850577277722527,\n",
              " 0.0,\n",
              " 0.0,\n",
              " 0.0032850577277722527,\n",
              " 0.0,\n",
              " 0.01314023091108901,\n",
              " 0.006570115455544505,\n",
              " 0.0,\n",
              " 0.0,\n",
              " 0.0032850577277722527,\n",
              " 0.009855173183316758,\n",
              " 0.01314023091108901,\n",
              " 0.0,\n",
              " 0.0032850577277722527,\n",
              " 0.0,\n",
              " 0.01314023091108901,\n",
              " 0.0,\n",
              " 0.0032850577277722527,\n",
              " 0.0,\n",
              " 0.0,\n",
              " 0.0,\n",
              " 0.0,\n",
              " 0.0,\n",
              " 0.0,\n",
              " 0.009855173183316758,\n",
              " 0.0032850577277722527,\n",
              " 0.006570115455544505,\n",
              " 0.0032850577277722527,\n",
              " 0.0,\n",
              " 0.0,\n",
              " 0.0,\n",
              " 0.0,\n",
              " 0.0,\n",
              " 0.0,\n",
              " 0.0,\n",
              " 0.0032850577277722527,\n",
              " 0.0,\n",
              " 0.0,\n",
              " 0.0,\n",
              " 0.0,\n",
              " 0.0032850577277722527,\n",
              " 0.0032850577277722527,\n",
              " 0.0032850577277722527,\n",
              " 0.006570115455544505,\n",
              " 0.0,\n",
              " 0.0032850577277722527,\n",
              " 0.006570115455544505,\n",
              " 0.0,\n",
              " 0.0,\n",
              " 0.0,\n",
              " 0.0032850577277722527,\n",
              " 0.0,\n",
              " 0.0,\n",
              " 0.006570115455544505,\n",
              " 0.0,\n",
              " 0.0,\n",
              " 0.0,\n",
              " 0.0032850577277722527,\n",
              " 0.0032850577277722527,\n",
              " 0.0,\n",
              " 0.0,\n",
              " 0.0032850577277722527,\n",
              " 0.0032850577277722527,\n",
              " 0.0032850577277722527,\n",
              " 0.0,\n",
              " 0.0032850577277722527,\n",
              " 0.0032850577277722527,\n",
              " 0.0032850577277722527,\n",
              " 0.0,\n",
              " 0.0,\n",
              " 0.0,\n",
              " 0.0]"
            ]
          },
          "execution_count": 41,
          "metadata": {},
          "output_type": "execute_result"
        }
      ],
      "source": [
        "cal_tfidf_doc1()\n",
        "cal_tfidf_doc2()"
      ]
    },
    {
      "cell_type": "code",
      "execution_count": 42,
      "metadata": {
        "colab": {
          "base_uri": "https://localhost:8080/"
        },
        "id": "pNTPkuiCYT7r",
        "outputId": "7ee9dc52-1a74-4e34-99c6-563592f7caf6"
      },
      "outputs": [
        {
          "name": "stdout",
          "output_type": "stream",
          "text": [
            "[0.0022145277334183555, 0.006643583200255067, 0.0, 0.0, 0.0, 0.0, 0.0, 0.0, 0.004429055466836711, 0.0, 0.0022145277334183555, 0.0022145277334183555, 0.0, 0.015501694133928488, 0.0022145277334183555, 0.004429055466836711, 0.0022145277334183555, 0.0, 0.015501694133928488, 0.0, 0.004429055466836711, 0.0, 0.006643583200255067, 0.006643583200255067, 0.026574332801020267, 0.0, 0.0, 0.0, 0.0, 0.0, 0.0, 0.0022145277334183555, 0.0022145277334183555, 0.0, 0.013287166400510133, 0.0022145277334183555, 0.0, 0.0, 0.0, 0.0, 0.015501694133928488, 0.004429055466836711, 0.006643583200255067, 0.015501694133928488, 0.0022145277334183555, 0.0, 0.006643583200255067, 0.0, 0.0, 0.008858110933673422, 0.026574332801020267, 0.0, 0.0, 0.0022145277334183555, 0.0022145277334183555, 0.0, 0.0, 0.0022145277334183555, 0.015501694133928488, 0.0022145277334183555, 0.0, 0.0022145277334183555, 0.004429055466836711, 0.013287166400510133, 0.013287166400510133, 0.004429055466836711, 0.0, 0.004429055466836711, 0.004429055466836711, 0.013287166400510133, 0.013287166400510133, 0.015501694133928488, 0.0, 0.0022145277334183555, 0.015501694133928488, 0.0, 0.0, 0.015501694133928488, 0.0, 0.004429055466836711, 0.0, 0.0022145277334183555, 0.0022145277334183555, 0.0022145277334183555, 0.0, 0.0, 0.0, 0.0, 0.0, 0.0, 0.0, 0.0022145277334183555, 0.004429055466836711, 0.0022145277334183555, 0.0, 0.013287166400510133, 0.011072638667091777, 0.0022145277334183555, 0.004429055466836711, 0.0, 0.006643583200255067, 0.0, 0.004429055466836711, 0.0, 0.004429055466836711, 0.004429055466836711, 0.0, 0.0022145277334183555, 0.026574332801020267, 0.0, 0.0022145277334183555, 0.0022145277334183555, 0.0, 0.0022145277334183555, 0.0022145277334183555, 0.0, 0.004429055466836711, 0.0, 0.0022145277334183555, 0.0022145277334183555, 0.0022145277334183555, 0.0, 0.0022145277334183555, 0.026574332801020267, 0.0, 0.0, 0.0, 0.0022145277334183555, 0.0, 0.0, 0.0, 0.0, 0.0022145277334183555, 0.0, 0.004429055466836711, 0.0022145277334183555, 0.0, 0.0, 0.0, 0.0, 0.0, 0.0, 0.0022145277334183555, 0.015501694133928488, 0.0, 0.0022145277334183555, 0.0, 0.0022145277334183555, 0.0, 0.0, 0.0, 0.0, 0.0022145277334183555, 0.008858110933673422, 0.0, 0.0, 0.0022145277334183555, 0.008858110933673422, 0.0, 0.0, 0.0, 0.004429055466836711, 0.0, 0.0022145277334183555, 0.0022145277334183555, 0.0, 0.0022145277334183555, 0.0022145277334183555, 0.0, 0.011072638667091777, 0.004429055466836711, 0.013287166400510133, 0.013287166400510133, 0.015501694133928488, 0.004429055466836711, 0.004429055466836711, 0.0022145277334183555, 0.0, 0.011072638667091777, 0.0, 0.0022145277334183555, 0.0022145277334183555, 0.013287166400510133, 0.013287166400510133, 0.015501694133928488, 0.0022145277334183555, 0.0, 0.006643583200255067, 0.0022145277334183555, 0.006643583200255067, 0.0, 0.0, 0.0, 0.0, 0.0, 0.0, 0.0, 0.006643583200255067, 0.0022145277334183555, 0.0, 0.0022145277334183555, 0.0, 0.006643583200255067, 0.0022145277334183555, 0.0, 0.0022145277334183555, 0.0, 0.0022145277334183555, 0.0, 0.0022145277334183555, 0.008858110933673422, 0.011072638667091777, 0.004429055466836711, 0.0, 0.0022145277334183555, 0.006643583200255067, 0.0, 0.0, 0.0, 0.0, 0.0, 0.013287166400510133, 0.011072638667091777, 0.004429055466836711, 0.013287166400510133, 0.013287166400510133, 0.015501694133928488, 0.004429055466836711, 0.0022145277334183555, 0.0022145277334183555, 0.0022145277334183555, 0.0022145277334183555, 0.0, 0.0022145277334183555, 0.0, 0.0022145277334183555, 0.0, 0.0022145277334183555, 0.0, 0.0022145277334183555, 0.0, 0.0022145277334183555, 0.013287166400510133, 0.013287166400510133, 0.0022145277334183555, 0.0, 0.0022145277334183555, 0.0, 0.0, 0.0, 0.0, 0.008858110933673422, 0.006643583200255067, 0.0, 0.015501694133928488, 0.0022145277334183555, 0.0022145277334183555, 0.0, 0.0022145277334183555, 0.0, 0.0, 0.004429055466836711, 0.0, 0.0022145277334183555, 0.004429055466836711, 0.0, 0.0022145277334183555, 0.004429055466836711, 0.0022145277334183555, 0.008858110933673422, 0.0, 0.0, 0.0, 0.0022145277334183555, 0.0022145277334183555, 0.0, 0.0, 0.0, 0.0, 0.0022145277334183555, 0.0, 0.0, 0.013287166400510133, 0.0022145277334183555, 0.0, 0.006643583200255067, 0.0, 0.0, 0.0, 0.0, 0.0, 0.0, 0.006643583200255067, 0.026574332801020267, 0.0, 0.004429055466836711, 0.0022145277334183555, 0.006643583200255067, 0.0, 0.0, 0.006643583200255067, 0.0, 0.011072638667091777, 0.004429055466836711, 0.0, 0.006643583200255067, 0.008858110933673422, 0.026574332801020267, 0.0, 0.004429055466836711, 0.0, 0.0, 0.0, 0.0022145277334183555, 0.004429055466836711, 0.0, 0.011072638667091777, 0.0022145277334183555, 0.0, 0.0022145277334183555, 0.0, 0.0022145277334183555, 0.0022145277334183555, 0.0, 0.0, 0.0, 0.0, 0.004429055466836711, 0.0, 0.015501694133928488, 0.0, 0.0022145277334183555, 0.0, 0.006643583200255067, 0.015501694133928488, 0.0, 0.004429055466836711, 0.0, 0.0022145277334183555, 0.0022145277334183555, 0.026574332801020267, 0.0, 0.0, 0.004429055466836711, 0.011072638667091777, 0.006643583200255067, 0.0, 0.0, 0.0022145277334183555, 0.0022145277334183555, 0.015501694133928488, 0.0, 0.0022145277334183555, 0.0, 0.0022145277334183555, 0.0022145277334183555, 0.0022145277334183555, 0.0022145277334183555, 0.026574332801020267, 0.0, 0.0022145277334183555, 0.0, 0.0, 0.0, 0.0, 0.0, 0.0022145277334183555, 0.0, 0.0022145277334183555, 0.0, 0.006643583200255067, 0.0022145277334183555, 0.0022145277334183555, 0.0022145277334183555, 0.0, 0.0022145277334183555, 0.0, 0.0, 0.0, 0.011072638667091777, 0.0, 0.008858110933673422, 0.0, 0.006643583200255067, 0.0, 0.0, 0.0, 0.008858110933673422, 0.026574332801020267, 0.0, 0.0022145277334183555, 0.026574332801020267, 0.0, 0.008858110933673422, 0.026574332801020267, 0.0, 0.0, 0.0, 0.0022145277334183555, 0.0, 0.006643583200255067, 0.026574332801020267, 0.0, 0.015501694133928488, 0.0022145277334183555, 0.006643583200255067, 0.0022145277334183555, 0.0, 0.0, 0.004429055466836711, 0.0022145277334183555, 0.0, 0.0022145277334183555, 0.0, 0.0, 0.0, 0.0022145277334183555, 0.0, 0.0, 0.0, 0.0, 0.0022145277334183555, 0.008858110933673422, 0.0022145277334183555, 0.0, 0.0, 0.0, 0.008858110933673422, 0.0, 0.004429055466836711, 0.006643583200255067, 0.0, 0.0022145277334183555, 0.0, 0.0022145277334183555, 0.0, 0.0, 0.011072638667091777, 0.004429055466836711, 0.0, 0.011072638667091777, 0.004429055466836711, 0.0, 0.0, 0.0022145277334183555, 0.0022145277334183555, 0.015501694133928488, 0.0, 0.0022145277334183555, 0.0, 0.008858110933673422, 0.0, 0.0022145277334183555, 0.0, 0.015501694133928488, 0.0022145277334183555, 0.0, 0.0022145277334183555, 0.0, 0.0022145277334183555, 0.0, 0.0022145277334183555, 0.0, 0.0022145277334183555, 0.0, 0.0022145277334183555, 0.0, 0.0022145277334183555, 0.0, 0.0022145277334183555, 0.0, 0.004429055466836711, 0.0022145277334183555, 0.0, 0.0022145277334183555, 0.0, 0.0022145277334183555, 0.0, 0.0022145277334183555, 0.004429055466836711, 0.0, 0.0022145277334183555, 0.0, 0.0, 0.013287166400510133, 0.0, 0.0022145277334183555, 0.0, 0.0, 0.0022145277334183555, 0.0, 0.004429055466836711, 0.0022145277334183555, 0.0022145277334183555, 0.0022145277334183555, 0.0022145277334183555, 0.0022145277334183555, 0.0022145277334183555, 0.004429055466836711, 0.0022145277334183555, 0.0022145277334183555, 0.0, 0.0, 0.008858110933673422, 0.0022145277334183555, 0.0, 0.0022145277334183555, 0.0022145277334183555, 0.0022145277334183555, 0.0, 0.0, 0.004429055466836711, 0.0, 0.0, 0.0022145277334183555, 0.0022145277334183555, 0.0, 0.0, 0.0, 0.011072638667091777, 0.0, 0.004429055466836711, 0.004429055466836711, 0.0022145277334183555, 0.006643583200255067, 0.004429055466836711, 0.0022145277334183555, 0.0022145277334183555, 0.0, 0.0, 0.0022145277334183555, 0.0, 0.0, 0.0, 0.004429055466836711, 0.0, 0.0022145277334183555, 0.0, 0.0022145277334183555, 0.0, 0.0022145277334183555, 0.0022145277334183555, 0.0, 0.0022145277334183555, 0.0022145277334183555, 0.0, 0.0, 0.0, 0.011072638667091777, 0.0, 0.0, 0.0, 0.004429055466836711, 0.0022145277334183555, 0.0, 0.0022145277334183555, 0.0, 0.0022145277334183555, 0.0022145277334183555, 0.0022145277334183555, 0.0022145277334183555, 0.0, 0.0022145277334183555, 0.006643583200255067, 0.006643583200255067, 0.0, 0.0, 0.0022145277334183555, 0.0, 0.0, 0.0022145277334183555, 0.0022145277334183555, 0.0, 0.006643583200255067, 0.0, 0.015501694133928488, 0.004429055466836711, 0.006643583200255067, 0.0022145277334183555, 0.004429055466836711, 0.004429055466836711, 0.011072638667091777, 0.0, 0.004429055466836711, 0.0022145277334183555, 0.0, 0.013287166400510133, 0.0022145277334183555, 0.0, 0.0, 0.004429055466836711, 0.004429055466836711, 0.0, 0.0, 0.006643583200255067, 0.0, 0.011072638667091777, 0.0, 0.0022145277334183555, 0.0, 0.0022145277334183555, 0.0022145277334183555, 0.0022145277334183555, 0.004429055466836711, 0.0022145277334183555, 0.015501694133928488, 0.0, 0.0, 0.0022145277334183555, 0.0, 0.0022145277334183555, 0.0, 0.0, 0.0022145277334183555, 0.0, 0.0, 0.0, 0.0, 0.004429055466836711, 0.0, 0.0, 0.0022145277334183555, 0.0, 0.0, 0.0, 0.0022145277334183555, 0.0, 0.0, 0.0022145277334183555, 0.0022145277334183555, 0.0022145277334183555, 0.0, 0.008858110933673422, 0.0, 0.0022145277334183555, 0.0, 0.0022145277334183555, 0.0022145277334183555, 0.0, 0.0022145277334183555, 0.0, 0.0022145277334183555, 0.0, 0.0, 0.0022145277334183555, 0.0022145277334183555, 0.0022145277334183555, 0.0022145277334183555, 0.0, 0.0022145277334183555, 0.0022145277334183555, 0.0, 0.0, 0.0, 0.008858110933673422, 0.0, 0.0022145277334183555, 0.0, 0.0022145277334183555, 0.0022145277334183555, 0.0, 0.0022145277334183555, 0.004429055466836711, 0.004429055466836711, 0.004429055466836711, 0.004429055466836711, 0.0, 0.0022145277334183555, 0.0, 0.0022145277334183555, 0.0, 0.004429055466836711, 0.0]\n"
          ]
        }
      ],
      "source": [
        "print(doc_1_tfidf)"
      ]
    },
    {
      "cell_type": "code",
      "execution_count": 43,
      "metadata": {
        "colab": {
          "base_uri": "https://localhost:8080/"
        },
        "id": "OEZlnjbpYr0n",
        "outputId": "65838a40-ee89-4cee-c064-8ae80d78e109"
      },
      "outputs": [
        {
          "name": "stdout",
          "output_type": "stream",
          "text": [
            "[0.0032850577277722527, 0.0, 0.0032850577277722527, 0.0, 0.01314023091108901, 0.0032850577277722527, 0.0, 0.0, 0.0, 0.006570115455544505, 0.0, 0.0, 0.0, 0.0032850577277722527, 0.0, 0.0032850577277722527, 0.0032850577277722527, 0.0032850577277722527, 0.006570115455544505, 0.0, 0.0, 0.0, 0.0, 0.0, 0.0, 0.0, 0.0, 0.0, 0.006570115455544505, 0.006570115455544505, 0.0032850577277722527, 0.0, 0.0, 0.0, 0.0032850577277722527, 0.0, 0.0032850577277722527, 0.0, 0.01314023091108901, 0.01314023091108901, 0.0, 0.0, 0.006570115455544505, 0.0, 0.0032850577277722527, 0.0, 0.0, 0.0032850577277722527, 0.0, 0.0, 0.0, 0.0032850577277722527, 0.0, 0.0032850577277722527, 0.0032850577277722527, 0.0032850577277722527, 0.0, 0.0032850577277722527, 0.0032850577277722527, 0.0032850577277722527, 0.0, 0.0032850577277722527, 0.0, 0.0, 0.0, 0.0, 0.009855173183316758, 0.0, 0.0, 0.0, 0.0, 0.0, 0.0, 0.0, 0.0032850577277722527, 0.0, 0.0032850577277722527, 0.0, 0.0032850577277722527, 0.0, 0.0, 0.0, 0.0032850577277722527, 0.0, 0.0032850577277722527, 0.0, 0.016425288638861262, 0.0032850577277722527, 0.0032850577277722527, 0.0032850577277722527, 0.0, 0.0032850577277722527, 0.0, 0.0, 0.0, 0.0, 0.01314023091108901, 0.01314023091108901, 0.0, 0.0, 0.0032850577277722527, 0.0, 0.0, 0.0, 0.0, 0.0, 0.0, 0.0, 0.0, 0.0032850577277722527, 0.0032850577277722527, 0.0, 0.0, 0.016425288638861262, 0.016425288638861262, 0.0, 0.0, 0.009855173183316758, 0.0032850577277722527, 0.006570115455544505, 0.0, 0.0032850577277722527, 0.0, 0.0032850577277722527, 0.0, 0.009855173183316758, 0.0, 0.0, 0.0, 0.0, 0.0, 0.0, 0.0, 0.0, 0.006570115455544505, 0.0, 0.0, 0.006570115455544505, 0.0032850577277722527, 0.0, 0.0, 0.016425288638861262, 0.006570115455544505, 0.0, 0.0, 0.0, 0.006570115455544505, 0.0, 0.0032850577277722527, 0.006570115455544505, 0.0032850577277722527, 0.0032850577277722527, 0.0032850577277722527, 0.006570115455544505, 0.0032850577277722527, 0.0032850577277722527, 0.0, 0.0, 0.0, 0.0, 0.0, 0.0, 0.01314023091108901, 0.01314023091108901, 0.0, 0.006570115455544505, 0.0, 0.0, 0.0, 0.016425288638861262, 0.0, 0.0, 0.0, 0.0032850577277722527, 0.0, 0.0032850577277722527, 0.0, 0.0032850577277722527, 0.0032850577277722527, 0.0, 0.0, 0.0032850577277722527, 0.006570115455544505, 0.0, 0.016425288638861262, 0.006570115455544505, 0.0, 0.0032850577277722527, 0.0, 0.0, 0.006570115455544505, 0.0, 0.0, 0.0, 0.0032850577277722527, 0.0, 0.0, 0.0, 0.0, 0.0, 0.006570115455544505, 0.0, 0.0032850577277722527, 0.0, 0.0, 0.0, 0.006570115455544505, 0.0, 0.0, 0.0032850577277722527, 0.0032850577277722527, 0.0, 0.0032850577277722527, 0.0, 0.0, 0.016425288638861262, 0.0, 0.009855173183316758, 0.016425288638861262, 0.0, 0.0032850577277722527, 0.0, 0.0, 0.0, 0.0032850577277722527, 0.0, 0.01314023091108901, 0.0032850577277722527, 0.0, 0.0032850577277722527, 0.0, 0.0, 0.006570115455544505, 0.009855173183316758, 0.01314023091108901, 0.01314023091108901, 0.0, 0.0, 0.0032850577277722527, 0.0032850577277722527, 0.006570115455544505, 0.016425288638861262, 0.0, 0.0032850577277722527, 0.0, 0.0, 0.0, 0.0, 0.0032850577277722527, 0.0, 0.0032850577277722527, 0.0, 0.0032850577277722527, 0.0, 0.0032850577277722527, 0.0032850577277722527, 0.0032850577277722527, 0.0, 0.0, 0.0, 0.0, 0.006570115455544505, 0.0, 0.0, 0.0032850577277722527, 0.0032850577277722527, 0.0, 0.0032850577277722527, 0.009855173183316758, 0.0032850577277722527, 0.0, 0.0032850577277722527, 0.0, 0.0, 0.0, 0.006570115455544505, 0.016425288638861262, 0.0032850577277722527, 0.0, 0.0032850577277722527, 0.0, 0.0, 0.0, 0.0, 0.0, 0.0, 0.0, 0.006570115455544505, 0.0032850577277722527, 0.006570115455544505, 0.0, 0.01314023091108901, 0.006570115455544505, 0.0, 0.016425288638861262, 0.0, 0.0, 0.0032850577277722527, 0.0032850577277722527, 0.0, 0.0, 0.0032850577277722527, 0.0032850577277722527, 0.0, 0.01314023091108901, 0.0, 0.0032850577277722527, 0.006570115455544505, 0.0, 0.0032850577277722527, 0.0, 0.0032850577277722527, 0.0032850577277722527, 0.0032850577277722527, 0.0032850577277722527, 0.0, 0.016425288638861262, 0.0032850577277722527, 0.0032850577277722527, 0.0, 0.0032850577277722527, 0.006570115455544505, 0.0, 0.016425288638861262, 0.0032850577277722527, 0.0, 0.0032850577277722527, 0.0032850577277722527, 0.0032850577277722527, 0.006570115455544505, 0.0, 0.006570115455544505, 0.0, 0.0, 0.0, 0.0, 0.0, 0.0032850577277722527, 0.0032850577277722527, 0.0, 0.0, 0.006570115455544505, 0.009855173183316758, 0.0, 0.0, 0.0032850577277722527, 0.0, 0.0032850577277722527, 0.01314023091108901, 0.0, 0.0032850577277722527, 0.0, 0.0032850577277722527, 0.0032850577277722527, 0.0, 0.0, 0.0, 0.0, 0.0, 0.016425288638861262, 0.006570115455544505, 0.016425288638861262, 0.0, 0.0032850577277722527, 0.0, 0.0, 0.0032850577277722527, 0.0, 0.01314023091108901, 0.006570115455544505, 0.0, 0.0, 0.0032850577277722527, 0.009855173183316758, 0.01314023091108901, 0.0, 0.0032850577277722527, 0.0, 0.01314023091108901, 0.0, 0.0032850577277722527, 0.0, 0.0, 0.0, 0.0, 0.0, 0.0, 0.009855173183316758, 0.0032850577277722527, 0.006570115455544505, 0.0032850577277722527, 0.0, 0.0, 0.0, 0.0, 0.0, 0.0, 0.0, 0.0032850577277722527, 0.0, 0.0, 0.0, 0.0, 0.0032850577277722527, 0.0032850577277722527, 0.0032850577277722527, 0.006570115455544505, 0.0, 0.0032850577277722527, 0.006570115455544505, 0.0, 0.0, 0.0, 0.0032850577277722527, 0.0, 0.0, 0.006570115455544505, 0.0, 0.0, 0.0, 0.0032850577277722527, 0.0032850577277722527, 0.0, 0.0, 0.0032850577277722527, 0.0032850577277722527, 0.0032850577277722527, 0.0, 0.0032850577277722527, 0.0032850577277722527, 0.0032850577277722527, 0.0, 0.0, 0.0, 0.0]\n"
          ]
        }
      ],
      "source": [
        "print(doc_2_tfidf)"
      ]
    }
  ],
  "metadata": {
    "colab": {
      "provenance": []
    },
    "kernelspec": {
      "display_name": "Python 3",
      "name": "python3"
    },
    "language_info": {
      "codemirror_mode": {
        "name": "ipython",
        "version": 3
      },
      "file_extension": ".py",
      "mimetype": "text/x-python",
      "name": "python",
      "nbconvert_exporter": "python",
      "pygments_lexer": "ipython3",
      "version": "3.11.4"
    }
  },
  "nbformat": 4,
  "nbformat_minor": 0
}
