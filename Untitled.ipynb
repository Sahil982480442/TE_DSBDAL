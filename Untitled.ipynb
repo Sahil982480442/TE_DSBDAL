{
 "cells": [
  {
   "cell_type": "code",
   "execution_count": 1,
   "id": "83ba98cf-2793-4ca2-b30b-15cd42ca413a",
   "metadata": {},
   "outputs": [],
   "source": [
    "import numpy,nltk,re,math"
   ]
  },
  {
   "cell_type": "code",
   "execution_count": 11,
   "id": "63824ea5-b93e-4a45-9d98-bbe729c1e363",
   "metadata": {},
   "outputs": [],
   "source": [
    "with open(\"doc_01.txt\",\"r\") as file:\n",
    "    doc1=file.read()\n",
    "with open(\"doc_02.txt\",\"r\") as file:\n",
    "    doc2=file.read()"
   ]
  },
  {
   "cell_type": "code",
   "execution_count": 13,
   "id": "c77096f4-4ea5-4d45-b36d-9da6443dcebf",
   "metadata": {},
   "outputs": [
    {
     "name": "stdout",
     "output_type": "stream",
     "text": [
      "Between 2016 and 2019, the state forest department under theÂ BJPÂ government had launched â€˜Green Maharashtraâ€™ drive with an aim to plant 50 crore trees across the state in the four-year period. In October 2019, the government had claimed it had surpassed the target by planting 33 crore trees in July-September 2019.Â The Indian ExpressÂ had found that non-forest agencies â€” such as gram panchayats â€” which were tasked with planting trees had not uploaded the mandatory audio-visual proof of the tree plantation drives on the specially created portal.\n",
      "In Pune Revenue Division, it was claimed the gram panchayats planted 1.7 crore saplings; however, no evidence was uploaded for 87 per cent (1.49 crore) saplings. Also, out of the 59 government agencies involved in the drive as many as 38 had not submitted survival reports about the saplings.\n",
      "This year, the targets set by the forest department were comparatively modest. For example, Pune Circle â€” which comprises three divisions in Pune and Solapur district â€” had planned to plant 17 lakh saplings on forest land. However, it may not meet the target due to unavailability of funds. Last year Pune Circle planted 70 lakh saplings on forest land.\n",
      "In Pune Division â€” which comprises six talukas namely Maval, Mulshi, Daund, Indapur, Baramati and Havveli â€” preparations were done for plantation of about 4 lakh trees with special emphasis on teakwood.\n",
      "The National Forest Policy aims and emphasizes at maintaining 33% of the countryâ€™s geographical area under forest and green cover. In view of this and as a part of the 50 crore plantation programme within Maharashtra, the Maharashtra Forest Department aims to plant 4 crore saplings all over the State betweenÂ 1st to July 7th, 2017Â to celebrateÂ â€˜Vanmohotsavâ€™.\n",
      "Â \n",
      "The plantation programme, which was announced in 2016 with the aim of plantingÂ 2 crore trees on 1stÂ July 2016 was a resounding success with the final total reported figure ofÂ 2.82 crore saplings plantedÂ on a single day. To maintain consistency of this platform without affecting its momentum, the Forest Department has set the target of plantation of 4 crore, 13 crore and 33 crore saplings under the mission of 50 crore plantation which shall be accomplished in the three consecutive years viz. 2017, 2018 and 2019.\n",
      "Â \n",
      "TheÂ 4 croreÂ saplings for the year 2017 will be planted during the Vanmohotsav,Â July 1st to July 7thÂ in a state-wide driveÂ with the involvement of 33 government departments along with Students of Schools and Colleges, NSS, NCC, CSR, NGOs, Railways, National Highways, Defence, NABARD and other stakeholders of Society.\n",
      "Â \n",
      "In a first of its kind, aÂ 24-hourÂ toll freeÂ helpline number 1926Â called â€˜Hello Forestâ€™ has been set up to provide information regarding plantation, protection and for mass awareness. The Forest Department has created aÂ mobile application called â€˜My Plantsâ€™Â to record details of the plantation such as numbers, species and location into the computer system of the Forest Department. All volunteers at individual, collective and organizational level should download and use this application to record their tree plantation work through the application, which will be operational from 1stÂ July to 7thÂ July.Â \n",
      "Â \n",
      "In consonance of the public participation, the Maharashtra Forest Department has initiated the â€˜Maharashtra Harit Senaâ€™/ â€˜Green Armyâ€™ which is a body of dedicated volunteers to participate in the plantation, protection, and activities in forest, wildlife, and related sectors around the year. Individuals and organisations interested in volunteering can register on the Green Army websiteÂ www.greenarmy.mahaforest.gov.in\n",
      "Â \n",
      "An integrated drive has been set in place to ensure seamless and successful participation from all stakeholders of society, especially the public.\n",
      "\n",
      "\n"
     ]
    }
   ],
   "source": [
    "print(doc1)"
   ]
  },
  {
   "cell_type": "code",
   "execution_count": 27,
   "id": "55c459b8-389f-4b17-bca9-d367fa64e71d",
   "metadata": {},
   "outputs": [],
   "source": [
    "token_words=nltk.word_tokenize(doc1)"
   ]
  },
  {
   "cell_type": "code",
   "execution_count": 29,
   "id": "caca3a50-10cf-4425-89f2-030434096a37",
   "metadata": {},
   "outputs": [
    {
     "name": "stdout",
     "output_type": "stream",
     "text": [
      "['Between', '2016', 'and', '2019', ',', 'the', 'state', 'forest', 'department', 'under', 'theÂ', 'BJPÂ', 'government', 'had', 'launched', 'â€˜Green', 'Maharashtraâ€™', 'drive', 'with', 'an', 'aim', 'to', 'plant', '50', 'crore', 'trees', 'across', 'the', 'state', 'in', 'the', 'four-year', 'period', '.', 'In', 'October', '2019', ',', 'the', 'government', 'had', 'claimed', 'it', 'had', 'surpassed', 'the', 'target', 'by', 'planting', '33', 'crore', 'trees', 'in', 'July-September', '2019.Â', 'The', 'Indian', 'ExpressÂ', 'had', 'found', 'that', 'non-forest', 'agencies', 'â€', '”', 'such', 'as', 'gram', 'panchayats', 'â€', '”', 'which', 'were', 'tasked', 'with', 'planting', 'trees', 'had', 'not', 'uploaded', 'the', 'mandatory', 'audio-visual', 'proof', 'of', 'the', 'tree', 'plantation', 'drives', 'on', 'the', 'specially', 'created', 'portal', '.', 'In', 'Pune', 'Revenue', 'Division', ',', 'it', 'was', 'claimed', 'the', 'gram', 'panchayats', 'planted', '1.7', 'crore', 'saplings', ';', 'however', ',', 'no', 'evidence', 'was', 'uploaded', 'for', '87', 'per', 'cent', '(', '1.49', 'crore', ')', 'saplings', '.', 'Also', ',', 'out', 'of', 'the', '59', 'government', 'agencies', 'involved', 'in', 'the', 'drive', 'as', 'many', 'as', '38', 'had', 'not', 'submitted', 'survival', 'reports', 'about', 'the', 'saplings', '.', 'This', 'year', ',', 'the', 'targets', 'set', 'by', 'the', 'forest', 'department', 'were', 'comparatively', 'modest', '.', 'For', 'example', ',', 'Pune', 'Circle', 'â€', '”', 'which', 'comprises', 'three', 'divisions', 'in', 'Pune', 'and', 'Solapur', 'district', 'â€', '”', 'had', 'planned', 'to', 'plant', '17', 'lakh', 'saplings', 'on', 'forest', 'land', '.', 'However', ',', 'it', 'may', 'not', 'meet', 'the', 'target', 'due', 'to', 'unavailability', 'of', 'funds', '.', 'Last', 'year', 'Pune', 'Circle', 'planted', '70', 'lakh', 'saplings', 'on', 'forest', 'land', '.', 'In', 'Pune', 'Division', 'â€', '”', 'which', 'comprises', 'six', 'talukas', 'namely', 'Maval', ',', 'Mulshi', ',', 'Daund', ',', 'Indapur', ',', 'Baramati', 'and', 'Havveli', 'â€', '”', 'preparations', 'were', 'done', 'for', 'plantation', 'of', 'about', '4', 'lakh', 'trees', 'with', 'special', 'emphasis', 'on', 'teakwood', '.', 'The', 'National', 'Forest', 'Policy', 'aims', 'and', 'emphasizes', 'at', 'maintaining', '33', '%', 'of', 'the', 'countryâ€™s', 'geographical', 'area', 'under', 'forest', 'and', 'green', 'cover', '.', 'In', 'view', 'of', 'this', 'and', 'as', 'a', 'part', 'of', 'the', '50', 'crore', 'plantation', 'programme', 'within', 'Maharashtra', ',', 'the', 'Maharashtra', 'Forest', 'Department', 'aims', 'to', 'plant', '4', 'crore', 'saplings', 'all', 'over', 'the', 'State', 'betweenÂ', '1st', 'to', 'July', '7th', ',', '2017Â', 'to', 'celebrateÂ', 'â€˜Vanmohotsavâ€™', '.', 'Â', 'The', 'plantation', 'programme', ',', 'which', 'was', 'announced', 'in', '2016', 'with', 'the', 'aim', 'of', 'plantingÂ', '2', 'crore', 'trees', 'on', '1stÂ', 'July', '2016', 'was', 'a', 'resounding', 'success', 'with', 'the', 'final', 'total', 'reported', 'figure', 'ofÂ', '2.82', 'crore', 'saplings', 'plantedÂ', 'on', 'a', 'single', 'day', '.', 'To', 'maintain', 'consistency', 'of', 'this', 'platform', 'without', 'affecting', 'its', 'momentum', ',', 'the', 'Forest', 'Department', 'has', 'set', 'the', 'target', 'of', 'plantation', 'of', '4', 'crore', ',', '13', 'crore', 'and', '33', 'crore', 'saplings', 'under', 'the', 'mission', 'of', '50', 'crore', 'plantation', 'which', 'shall', 'be', 'accomplished', 'in', 'the', 'three', 'consecutive', 'years', 'viz', '.', '2017', ',', '2018', 'and', '2019', '.', 'Â', 'TheÂ', '4', 'croreÂ', 'saplings', 'for', 'the', 'year', '2017', 'will', 'be', 'planted', 'during', 'the', 'Vanmohotsav', ',', 'Â', 'July', '1st', 'to', 'July', '7thÂ', 'in', 'a', 'state-wide', 'driveÂ', 'with', 'the', 'involvement', 'of', '33', 'government', 'departments', 'along', 'with', 'Students', 'of', 'Schools', 'and', 'Colleges', ',', 'NSS', ',', 'NCC', ',', 'CSR', ',', 'NGOs', ',', 'Railways', ',', 'National', 'Highways', ',', 'Defence', ',', 'NABARD', 'and', 'other', 'stakeholders', 'of', 'Society', '.', 'Â', 'In', 'a', 'first', 'of', 'its', 'kind', ',', 'aÂ', '24-hourÂ', 'toll', 'freeÂ', 'helpline', 'number', '1926Â', 'called', 'â€˜Hello', 'Forestâ€™', 'has', 'been', 'set', 'up', 'to', 'provide', 'information', 'regarding', 'plantation', ',', 'protection', 'and', 'for', 'mass', 'awareness', '.', 'The', 'Forest', 'Department', 'has', 'created', 'aÂ', 'mobile', 'application', 'called', 'â€˜My', 'Plantsâ€™Â', 'to', 'record', 'details', 'of', 'the', 'plantation', 'such', 'as', 'numbers', ',', 'species', 'and', 'location', 'into', 'the', 'computer', 'system', 'of', 'the', 'Forest', 'Department', '.', 'All', 'volunteers', 'at', 'individual', ',', 'collective', 'and', 'organizational', 'level', 'should', 'download', 'and', 'use', 'this', 'application', 'to', 'record', 'their', 'tree', 'plantation', 'work', 'through', 'the', 'application', ',', 'which', 'will', 'be', 'operational', 'from', '1stÂ', 'July', 'to', '7thÂ', 'July.Â', 'Â', 'In', 'consonance', 'of', 'the', 'public', 'participation', ',', 'the', 'Maharashtra', 'Forest', 'Department', 'has', 'initiated', 'the', 'â€˜Maharashtra', 'Harit', 'Senaâ€™/', 'â€˜Green', 'Armyâ€™', 'which', 'is', 'a', 'body', 'of', 'dedicated', 'volunteers', 'to', 'participate', 'in', 'the', 'plantation', ',', 'protection', ',', 'and', 'activities', 'in', 'forest', ',', 'wildlife', ',', 'and', 'related', 'sectors', 'around', 'the', 'year', '.', 'Individuals', 'and', 'organisations', 'interested', 'in', 'volunteering', 'can', 'register', 'on', 'the', 'Green', 'Army', 'websiteÂ', 'www.greenarmy.mahaforest.gov.in', 'Â', 'An', 'integrated', 'drive', 'has', 'been', 'set', 'in', 'place', 'to', 'ensure', 'seamless', 'and', 'successful', 'participation', 'from', 'all', 'stakeholders', 'of', 'society', ',', 'especially', 'the', 'public', '.']\n"
     ]
    }
   ],
   "source": [
    "print(token_words)"
   ]
  },
  {
   "cell_type": "code",
   "execution_count": 31,
   "id": "0fde9b96-5930-40bb-a736-be83a0fc0d5f",
   "metadata": {},
   "outputs": [
    {
     "name": "stdout",
     "output_type": "stream",
     "text": [
      "{'not', 'having', \"it'll\", 'yourself', 'all', 'into', 'weren', 'hasn', \"it's\", 'itself', 'y', 'so', 'those', 'up', 'they', 'to', 'that', 'during', \"you'll\", 'do', 'as', \"mightn't\", \"we've\", 'too', 'very', 'whom', \"we'll\", 'should', 's', 'my', 'it', 'and', 'this', 've', 'didn', 'few', \"they'll\", 'only', 'after', \"she'd\", 'he', 'our', 'about', \"don't\", 'can', 'them', 'some', 'doing', 'off', 'an', 'through', 'isn', 'was', \"wouldn't\", \"she's\", 'aren', 'yours', 'don', 'out', 'below', 'is', 'with', 'from', 'a', \"hadn't\", \"he'd\", 'if', 'you', 't', 'shouldn', 'hers', 'the', 'your', 'their', \"hasn't\", 'just', 're', 'herself', 'same', 'down', 'being', 'does', \"doesn't\", 'own', 'before', 'been', 'of', 'his', \"weren't\", 'haven', 'me', 'but', 'o', 'ma', 'these', 'for', 'has', 'did', 'further', 'ourselves', 'under', 'than', \"won't\", \"didn't\", 'who', 'am', 'once', 'himself', 'when', 'she', 'myself', 'ours', 'i', \"they've\", 'more', \"that'll\", 'themselves', \"i'd\", 'will', 'we', \"you've\", \"you're\", 'in', 'her', 'm', 'nor', \"he'll\", 'were', \"couldn't\", 'until', 'have', 'against', 'while', 'won', 'wasn', \"i'm\", 'at', 'hadn', 'him', 'any', 'no', 'on', \"she'll\", 'shan', \"you'd\", 'most', 'how', 'again', \"should've\", 'each', 'had', \"isn't\", \"it'd\", \"mustn't\", 'here', \"we'd\", \"shouldn't\", \"we're\", 'doesn', 'between', 'be', 'above', 'mightn', 'or', 'then', \"they'd\", 'where', \"aren't\", \"wasn't\", 'what', 'by', 'its', 'mustn', \"shan't\", \"i've\", 'there', 'other', 'yourselves', 'd', 'theirs', \"needn't\", 'such', \"they're\", 'ain', 'are', \"i'll\", 'because', 'couldn', 'both', \"haven't\", 'wouldn', 'over', 'needn', 'now', 'll', \"he's\", 'which', 'why'}\n"
     ]
    }
   ],
   "source": [
    "stop_words=set(nltk.corpus.stopwords.words('english'))\n",
    "print(stop_words)"
   ]
  },
  {
   "cell_type": "code",
   "execution_count": 33,
   "id": "e17b6395-7e4e-4914-8baf-5733c1bdfdf3",
   "metadata": {},
   "outputs": [
    {
     "data": {
      "text/plain": [
       "673"
      ]
     },
     "execution_count": 33,
     "metadata": {},
     "output_type": "execute_result"
    }
   ],
   "source": [
    "len(token_words)"
   ]
  },
  {
   "cell_type": "code",
   "execution_count": 35,
   "id": "5a9f3a95-77d4-4ecf-8df7-3ea075191ef9",
   "metadata": {},
   "outputs": [],
   "source": [
    "doc_words=[word for word in token_words if word not in stop_words]"
   ]
  },
  {
   "cell_type": "code",
   "execution_count": 37,
   "id": "97ceac39-c78d-44be-8e27-516bbf954c3a",
   "metadata": {},
   "outputs": [
    {
     "data": {
      "text/plain": [
       "469"
      ]
     },
     "execution_count": 37,
     "metadata": {},
     "output_type": "execute_result"
    }
   ],
   "source": [
    "len(doc_words)"
   ]
  },
  {
   "cell_type": "code",
   "execution_count": 41,
   "id": "566f576f-eb07-4ecd-bc40-74ed1693cfcc",
   "metadata": {},
   "outputs": [],
   "source": [
    "from nltk.stem import PorterStemmer, WordNetLemmatizer"
   ]
  },
  {
   "cell_type": "code",
   "execution_count": 43,
   "id": "c02d899d-d283-4ab9-a3c5-8e510f93bcac",
   "metadata": {},
   "outputs": [],
   "source": [
    "lemmatizer=WordNetLemmatizer()\n",
    "stemmer=PorterStemmer()"
   ]
  },
  {
   "cell_type": "code",
   "execution_count": 45,
   "id": "12c50718-5751-41cd-8b12-be696f1fc3c0",
   "metadata": {},
   "outputs": [],
   "source": [
    "def stem_lem(tokens):\n",
    "    lem_words=[lemmatizer.lemmatize(word) for word in tokens]\n",
    "    stem_words=[stemmer.stem(word) for word in tokens]\n",
    "    return lem_words,stem_words\n"
   ]
  },
  {
   "cell_type": "code",
   "execution_count": 47,
   "id": "dafe319e-1a58-4659-b689-e44160442ad9",
   "metadata": {},
   "outputs": [],
   "source": [
    "lem_words,stem_words=stem_lem(doc_words)"
   ]
  },
  {
   "cell_type": "code",
   "execution_count": 49,
   "id": "3be77f99-2f32-445a-9f8f-b7be689d5431",
   "metadata": {},
   "outputs": [
    {
     "name": "stdout",
     "output_type": "stream",
     "text": [
      "['Between', '2016', '2019', ',', 'state', 'forest', 'department', 'theÂ', 'BJPÂ', 'government', 'launched', 'â€˜Green', 'Maharashtraâ€™', 'drive', 'aim', 'plant', '50', 'crore', 'tree', 'across', 'state', 'four-year', 'period', '.', 'In', 'October', '2019', ',', 'government', 'claimed', 'surpassed', 'target', 'planting', '33', 'crore', 'tree', 'July-September', '2019.Â', 'The', 'Indian', 'ExpressÂ', 'found', 'non-forest', 'agency', 'â€', '”', 'gram', 'panchayat', 'â€', '”', 'tasked', 'planting', 'tree', 'uploaded', 'mandatory', 'audio-visual', 'proof', 'tree', 'plantation', 'drive', 'specially', 'created', 'portal', '.', 'In', 'Pune', 'Revenue', 'Division', ',', 'claimed', 'gram', 'panchayat', 'planted', '1.7', 'crore', 'sapling', ';', 'however', ',', 'evidence', 'uploaded', '87', 'per', 'cent', '(', '1.49', 'crore', ')', 'sapling', '.', 'Also', ',', '59', 'government', 'agency', 'involved', 'drive', 'many', '38', 'submitted', 'survival', 'report', 'sapling', '.', 'This', 'year', ',', 'target', 'set', 'forest', 'department', 'comparatively', 'modest', '.', 'For', 'example', ',', 'Pune', 'Circle', 'â€', '”', 'comprises', 'three', 'division', 'Pune', 'Solapur', 'district', 'â€', '”', 'planned', 'plant', '17', 'lakh', 'sapling', 'forest', 'land', '.', 'However', ',', 'may', 'meet', 'target', 'due', 'unavailability', 'fund', '.', 'Last', 'year', 'Pune', 'Circle', 'planted', '70', 'lakh', 'sapling', 'forest', 'land', '.', 'In', 'Pune', 'Division', 'â€', '”', 'comprises', 'six', 'talukas', 'namely', 'Maval', ',', 'Mulshi', ',', 'Daund', ',', 'Indapur', ',', 'Baramati', 'Havveli', 'â€', '”', 'preparation', 'done', 'plantation', '4', 'lakh', 'tree', 'special', 'emphasis', 'teakwood', '.', 'The', 'National', 'Forest', 'Policy', 'aim', 'emphasizes', 'maintaining', '33', '%', 'countryâ€™s', 'geographical', 'area', 'forest', 'green', 'cover', '.', 'In', 'view', 'part', '50', 'crore', 'plantation', 'programme', 'within', 'Maharashtra', ',', 'Maharashtra', 'Forest', 'Department', 'aim', 'plant', '4', 'crore', 'sapling', 'State', 'betweenÂ', '1st', 'July', '7th', ',', '2017Â', 'celebrateÂ', 'â€˜Vanmohotsavâ€™', '.', 'Â', 'The', 'plantation', 'programme', ',', 'announced', '2016', 'aim', 'plantingÂ', '2', 'crore', 'tree', '1stÂ', 'July', '2016', 'resounding', 'success', 'final', 'total', 'reported', 'figure', 'ofÂ', '2.82', 'crore', 'sapling', 'plantedÂ', 'single', 'day', '.', 'To', 'maintain', 'consistency', 'platform', 'without', 'affecting', 'momentum', ',', 'Forest', 'Department', 'set', 'target', 'plantation', '4', 'crore', ',', '13', 'crore', '33', 'crore', 'sapling', 'mission', '50', 'crore', 'plantation', 'shall', 'accomplished', 'three', 'consecutive', 'year', 'viz', '.', '2017', ',', '2018', '2019', '.', 'Â', 'TheÂ', '4', 'croreÂ', 'sapling', 'year', '2017', 'planted', 'Vanmohotsav', ',', 'Â', 'July', '1st', 'July', '7thÂ', 'state-wide', 'driveÂ', 'involvement', '33', 'government', 'department', 'along', 'Students', 'Schools', 'Colleges', ',', 'NSS', ',', 'NCC', ',', 'CSR', ',', 'NGOs', ',', 'Railways', ',', 'National', 'Highways', ',', 'Defence', ',', 'NABARD', 'stakeholder', 'Society', '.', 'Â', 'In', 'first', 'kind', ',', 'aÂ', '24-hourÂ', 'toll', 'freeÂ', 'helpline', 'number', '1926Â', 'called', 'â€˜Hello', 'Forestâ€™', 'set', 'provide', 'information', 'regarding', 'plantation', ',', 'protection', 'mass', 'awareness', '.', 'The', 'Forest', 'Department', 'created', 'aÂ', 'mobile', 'application', 'called', 'â€˜My', 'Plantsâ€™Â', 'record', 'detail', 'plantation', 'number', ',', 'specie', 'location', 'computer', 'system', 'Forest', 'Department', '.', 'All', 'volunteer', 'individual', ',', 'collective', 'organizational', 'level', 'download', 'use', 'application', 'record', 'tree', 'plantation', 'work', 'application', ',', 'operational', '1stÂ', 'July', '7thÂ', 'July.Â', 'Â', 'In', 'consonance', 'public', 'participation', ',', 'Maharashtra', 'Forest', 'Department', 'initiated', 'â€˜Maharashtra', 'Harit', 'Senaâ€™/', 'â€˜Green', 'Armyâ€™', 'body', 'dedicated', 'volunteer', 'participate', 'plantation', ',', 'protection', ',', 'activity', 'forest', ',', 'wildlife', ',', 'related', 'sector', 'around', 'year', '.', 'Individuals', 'organisation', 'interested', 'volunteering', 'register', 'Green', 'Army', 'websiteÂ', 'www.greenarmy.mahaforest.gov.in', 'Â', 'An', 'integrated', 'drive', 'set', 'place', 'ensure', 'seamless', 'successful', 'participation', 'stakeholder', 'society', ',', 'especially', 'public', '.']\n"
     ]
    }
   ],
   "source": [
    "print(lem_words)"
   ]
  },
  {
   "cell_type": "code",
   "execution_count": 51,
   "id": "30314825-a0f0-4d95-a1f2-fe26af2fabb3",
   "metadata": {},
   "outputs": [
    {
     "name": "stdout",
     "output_type": "stream",
     "text": [
      "['between', '2016', '2019', ',', 'state', 'forest', 'depart', 'theâ', 'bjpâ', 'govern', 'launch', 'â€˜green', 'maharashtraâ€™', 'drive', 'aim', 'plant', '50', 'crore', 'tree', 'across', 'state', 'four-year', 'period', '.', 'in', 'octob', '2019', ',', 'govern', 'claim', 'surpass', 'target', 'plant', '33', 'crore', 'tree', 'july-septemb', '2019.â', 'the', 'indian', 'expressâ', 'found', 'non-forest', 'agenc', 'â€', '”', 'gram', 'panchayat', 'â€', '”', 'task', 'plant', 'tree', 'upload', 'mandatori', 'audio-visu', 'proof', 'tree', 'plantat', 'drive', 'special', 'creat', 'portal', '.', 'in', 'pune', 'revenu', 'divis', ',', 'claim', 'gram', 'panchayat', 'plant', '1.7', 'crore', 'sapl', ';', 'howev', ',', 'evid', 'upload', '87', 'per', 'cent', '(', '1.49', 'crore', ')', 'sapl', '.', 'also', ',', '59', 'govern', 'agenc', 'involv', 'drive', 'mani', '38', 'submit', 'surviv', 'report', 'sapl', '.', 'thi', 'year', ',', 'target', 'set', 'forest', 'depart', 'compar', 'modest', '.', 'for', 'exampl', ',', 'pune', 'circl', 'â€', '”', 'compris', 'three', 'divis', 'pune', 'solapur', 'district', 'â€', '”', 'plan', 'plant', '17', 'lakh', 'sapl', 'forest', 'land', '.', 'howev', ',', 'may', 'meet', 'target', 'due', 'unavail', 'fund', '.', 'last', 'year', 'pune', 'circl', 'plant', '70', 'lakh', 'sapl', 'forest', 'land', '.', 'in', 'pune', 'divis', 'â€', '”', 'compris', 'six', 'taluka', 'name', 'maval', ',', 'mulshi', ',', 'daund', ',', 'indapur', ',', 'baramati', 'havv', 'â€', '”', 'prepar', 'done', 'plantat', '4', 'lakh', 'tree', 'special', 'emphasi', 'teakwood', '.', 'the', 'nation', 'forest', 'polici', 'aim', 'emphas', 'maintain', '33', '%', 'countryâ€™', 'geograph', 'area', 'forest', 'green', 'cover', '.', 'in', 'view', 'part', '50', 'crore', 'plantat', 'programm', 'within', 'maharashtra', ',', 'maharashtra', 'forest', 'depart', 'aim', 'plant', '4', 'crore', 'sapl', 'state', 'betweenâ', '1st', 'juli', '7th', ',', '2017â', 'celebrateâ', 'â€˜vanmohotsavâ€™', '.', 'â', 'the', 'plantat', 'programm', ',', 'announc', '2016', 'aim', 'plantingâ', '2', 'crore', 'tree', '1stâ', 'juli', '2016', 'resound', 'success', 'final', 'total', 'report', 'figur', 'ofâ', '2.82', 'crore', 'sapl', 'plantedâ', 'singl', 'day', '.', 'to', 'maintain', 'consist', 'platform', 'without', 'affect', 'momentum', ',', 'forest', 'depart', 'set', 'target', 'plantat', '4', 'crore', ',', '13', 'crore', '33', 'crore', 'sapl', 'mission', '50', 'crore', 'plantat', 'shall', 'accomplish', 'three', 'consecut', 'year', 'viz', '.', '2017', ',', '2018', '2019', '.', 'â', 'theâ', '4', 'croreâ', 'sapl', 'year', '2017', 'plant', 'vanmohotsav', ',', 'â', 'juli', '1st', 'juli', '7thâ', 'state-wid', 'driveâ', 'involv', '33', 'govern', 'depart', 'along', 'student', 'school', 'colleg', ',', 'nss', ',', 'ncc', ',', 'csr', ',', 'ngo', ',', 'railway', ',', 'nation', 'highway', ',', 'defenc', ',', 'nabard', 'stakehold', 'societi', '.', 'â', 'in', 'first', 'kind', ',', 'aâ', '24-hourâ', 'toll', 'freeâ', 'helplin', 'number', '1926â', 'call', 'â€˜hello', 'forestâ€™', 'set', 'provid', 'inform', 'regard', 'plantat', ',', 'protect', 'mass', 'awar', '.', 'the', 'forest', 'depart', 'creat', 'aâ', 'mobil', 'applic', 'call', 'â€˜mi', 'plantsâ€™â', 'record', 'detail', 'plantat', 'number', ',', 'speci', 'locat', 'comput', 'system', 'forest', 'depart', '.', 'all', 'volunt', 'individu', ',', 'collect', 'organiz', 'level', 'download', 'use', 'applic', 'record', 'tree', 'plantat', 'work', 'applic', ',', 'oper', '1stâ', 'juli', '7thâ', 'july.â', 'â', 'in', 'conson', 'public', 'particip', ',', 'maharashtra', 'forest', 'depart', 'initi', 'â€˜maharashtra', 'harit', 'senaâ€™/', 'â€˜green', 'armyâ€™', 'bodi', 'dedic', 'volunt', 'particip', 'plantat', ',', 'protect', ',', 'activ', 'forest', ',', 'wildlif', ',', 'relat', 'sector', 'around', 'year', '.', 'individu', 'organis', 'interest', 'volunt', 'regist', 'green', 'armi', 'websiteâ', 'www.greenarmy.mahaforest.gov.in', 'â', 'an', 'integr', 'drive', 'set', 'place', 'ensur', 'seamless', 'success', 'particip', 'stakehold', 'societi', ',', 'especi', 'public', '.']\n"
     ]
    }
   ],
   "source": [
    "print(stem_words)"
   ]
  },
  {
   "cell_type": "code",
   "execution_count": 74,
   "id": "a65c1d11-d99b-4645-a6e7-c34076a01e0c",
   "metadata": {},
   "outputs": [],
   "source": [
    "def caltf(doc):\n",
    "    tokens=nltk.word_tokenize(doc)\n",
    "    temp=dict()\n",
    "    for word in tokens:\n",
    "        temp[word]=tokens.count(word)\n",
    "    tf=dict()\n",
    "    for word,cnt in temp.items():\n",
    "        tf[word]=cnt/(len(tokens))\n",
    "    return tf\n",
    "        "
   ]
  },
  {
   "cell_type": "code",
   "execution_count": 76,
   "id": "209230ff-3202-475d-b262-f3f281093174",
   "metadata": {},
   "outputs": [],
   "source": [
    "tf1=caltf(doc1)\n",
    "tf2=caltf(doc2)"
   ]
  },
  {
   "cell_type": "code",
   "execution_count": 78,
   "id": "de4a1136-3890-429e-b8da-274edf47a5bb",
   "metadata": {},
   "outputs": [
    {
     "name": "stdout",
     "output_type": "stream",
     "text": [
      "{'Between': 0.0014858841010401188, '2016': 0.004457652303120356, 'and': 0.02674591381872214, '2019': 0.004457652303120356, ',': 0.05646359583952452, 'the': 0.05794947994056464, 'state': 0.0029717682020802376, 'forest': 0.008915304606240713, 'department': 0.0029717682020802376, 'under': 0.004457652303120356, 'theÂ': 0.0014858841010401188, 'BJPÂ': 0.0014858841010401188, 'government': 0.005943536404160475, 'had': 0.010401188707280832, 'launched': 0.0014858841010401188, 'â€˜Green': 0.0029717682020802376, 'Maharashtraâ€™': 0.0014858841010401188, 'drive': 0.004457652303120356, 'with': 0.010401188707280832, 'an': 0.0014858841010401188, 'aim': 0.0029717682020802376, 'to': 0.019316493313521546, 'plant': 0.004457652303120356, '50': 0.004457652303120356, 'crore': 0.017830609212481426, 'trees': 0.007429420505200594, 'across': 0.0014858841010401188, 'in': 0.01634472511144131, 'four-year': 0.0014858841010401188, 'period': 0.0014858841010401188, '.': 0.02823179791976226, 'In': 0.008915304606240713, 'October': 0.0014858841010401188, 'claimed': 0.0029717682020802376, 'it': 0.004457652303120356, 'surpassed': 0.0014858841010401188, 'target': 0.004457652303120356, 'by': 0.0029717682020802376, 'planting': 0.0029717682020802376, '33': 0.005943536404160475, 'July-September': 0.0014858841010401188, '2019.Â': 0.0014858841010401188, 'The': 0.005943536404160475, 'Indian': 0.0014858841010401188, 'ExpressÂ': 0.0014858841010401188, 'found': 0.0014858841010401188, 'that': 0.0014858841010401188, 'non-forest': 0.0014858841010401188, 'agencies': 0.0029717682020802376, 'â€': 0.008915304606240713, '”': 0.008915304606240713, 'such': 0.0029717682020802376, 'as': 0.007429420505200594, 'gram': 0.0029717682020802376, 'panchayats': 0.0029717682020802376, 'which': 0.010401188707280832, 'were': 0.004457652303120356, 'tasked': 0.0014858841010401188, 'not': 0.004457652303120356, 'uploaded': 0.0029717682020802376, 'mandatory': 0.0014858841010401188, 'audio-visual': 0.0014858841010401188, 'proof': 0.0014858841010401188, 'of': 0.031203566121842496, 'tree': 0.0029717682020802376, 'plantation': 0.014858841010401188, 'drives': 0.0014858841010401188, 'on': 0.010401188707280832, 'specially': 0.0014858841010401188, 'created': 0.0029717682020802376, 'portal': 0.0014858841010401188, 'Pune': 0.007429420505200594, 'Revenue': 0.0014858841010401188, 'Division': 0.0029717682020802376, 'was': 0.005943536404160475, 'planted': 0.004457652303120356, '1.7': 0.0014858841010401188, 'saplings': 0.01337295690936107, ';': 0.0014858841010401188, 'however': 0.0014858841010401188, 'no': 0.0014858841010401188, 'evidence': 0.0014858841010401188, 'for': 0.005943536404160475, '87': 0.0014858841010401188, 'per': 0.0014858841010401188, 'cent': 0.0014858841010401188, '(': 0.0014858841010401188, '1.49': 0.0014858841010401188, ')': 0.0014858841010401188, 'Also': 0.0014858841010401188, 'out': 0.0014858841010401188, '59': 0.0014858841010401188, 'involved': 0.0014858841010401188, 'many': 0.0014858841010401188, '38': 0.0014858841010401188, 'submitted': 0.0014858841010401188, 'survival': 0.0014858841010401188, 'reports': 0.0014858841010401188, 'about': 0.0029717682020802376, 'This': 0.0014858841010401188, 'year': 0.005943536404160475, 'targets': 0.0014858841010401188, 'set': 0.005943536404160475, 'comparatively': 0.0014858841010401188, 'modest': 0.0014858841010401188, 'For': 0.0014858841010401188, 'example': 0.0014858841010401188, 'Circle': 0.0029717682020802376, 'comprises': 0.0029717682020802376, 'three': 0.0029717682020802376, 'divisions': 0.0014858841010401188, 'Solapur': 0.0014858841010401188, 'district': 0.0014858841010401188, 'planned': 0.0014858841010401188, '17': 0.0014858841010401188, 'lakh': 0.004457652303120356, 'land': 0.0029717682020802376, 'However': 0.0014858841010401188, 'may': 0.0014858841010401188, 'meet': 0.0014858841010401188, 'due': 0.0014858841010401188, 'unavailability': 0.0014858841010401188, 'funds': 0.0014858841010401188, 'Last': 0.0014858841010401188, '70': 0.0014858841010401188, 'six': 0.0014858841010401188, 'talukas': 0.0014858841010401188, 'namely': 0.0014858841010401188, 'Maval': 0.0014858841010401188, 'Mulshi': 0.0014858841010401188, 'Daund': 0.0014858841010401188, 'Indapur': 0.0014858841010401188, 'Baramati': 0.0014858841010401188, 'Havveli': 0.0014858841010401188, 'preparations': 0.0014858841010401188, 'done': 0.0014858841010401188, '4': 0.005943536404160475, 'special': 0.0014858841010401188, 'emphasis': 0.0014858841010401188, 'teakwood': 0.0014858841010401188, 'National': 0.0029717682020802376, 'Forest': 0.008915304606240713, 'Policy': 0.0014858841010401188, 'aims': 0.0029717682020802376, 'emphasizes': 0.0014858841010401188, 'at': 0.0029717682020802376, 'maintaining': 0.0014858841010401188, '%': 0.0014858841010401188, 'countryâ€™s': 0.0014858841010401188, 'geographical': 0.0014858841010401188, 'area': 0.0014858841010401188, 'green': 0.0014858841010401188, 'cover': 0.0014858841010401188, 'view': 0.0014858841010401188, 'this': 0.004457652303120356, 'a': 0.008915304606240713, 'part': 0.0014858841010401188, 'programme': 0.0029717682020802376, 'within': 0.0014858841010401188, 'Maharashtra': 0.004457652303120356, 'Department': 0.007429420505200594, 'all': 0.0029717682020802376, 'over': 0.0014858841010401188, 'State': 0.0014858841010401188, 'betweenÂ': 0.0014858841010401188, '1st': 0.0029717682020802376, 'July': 0.007429420505200594, '7th': 0.0014858841010401188, '2017Â': 0.0014858841010401188, 'celebrateÂ': 0.0014858841010401188, 'â€˜Vanmohotsavâ€™': 0.0014858841010401188, 'Â': 0.008915304606240713, 'announced': 0.0014858841010401188, 'plantingÂ': 0.0014858841010401188, '2': 0.0014858841010401188, '1stÂ': 0.0029717682020802376, 'resounding': 0.0014858841010401188, 'success': 0.0014858841010401188, 'final': 0.0014858841010401188, 'total': 0.0014858841010401188, 'reported': 0.0014858841010401188, 'figure': 0.0014858841010401188, 'ofÂ': 0.0014858841010401188, '2.82': 0.0014858841010401188, 'plantedÂ': 0.0014858841010401188, 'single': 0.0014858841010401188, 'day': 0.0014858841010401188, 'To': 0.0014858841010401188, 'maintain': 0.0014858841010401188, 'consistency': 0.0014858841010401188, 'platform': 0.0014858841010401188, 'without': 0.0014858841010401188, 'affecting': 0.0014858841010401188, 'its': 0.0029717682020802376, 'momentum': 0.0014858841010401188, 'has': 0.007429420505200594, '13': 0.0014858841010401188, 'mission': 0.0014858841010401188, 'shall': 0.0014858841010401188, 'be': 0.004457652303120356, 'accomplished': 0.0014858841010401188, 'consecutive': 0.0014858841010401188, 'years': 0.0014858841010401188, 'viz': 0.0014858841010401188, '2017': 0.0029717682020802376, '2018': 0.0014858841010401188, 'TheÂ': 0.0014858841010401188, 'croreÂ': 0.0014858841010401188, 'will': 0.0029717682020802376, 'during': 0.0014858841010401188, 'Vanmohotsav': 0.0014858841010401188, '7thÂ': 0.0029717682020802376, 'state-wide': 0.0014858841010401188, 'driveÂ': 0.0014858841010401188, 'involvement': 0.0014858841010401188, 'departments': 0.0014858841010401188, 'along': 0.0014858841010401188, 'Students': 0.0014858841010401188, 'Schools': 0.0014858841010401188, 'Colleges': 0.0014858841010401188, 'NSS': 0.0014858841010401188, 'NCC': 0.0014858841010401188, 'CSR': 0.0014858841010401188, 'NGOs': 0.0014858841010401188, 'Railways': 0.0014858841010401188, 'Highways': 0.0014858841010401188, 'Defence': 0.0014858841010401188, 'NABARD': 0.0014858841010401188, 'other': 0.0014858841010401188, 'stakeholders': 0.0029717682020802376, 'Society': 0.0014858841010401188, 'first': 0.0014858841010401188, 'kind': 0.0014858841010401188, 'aÂ': 0.0029717682020802376, '24-hourÂ': 0.0014858841010401188, 'toll': 0.0014858841010401188, 'freeÂ': 0.0014858841010401188, 'helpline': 0.0014858841010401188, 'number': 0.0014858841010401188, '1926Â': 0.0014858841010401188, 'called': 0.0029717682020802376, 'â€˜Hello': 0.0014858841010401188, 'Forestâ€™': 0.0014858841010401188, 'been': 0.0029717682020802376, 'up': 0.0014858841010401188, 'provide': 0.0014858841010401188, 'information': 0.0014858841010401188, 'regarding': 0.0014858841010401188, 'protection': 0.0029717682020802376, 'mass': 0.0014858841010401188, 'awareness': 0.0014858841010401188, 'mobile': 0.0014858841010401188, 'application': 0.004457652303120356, 'â€˜My': 0.0014858841010401188, 'Plantsâ€™Â': 0.0014858841010401188, 'record': 0.0029717682020802376, 'details': 0.0014858841010401188, 'numbers': 0.0014858841010401188, 'species': 0.0014858841010401188, 'location': 0.0014858841010401188, 'into': 0.0014858841010401188, 'computer': 0.0014858841010401188, 'system': 0.0014858841010401188, 'All': 0.0014858841010401188, 'volunteers': 0.0029717682020802376, 'individual': 0.0014858841010401188, 'collective': 0.0014858841010401188, 'organizational': 0.0014858841010401188, 'level': 0.0014858841010401188, 'should': 0.0014858841010401188, 'download': 0.0014858841010401188, 'use': 0.0014858841010401188, 'their': 0.0014858841010401188, 'work': 0.0014858841010401188, 'through': 0.0014858841010401188, 'operational': 0.0014858841010401188, 'from': 0.0029717682020802376, 'July.Â': 0.0014858841010401188, 'consonance': 0.0014858841010401188, 'public': 0.0029717682020802376, 'participation': 0.0029717682020802376, 'initiated': 0.0014858841010401188, 'â€˜Maharashtra': 0.0014858841010401188, 'Harit': 0.0014858841010401188, 'Senaâ€™/': 0.0014858841010401188, 'Armyâ€™': 0.0014858841010401188, 'is': 0.0014858841010401188, 'body': 0.0014858841010401188, 'dedicated': 0.0014858841010401188, 'participate': 0.0014858841010401188, 'activities': 0.0014858841010401188, 'wildlife': 0.0014858841010401188, 'related': 0.0014858841010401188, 'sectors': 0.0014858841010401188, 'around': 0.0014858841010401188, 'Individuals': 0.0014858841010401188, 'organisations': 0.0014858841010401188, 'interested': 0.0014858841010401188, 'volunteering': 0.0014858841010401188, 'can': 0.0014858841010401188, 'register': 0.0014858841010401188, 'Green': 0.0014858841010401188, 'Army': 0.0014858841010401188, 'websiteÂ': 0.0014858841010401188, 'www.greenarmy.mahaforest.gov.in': 0.0014858841010401188, 'An': 0.0014858841010401188, 'integrated': 0.0014858841010401188, 'place': 0.0014858841010401188, 'ensure': 0.0014858841010401188, 'seamless': 0.0014858841010401188, 'successful': 0.0014858841010401188, 'society': 0.0014858841010401188, 'especially': 0.0014858841010401188}\n"
     ]
    }
   ],
   "source": [
    "print(tf1)"
   ]
  },
  {
   "cell_type": "code",
   "execution_count": 80,
   "id": "957c6b15-b8be-4f22-911d-0d4a6e2b4ad7",
   "metadata": {},
   "outputs": [
    {
     "name": "stdout",
     "output_type": "stream",
     "text": [
      "{'Millions': 0.0022988505747126436, 'of': 0.03218390804597701, 'people': 0.0022988505747126436, 'in': 0.022988505747126436, 'India': 0.009195402298850575, 'took': 0.0022988505747126436, 'part': 0.0022988505747126436, 'an': 0.006896551724137931, 'annual': 0.004597701149425287, 'tree': 0.009195402298850575, 'planting': 0.004597701149425287, 'drive': 0.004597701149425287, 'Sunday': 0.0022988505747126436, '.': 0.041379310344827586, 'More': 0.0022988505747126436, 'than': 0.0022988505747126436, '250': 0.0022988505747126436, 'million': 0.004597701149425287, 'saplings': 0.01839080459770115, 'were': 0.006896551724137931, 'planted': 0.009195402298850575, 'a': 0.016091954022988506, 'single': 0.0022988505747126436, 'day': 0.0022988505747126436, 'across': 0.004597701149425287, 'the': 0.05517241379310345, 'country': 0.004597701149425287, \"'s\": 0.004597701149425287, 'most-populous': 0.0022988505747126436, 'state': 0.011494252873563218, 'The': 0.016091954022988506, 'campaign': 0.0022988505747126436, 'was': 0.004597701149425287, 'led': 0.0022988505747126436, 'by': 0.006896551724137931, 'Uttar': 0.009195402298850575, 'Pradesh': 0.009195402298850575, 'government': 0.009195402298850575, 'officials': 0.004597701149425287, ',': 0.04597701149425287, 'lawmakers': 0.0022988505747126436, 'and': 0.01839080459770115, 'activists': 0.0022988505747126436, 'bid': 0.0022988505747126436, 'to': 0.022988505747126436, 'reduce': 0.0022988505747126436, 'carbon': 0.0022988505747126436, 'emissions': 0.0022988505747126436, 'combat': 0.0022988505747126436, 'climate': 0.0022988505747126436, 'change': 0.0022988505747126436, 'Where': 0.0022988505747126436, 'trees': 0.004597701149425287, '?': 0.006896551724137931, 'volunteers': 0.0022988505747126436, 'forests': 0.0022988505747126436, 'farms': 0.0022988505747126436, 'schools': 0.0022988505747126436, 'along': 0.0022988505747126436, 'riverbanks': 0.0022988505747126436, 'highways': 0.0022988505747126436, '``': 0.011494252873563218, 'We': 0.0022988505747126436, 'are': 0.0022988505747126436, 'committed': 0.0022988505747126436, 'increasing': 0.0022988505747126436, 'forest': 0.011494252873563218, 'cover': 0.011494252873563218, 'over': 0.004597701149425287, '15': 0.0022988505747126436, '%': 0.011494252873563218, 'total': 0.004597701149425287, 'land': 0.006896551724137931, 'area': 0.004597701149425287, 'next': 0.0022988505747126436, 'five': 0.0022988505747126436, 'years': 0.004597701149425287, \"''\": 0.011494252873563218, 'said': 0.011494252873563218, 'official': 0.006896551724137931, 'Manoj': 0.0022988505747126436, 'Singh': 0.004597701149425287, 'According': 0.0022988505747126436, 'another': 0.0022988505747126436, 'has': 0.016091954022988506, 'increased': 0.004597701149425287, 'last': 0.004597701149425287, 'few': 0.0022988505747126436, 'There': 0.004597701149425287, 'been': 0.009195402298850575, 'increase': 0.004597701149425287, '127': 0.0022988505747126436, 'sqare': 0.004597701149425287, 'kilometers': 0.0022988505747126436, '[': 0.0022988505747126436, '79': 0.0022988505747126436, 'miles': 0.0022988505747126436, ']': 0.0022988505747126436, 'Â': 0.0022988505747126436, 'as': 0.006896551724137931, 'compared': 0.004597701149425287, '2017': 0.0022988505747126436, 'spokesperson': 0.0022988505747126436, 'quoted': 0.0022988505747126436, 'saying': 0.0022988505747126436, 'inÂ': 0.0022988505747126436, 'Indian': 0.0022988505747126436, 'Express': 0.0022988505747126436, 'newspaper': 0.004597701149425287, 'also': 0.0022988505747126436, 'plants': 0.0022988505747126436, '3.05': 0.0022988505747126436, 'national': 0.0022988505747126436, 'average': 0.0022988505747126436, '2.89': 0.0022988505747126436, 'citing': 0.0022988505747126436, '2019': 0.0022988505747126436, 'Forest': 0.004597701149425287, 'Survey': 0.0022988505747126436, 'report': 0.0022988505747126436, 'How': 0.0022988505747126436, 'many': 0.0022988505747126436, 'survive': 0.004597701149425287, 'State': 0.0022988505747126436, 'Minister': 0.0022988505747126436, 'Dara': 0.0022988505747126436, 'long-term': 0.0022988505747126436, 'survival': 0.0022988505747126436, 'remains': 0.0022988505747126436, 'concern': 0.0022988505747126436, 'adding': 0.0022988505747126436, 'that': 0.006896551724137931, 'usually': 0.0022988505747126436, 'only': 0.0022988505747126436, '60': 0.0022988505747126436, 'rest': 0.0022988505747126436, 'succumb': 0.0022988505747126436, 'disease': 0.0022988505747126436, 'or': 0.006896551724137931, 'lack': 0.0022988505747126436, 'water': 0.0022988505747126436, 'However': 0.004597701149425287, 'he': 0.004597701149425287, 'thatÂ': 0.0022988505747126436, 'about': 0.0022988505747126436, '80': 0.0022988505747126436, 'four': 0.0022988505747126436, 'drives': 0.0022988505747126436, 'have': 0.009195402298850575, 'survived': 0.004597701149425287, 'All': 0.0022988505747126436, 'regions': 0.0022988505747126436, 'where': 0.0022988505747126436, 'plantation': 0.004597701149425287, 'is': 0.004597701149425287, 'being': 0.0022988505747126436, 'carried': 0.0022988505747126436, 'out': 0.0022988505747126436, 'geo-tagged': 0.0022988505747126436, 'so': 0.004597701149425287, 'we': 0.0022988505747126436, 'can': 0.004597701149425287, 'ascertain': 0.0022988505747126436, 'what': 0.0022988505747126436, 'exactly': 0.0022988505747126436, 'happened': 0.0022988505747126436, 'Chauhan': 0.0022988505747126436, 'told': 0.0022988505747126436, 'Pioneer': 0.0022988505747126436, 'These': 0.0022988505747126436, 'carry': 0.0022988505747126436, 'QR': 0.0022988505747126436, 'codes': 0.0022988505747126436, 'maintain': 0.0022988505747126436, 'record': 0.0022988505747126436, 'verify': 0.0022988505747126436, 'whether': 0.0022988505747126436, 'not': 0.0022988505747126436, 'Besides': 0.0022988505747126436, 'teams': 0.0022988505747126436, 'formed': 0.0022988505747126436, 'monitor': 0.0022988505747126436, 'progress': 0.0022988505747126436, 'What': 0.0022988505747126436, 'extent': 0.0022988505747126436, 'project': 0.0022988505747126436, 'vowed': 0.0022988505747126436, 'third': 0.0022988505747126436, 'its': 0.0022988505747126436, '95': 0.0022988505747126436, 'hectares': 0.0022988505747126436, 'under': 0.0022988505747126436, '2030': 0.0022988505747126436, 'allocated': 0.0022988505747126436, '$': 0.0022988505747126436, '6.2': 0.0022988505747126436, 'billion': 0.004597701149425287, '(': 0.0022988505747126436, 'â‚¬5.2': 0.0022988505747126436, ')': 0.0022988505747126436, 'for': 0.0022988505747126436, 'tree-planting': 0.0022988505747126436, 'industrial': 0.0022988505747126436, 'development': 0.0022988505747126436, 'rapidly': 0.0022988505747126436, 'growing': 0.0022988505747126436, 'population': 0.0022988505747126436, 'put': 0.0022988505747126436, 'further': 0.0022988505747126436, 'stress': 0.0022988505747126436, 'on': 0.0022988505747126436}\n"
     ]
    }
   ],
   "source": [
    "print(tf2)"
   ]
  },
  {
   "cell_type": "code",
   "execution_count": 82,
   "id": "10582aa2-7050-4194-a4dc-cbd48a9384a6",
   "metadata": {},
   "outputs": [],
   "source": [
    "tokens1=nltk.word_tokenize(doc1)\n",
    "tokens2=nltk.word_tokenize(doc2)\n",
    "def cal_idf():\n",
    "    all_tokens=set(tokens1+tokens2)\n",
    "    idf=dict()\n",
    "    for word in all_tokens:\n",
    "        f=0\n",
    "        if word in tokens1:\n",
    "            f+=1\n",
    "        if word in tokens2:\n",
    "            f+=1\n",
    "        if f>0:\n",
    "            idf[word]=math.log(2/f)\n",
    "        else:\n",
    "            idf[word]=0\n",
    "    return idf\n",
    "        \n",
    "    "
   ]
  },
  {
   "cell_type": "code",
   "execution_count": 84,
   "id": "c4bb12b4-b36c-410e-bb96-c8a2d800bce8",
   "metadata": {},
   "outputs": [],
   "source": [
    "idf=cal_idf()"
   ]
  },
  {
   "cell_type": "code",
   "execution_count": 86,
   "id": "fb8d8ce4-b87e-449f-84b8-498a8d3b750f",
   "metadata": {},
   "outputs": [
    {
     "name": "stdout",
     "output_type": "stream",
     "text": [
      "{'all': 0.6931471805599453, 'Chauhan': 0.6931471805599453, 'targets': 0.6931471805599453, 'concern': 0.6931471805599453, '15': 0.6931471805599453, 'across': 0.0, 'interested': 0.6931471805599453, 'organizational': 0.6931471805599453, '70': 0.6931471805599453, 'meet': 0.6931471805599453, 'should': 0.6931471805599453, 'ensure': 0.6931471805599453, 'Army': 0.6931471805599453, 'Daund': 0.6931471805599453, 'this': 0.6931471805599453, 'NABARD': 0.6931471805599453, 'Department': 0.6931471805599453, 'few': 0.6931471805599453, 'only': 0.6931471805599453, '2017Â': 0.6931471805599453, 'agencies': 0.6931471805599453, 'miles': 0.6931471805599453, 'long-term': 0.6931471805599453, 'How': 0.6931471805599453, 'â€˜Hello': 0.6931471805599453, 'combat': 0.6931471805599453, 'trees': 0.0, 'quoted': 0.6931471805599453, 'Dara': 0.6931471805599453, 'change': 0.6931471805599453, 'Pune': 0.6931471805599453, 'national': 0.6931471805599453, 'Division': 0.6931471805599453, 'Vanmohotsav': 0.6931471805599453, 'day': 0.0, 'successful': 0.6931471805599453, 'rest': 0.6931471805599453, 'betweenÂ': 0.6931471805599453, 'unavailability': 0.6931471805599453, 'An': 0.6931471805599453, 'the': 0.0, 'www.greenarmy.mahaforest.gov.in': 0.6931471805599453, 'reported': 0.6931471805599453, 'July-September': 0.6931471805599453, 'All': 0.0, 'crore': 0.6931471805599453, 'Singh': 0.6931471805599453, 'being': 0.6931471805599453, 'spokesperson': 0.6931471805599453, 'created': 0.6931471805599453, 'of': 0.0, 'However': 0.0, 'plantedÂ': 0.6931471805599453, '$': 0.6931471805599453, \"''\": 0.6931471805599453, 'record': 0.0, 'view': 0.6931471805599453, 'four-year': 0.6931471805599453, 'Revenue': 0.6931471805599453, 'special': 0.6931471805599453, 'inÂ': 0.6931471805599453, 'July.Â': 0.6931471805599453, 'According': 0.6931471805599453, 'increased': 0.6931471805599453, 'â€˜My': 0.6931471805599453, 'development': 0.6931471805599453, 'Circle': 0.6931471805599453, 'NCC': 0.6931471805599453, '38': 0.6931471805599453, 'stress': 0.6931471805599453, 'compared': 0.6931471805599453, 'Uttar': 0.6931471805599453, 'shall': 0.6931471805599453, 'More': 0.6931471805599453, 'citing': 0.6931471805599453, 'geo-tagged': 0.6931471805599453, 'farms': 0.6931471805599453, 'total': 0.0, 'specially': 0.6931471805599453, 'There': 0.6931471805599453, 'figure': 0.6931471805599453, 'countryâ€™s': 0.6931471805599453, 'collective': 0.6931471805599453, 'drives': 0.0, 'no': 0.6931471805599453, 'mobile': 0.6931471805599453, 'happened': 0.6931471805599453, 'single': 0.0, '60': 0.6931471805599453, 'aims': 0.6931471805599453, 'Last': 0.6931471805599453, 'had': 0.6931471805599453, '2018': 0.6931471805599453, 'thatÂ': 0.6931471805599453, 'Baramati': 0.6931471805599453, 'QR': 0.6931471805599453, '13': 0.6931471805599453, '50': 0.6931471805599453, 'details': 0.6931471805599453, 'Express': 0.6931471805599453, 'geographical': 0.6931471805599453, 'adding': 0.6931471805599453, 'department': 0.6931471805599453, 'plants': 0.6931471805599453, 'growing': 0.6931471805599453, 'What': 0.6931471805599453, '2.89': 0.6931471805599453, 'billion': 0.6931471805599453, 'funds': 0.6931471805599453, 'campaign': 0.6931471805599453, 'maintain': 0.0, 'district': 0.6931471805599453, 'area': 0.0, 'into': 0.6931471805599453, 'verify': 0.6931471805599453, 'along': 0.0, 'Maval': 0.6931471805599453, 'teakwood': 0.6931471805599453, 'driveÂ': 0.6931471805599453, 'Individuals': 0.6931471805599453, '87': 0.6931471805599453, 'Minister': 0.6931471805599453, 'Mulshi': 0.6931471805599453, 'up': 0.6931471805599453, 'that': 0.0, 'register': 0.6931471805599453, 'state': 0.0, '(': 0.0, 'extent': 0.6931471805599453, 'carry': 0.6931471805599453, 'told': 0.6931471805599453, 'water': 0.6931471805599453, 'it': 0.6931471805599453, 'and': 0.0, 'affecting': 0.6931471805599453, 'individual': 0.6931471805599453, 'saying': 0.6931471805599453, 'set': 0.6931471805599453, 'information': 0.6931471805599453, 'he': 0.6931471805599453, 'survival': 0.0, 'can': 0.0, '95': 0.6931471805599453, 'kilometers': 0.6931471805599453, 'emphasis': 0.6931471805599453, 'called': 0.6931471805599453, 'We': 0.6931471805599453, 'Survey': 0.6931471805599453, 'organisations': 0.6931471805599453, 'sectors': 0.6931471805599453, 'place': 0.6931471805599453, '24-hourÂ': 0.6931471805599453, 'momentum': 0.6931471805599453, '2030': 0.6931471805599453, 'million': 0.6931471805599453, 'websiteÂ': 0.6931471805599453, '7thÂ': 0.6931471805599453, 'is': 0.0, 'wildlife': 0.6931471805599453, 'with': 0.6931471805599453, '1stÂ': 0.6931471805599453, 'Pradesh': 0.6931471805599453, 'October': 0.6931471805599453, ';': 0.6931471805599453, 'highways': 0.6931471805599453, 'â€˜Green': 0.6931471805599453, 'been': 0.0, 'Defence': 0.6931471805599453, 'audio-visual': 0.6931471805599453, 'vowed': 0.6931471805599453, '2.82': 0.6931471805599453, 'survive': 0.6931471805599453, 'ofÂ': 0.6931471805599453, 'Forest': 0.0, 'took': 0.6931471805599453, 'state-wide': 0.6931471805599453, '1.49': 0.6931471805599453, 'succumb': 0.6931471805599453, 'disease': 0.6931471805599453, '2019.Â': 0.6931471805599453, 'panchayats': 0.6931471805599453, 'Armyâ€™': 0.6931471805599453, 'will': 0.6931471805599453, '``': 0.6931471805599453, 'were': 0.0, 'done': 0.6931471805599453, 'put': 0.6931471805599453, 'Harit': 0.6931471805599453, 'increase': 0.6931471805599453, '250': 0.6931471805599453, 'preparations': 0.6931471805599453, 'mass': 0.6931471805599453, 'mission': 0.6931471805599453, 'involved': 0.6931471805599453, 'volunteering': 0.6931471805599453, 'lawmakers': 0.6931471805599453, '2019': 0.0, 'surpassed': 0.6931471805599453, 'NSS': 0.6931471805599453, 'helpline': 0.6931471805599453, 'committed': 0.6931471805599453, 'ascertain': 0.6931471805599453, 'aÂ': 0.6931471805599453, '59': 0.6931471805599453, 'Students': 0.6931471805599453, 'kind': 0.6931471805599453, 'submitted': 0.6931471805599453, 'Highways': 0.6931471805599453, 'are': 0.6931471805599453, 'period': 0.6931471805599453, 'Indapur': 0.6931471805599453, 'level': 0.6931471805599453, 'country': 0.6931471805599453, 'Green': 0.6931471805599453, 'progress': 0.6931471805599453, 'over': 0.0, 'society': 0.6931471805599453, 'Policy': 0.6931471805599453, 'resounding': 0.6931471805599453, 'launched': 0.6931471805599453, '127': 0.6931471805599453, 'CSR': 0.6931471805599453, 'activists': 0.6931471805599453, 'years': 0.0, 'â€': 0.6931471805599453, 'first': 0.6931471805599453, 'India': 0.6931471805599453, 'riverbanks': 0.6931471805599453, 'also': 0.6931471805599453, 'during': 0.6931471805599453, 'carbon': 0.6931471805599453, 'part': 0.0, 'Havveli': 0.6931471805599453, 'survived': 0.6931471805599453, 'as': 0.0, 'due': 0.6931471805599453, 'consonance': 0.6931471805599453, 'â‚¬5.2': 0.6931471805599453, 'plantingÂ': 0.6931471805599453, 'official': 0.6931471805599453, 'per': 0.6931471805599453, ')': 0.0, 'operational': 0.6931471805599453, 'teams': 0.6931471805599453, 'regions': 0.6931471805599453, 'lakh': 0.6931471805599453, 'portal': 0.6931471805599453, 'theÂ': 0.6931471805599453, 'accomplished': 0.6931471805599453, 'target': 0.6931471805599453, 'an': 0.0, 'people': 0.6931471805599453, 'State': 0.0, '2017': 0.0, 'whether': 0.6931471805599453, 'most-populous': 0.6931471805599453, 'final': 0.6931471805599453, 'from': 0.6931471805599453, 'mandatory': 0.6931471805599453, 'a': 0.0, 'modest': 0.6931471805599453, '1926Â': 0.6931471805599453, 'especially': 0.6931471805599453, 'Solapur': 0.6931471805599453, 'reduce': 0.6931471805599453, '7th': 0.6931471805599453, 'allocated': 0.6931471805599453, 'programme': 0.6931471805599453, 'celebrateÂ': 0.6931471805599453, 'bid': 0.6931471805599453, 'without': 0.6931471805599453, 'species': 0.6931471805599453, 'next': 0.6931471805599453, '79': 0.6931471805599453, 'platform': 0.6931471805599453, 'usually': 0.6931471805599453, 'consistency': 0.6931471805599453, 'industrial': 0.6931471805599453, 'planned': 0.6931471805599453, 'has': 0.0, 'four': 0.6931471805599453, 'than': 0.6931471805599453, 'BJPÂ': 0.6931471805599453, ',': 0.0, 'location': 0.6931471805599453, 'Society': 0.6931471805599453, 'croreÂ': 0.6931471805599453, 'formed': 0.6931471805599453, 'led': 0.6931471805599453, 'Colleges': 0.6931471805599453, 'planting': 0.0, 'five': 0.6931471805599453, '2016': 0.6931471805599453, 'maintaining': 0.6931471805599453, 'Indian': 0.0, 'we': 0.6931471805599453, 'In': 0.6931471805599453, 'emphasizes': 0.6931471805599453, 'number': 0.6931471805599453, '17': 0.6931471805599453, 'population': 0.6931471805599453, 'uploaded': 0.6931471805599453, 'third': 0.6931471805599453, 'have': 0.6931471805599453, 'may': 0.6931471805599453, 'at': 0.6931471805599453, '33': 0.6931471805599453, 'volunteers': 0.0, '3.05': 0.6931471805599453, 'departments': 0.6931471805599453, 'regarding': 0.6931471805599453, '1st': 0.6931471805599453, 'Millions': 0.6931471805599453, 'said': 0.6931471805599453, 'three': 0.6931471805599453, 'drive': 0.0, 'system': 0.6931471805599453, '6.2': 0.6931471805599453, 'work': 0.6931471805599453, 'involvement': 0.6931471805599453, 'public': 0.6931471805599453, 'gram': 0.6931471805599453, '?': 0.6931471805599453, 'For': 0.6931471805599453, '”': 0.6931471805599453, 'green': 0.6931471805599453, '80': 0.6931471805599453, 'plantation': 0.0, 'Sunday': 0.6931471805599453, 'Â': 0.0, 'consecutive': 0.6931471805599453, '1.7': 0.6931471805599453, 'its': 0.0, 'other': 0.6931471805599453, 'claimed': 0.6931471805599453, 'within': 0.6931471805599453, 'NGOs': 0.6931471805599453, 'Where': 0.6931471805599453, 'numbers': 0.6931471805599453, 'project': 0.6931471805599453, 'not': 0.0, 'namely': 0.6931471805599453, 'National': 0.6931471805599453, 'however': 0.6931471805599453, 'aim': 0.6931471805599453, 'so': 0.6931471805599453, 'annual': 0.6931471805599453, 'July': 0.6931471805599453, 'schools': 0.6931471805599453, 'integrated': 0.6931471805599453, 'to': 0.0, 'â€˜Vanmohotsavâ€™': 0.6931471805599453, 'seamless': 0.6931471805599453, 'newspaper': 0.6931471805599453, 'around': 0.6931471805599453, 'remains': 0.6931471805599453, '4': 0.6931471805599453, 'climate': 0.6931471805599453, 'sqare': 0.6931471805599453, 'six': 0.6931471805599453, 'proof': 0.6931471805599453, 'dedicated': 0.6931471805599453, 'about': 0.0, 'Maharashtraâ€™': 0.6931471805599453, 'plant': 0.6931471805599453, 'download': 0.6931471805599453, 'through': 0.6931471805599453, 'talukas': 0.6931471805599453, 'was': 0.0, 'Senaâ€™/': 0.6931471805599453, 'awareness': 0.6931471805599453, 'comprises': 0.6931471805599453, 'average': 0.6931471805599453, 'participation': 0.6931471805599453, 'out': 0.0, 'use': 0.6931471805599453, 'hectares': 0.6931471805599453, 'tree-planting': 0.6931471805599453, 'Railways': 0.6931471805599453, 'activities': 0.6931471805599453, 'participate': 0.6931471805599453, 'â€˜Maharashtra': 0.6931471805599453, 'exactly': 0.6931471805599453, '2': 0.6931471805599453, 'their': 0.6931471805599453, 'another': 0.6931471805599453, 'carried': 0.6931471805599453, 'application': 0.6931471805599453, 'officials': 0.6931471805599453, 'This': 0.6931471805599453, 'reports': 0.6931471805599453, 'Forestâ€™': 0.6931471805599453, 'lack': 0.6931471805599453, 'many': 0.0, 'year': 0.6931471805599453, 'ExpressÂ': 0.6931471805599453, 'Also': 0.6931471805599453, 'emissions': 0.6931471805599453, 'for': 0.0, 'government': 0.0, 'further': 0.6931471805599453, 'under': 0.0, 'Maharashtra': 0.6931471805599453, 'divisions': 0.6931471805599453, 'The': 0.0, 'tree': 0.0, 'evidence': 0.6931471805599453, 'To': 0.6931471805599453, 'computer': 0.6931471805599453, 'freeÂ': 0.6931471805599453, 'success': 0.6931471805599453, 'land': 0.0, 'TheÂ': 0.6931471805599453, 'last': 0.6931471805599453, 'example': 0.6931471805599453, 'forest': 0.0, 'in': 0.0, 'announced': 0.6931471805599453, 'protection': 0.6931471805599453, ']': 0.6931471805599453, 'non-forest': 0.6931471805599453, 'Schools': 0.6931471805599453, 'forests': 0.6931471805599453, 'comparatively': 0.6931471805599453, 'on': 0.0, 'Manoj': 0.6931471805599453, 'found': 0.6931471805599453, 'increasing': 0.6931471805599453, 'Pioneer': 0.6931471805599453, 'initiated': 0.6931471805599453, 'report': 0.6931471805599453, 'cent': 0.6931471805599453, 'Between': 0.6931471805599453, '.': 0.0, 'planted': 0.0, 'stakeholders': 0.6931471805599453, 'monitor': 0.6931471805599453, 'tasked': 0.6931471805599453, 'be': 0.6931471805599453, 'codes': 0.6931471805599453, 'or': 0.6931471805599453, 'where': 0.6931471805599453, 'viz': 0.6931471805599453, 'what': 0.6931471805599453, 'Besides': 0.6931471805599453, 'by': 0.0, '%': 0.0, 'rapidly': 0.6931471805599453, 'These': 0.6931471805599453, 'body': 0.6931471805599453, 'cover': 0.0, 'such': 0.6931471805599453, 'Plantsâ€™Â': 0.6931471805599453, 'toll': 0.6931471805599453, 'saplings': 0.0, 'related': 0.6931471805599453, \"'s\": 0.6931471805599453, '[': 0.6931471805599453, 'provide': 0.6931471805599453, 'which': 0.6931471805599453}\n"
     ]
    }
   ],
   "source": [
    "print(idf)"
   ]
  },
  {
   "cell_type": "code",
   "execution_count": 88,
   "id": "d23de738-0b18-4f49-ab69-425640c3ffd7",
   "metadata": {},
   "outputs": [],
   "source": [
    "tf_idf_1=dict()\n",
    "tf_idf_2=dict()\n",
    "for word in tokens1:\n",
    "    tf_idf_1[word]=(tf1[word]*idf[word])\n",
    "for word in tokens2:\n",
    "    tf_idf_2[word]=(tf2[word]*idf[word])"
   ]
  },
  {
   "cell_type": "code",
   "execution_count": 90,
   "id": "cfd66322-9ddc-41ec-ad7e-c902f1af1269",
   "metadata": {},
   "outputs": [
    {
     "name": "stdout",
     "output_type": "stream",
     "text": [
      "{'Between': 0.0010299363752748073, '2016': 0.0030898091258244214, 'and': 0.0, '2019': 0.0, ',': 0.0, 'the': 0.0, 'state': 0.0, 'forest': 0.0, 'department': 0.0020598727505496146, 'under': 0.0, 'theÂ': 0.0010299363752748073, 'BJPÂ': 0.0010299363752748073, 'government': 0.0, 'had': 0.00720955462692365, 'launched': 0.0010299363752748073, 'â€˜Green': 0.0020598727505496146, 'Maharashtraâ€™': 0.0010299363752748073, 'drive': 0.0, 'with': 0.00720955462692365, 'an': 0.0, 'aim': 0.0020598727505496146, 'to': 0.0, 'plant': 0.0030898091258244214, '50': 0.0030898091258244214, 'crore': 0.012359236503297686, 'trees': 0.0, 'across': 0.0, 'in': 0.0, 'four-year': 0.0010299363752748073, 'period': 0.0010299363752748073, '.': 0.0, 'In': 0.006179618251648843, 'October': 0.0010299363752748073, 'claimed': 0.0020598727505496146, 'it': 0.0030898091258244214, 'surpassed': 0.0010299363752748073, 'target': 0.0030898091258244214, 'by': 0.0, 'planting': 0.0, '33': 0.004119745501099229, 'July-September': 0.0010299363752748073, '2019.Â': 0.0010299363752748073, 'The': 0.0, 'Indian': 0.0, 'ExpressÂ': 0.0010299363752748073, 'found': 0.0010299363752748073, 'that': 0.0, 'non-forest': 0.0010299363752748073, 'agencies': 0.0020598727505496146, 'â€': 0.006179618251648843, '”': 0.006179618251648843, 'such': 0.0020598727505496146, 'as': 0.0, 'gram': 0.0020598727505496146, 'panchayats': 0.0020598727505496146, 'which': 0.00720955462692365, 'were': 0.0, 'tasked': 0.0010299363752748073, 'not': 0.0, 'uploaded': 0.0020598727505496146, 'mandatory': 0.0010299363752748073, 'audio-visual': 0.0010299363752748073, 'proof': 0.0010299363752748073, 'of': 0.0, 'tree': 0.0, 'plantation': 0.0, 'drives': 0.0, 'on': 0.0, 'specially': 0.0010299363752748073, 'created': 0.0020598727505496146, 'portal': 0.0010299363752748073, 'Pune': 0.005149681876374036, 'Revenue': 0.0010299363752748073, 'Division': 0.0020598727505496146, 'was': 0.0, 'planted': 0.0, '1.7': 0.0010299363752748073, 'saplings': 0.0, ';': 0.0010299363752748073, 'however': 0.0010299363752748073, 'no': 0.0010299363752748073, 'evidence': 0.0010299363752748073, 'for': 0.0, '87': 0.0010299363752748073, 'per': 0.0010299363752748073, 'cent': 0.0010299363752748073, '(': 0.0, '1.49': 0.0010299363752748073, ')': 0.0, 'Also': 0.0010299363752748073, 'out': 0.0, '59': 0.0010299363752748073, 'involved': 0.0010299363752748073, 'many': 0.0, '38': 0.0010299363752748073, 'submitted': 0.0010299363752748073, 'survival': 0.0, 'reports': 0.0010299363752748073, 'about': 0.0, 'This': 0.0010299363752748073, 'year': 0.004119745501099229, 'targets': 0.0010299363752748073, 'set': 0.004119745501099229, 'comparatively': 0.0010299363752748073, 'modest': 0.0010299363752748073, 'For': 0.0010299363752748073, 'example': 0.0010299363752748073, 'Circle': 0.0020598727505496146, 'comprises': 0.0020598727505496146, 'three': 0.0020598727505496146, 'divisions': 0.0010299363752748073, 'Solapur': 0.0010299363752748073, 'district': 0.0010299363752748073, 'planned': 0.0010299363752748073, '17': 0.0010299363752748073, 'lakh': 0.0030898091258244214, 'land': 0.0, 'However': 0.0, 'may': 0.0010299363752748073, 'meet': 0.0010299363752748073, 'due': 0.0010299363752748073, 'unavailability': 0.0010299363752748073, 'funds': 0.0010299363752748073, 'Last': 0.0010299363752748073, '70': 0.0010299363752748073, 'six': 0.0010299363752748073, 'talukas': 0.0010299363752748073, 'namely': 0.0010299363752748073, 'Maval': 0.0010299363752748073, 'Mulshi': 0.0010299363752748073, 'Daund': 0.0010299363752748073, 'Indapur': 0.0010299363752748073, 'Baramati': 0.0010299363752748073, 'Havveli': 0.0010299363752748073, 'preparations': 0.0010299363752748073, 'done': 0.0010299363752748073, '4': 0.004119745501099229, 'special': 0.0010299363752748073, 'emphasis': 0.0010299363752748073, 'teakwood': 0.0010299363752748073, 'National': 0.0020598727505496146, 'Forest': 0.0, 'Policy': 0.0010299363752748073, 'aims': 0.0020598727505496146, 'emphasizes': 0.0010299363752748073, 'at': 0.0020598727505496146, 'maintaining': 0.0010299363752748073, '%': 0.0, 'countryâ€™s': 0.0010299363752748073, 'geographical': 0.0010299363752748073, 'area': 0.0, 'green': 0.0010299363752748073, 'cover': 0.0, 'view': 0.0010299363752748073, 'this': 0.0030898091258244214, 'a': 0.0, 'part': 0.0, 'programme': 0.0020598727505496146, 'within': 0.0010299363752748073, 'Maharashtra': 0.0030898091258244214, 'Department': 0.005149681876374036, 'all': 0.0020598727505496146, 'over': 0.0, 'State': 0.0, 'betweenÂ': 0.0010299363752748073, '1st': 0.0020598727505496146, 'July': 0.005149681876374036, '7th': 0.0010299363752748073, '2017Â': 0.0010299363752748073, 'celebrateÂ': 0.0010299363752748073, 'â€˜Vanmohotsavâ€™': 0.0010299363752748073, 'Â': 0.0, 'announced': 0.0010299363752748073, 'plantingÂ': 0.0010299363752748073, '2': 0.0010299363752748073, '1stÂ': 0.0020598727505496146, 'resounding': 0.0010299363752748073, 'success': 0.0010299363752748073, 'final': 0.0010299363752748073, 'total': 0.0, 'reported': 0.0010299363752748073, 'figure': 0.0010299363752748073, 'ofÂ': 0.0010299363752748073, '2.82': 0.0010299363752748073, 'plantedÂ': 0.0010299363752748073, 'single': 0.0, 'day': 0.0, 'To': 0.0010299363752748073, 'maintain': 0.0, 'consistency': 0.0010299363752748073, 'platform': 0.0010299363752748073, 'without': 0.0010299363752748073, 'affecting': 0.0010299363752748073, 'its': 0.0, 'momentum': 0.0010299363752748073, 'has': 0.0, '13': 0.0010299363752748073, 'mission': 0.0010299363752748073, 'shall': 0.0010299363752748073, 'be': 0.0030898091258244214, 'accomplished': 0.0010299363752748073, 'consecutive': 0.0010299363752748073, 'years': 0.0, 'viz': 0.0010299363752748073, '2017': 0.0, '2018': 0.0010299363752748073, 'TheÂ': 0.0010299363752748073, 'croreÂ': 0.0010299363752748073, 'will': 0.0020598727505496146, 'during': 0.0010299363752748073, 'Vanmohotsav': 0.0010299363752748073, '7thÂ': 0.0020598727505496146, 'state-wide': 0.0010299363752748073, 'driveÂ': 0.0010299363752748073, 'involvement': 0.0010299363752748073, 'departments': 0.0010299363752748073, 'along': 0.0, 'Students': 0.0010299363752748073, 'Schools': 0.0010299363752748073, 'Colleges': 0.0010299363752748073, 'NSS': 0.0010299363752748073, 'NCC': 0.0010299363752748073, 'CSR': 0.0010299363752748073, 'NGOs': 0.0010299363752748073, 'Railways': 0.0010299363752748073, 'Highways': 0.0010299363752748073, 'Defence': 0.0010299363752748073, 'NABARD': 0.0010299363752748073, 'other': 0.0010299363752748073, 'stakeholders': 0.0020598727505496146, 'Society': 0.0010299363752748073, 'first': 0.0010299363752748073, 'kind': 0.0010299363752748073, 'aÂ': 0.0020598727505496146, '24-hourÂ': 0.0010299363752748073, 'toll': 0.0010299363752748073, 'freeÂ': 0.0010299363752748073, 'helpline': 0.0010299363752748073, 'number': 0.0010299363752748073, '1926Â': 0.0010299363752748073, 'called': 0.0020598727505496146, 'â€˜Hello': 0.0010299363752748073, 'Forestâ€™': 0.0010299363752748073, 'been': 0.0, 'up': 0.0010299363752748073, 'provide': 0.0010299363752748073, 'information': 0.0010299363752748073, 'regarding': 0.0010299363752748073, 'protection': 0.0020598727505496146, 'mass': 0.0010299363752748073, 'awareness': 0.0010299363752748073, 'mobile': 0.0010299363752748073, 'application': 0.0030898091258244214, 'â€˜My': 0.0010299363752748073, 'Plantsâ€™Â': 0.0010299363752748073, 'record': 0.0, 'details': 0.0010299363752748073, 'numbers': 0.0010299363752748073, 'species': 0.0010299363752748073, 'location': 0.0010299363752748073, 'into': 0.0010299363752748073, 'computer': 0.0010299363752748073, 'system': 0.0010299363752748073, 'All': 0.0, 'volunteers': 0.0, 'individual': 0.0010299363752748073, 'collective': 0.0010299363752748073, 'organizational': 0.0010299363752748073, 'level': 0.0010299363752748073, 'should': 0.0010299363752748073, 'download': 0.0010299363752748073, 'use': 0.0010299363752748073, 'their': 0.0010299363752748073, 'work': 0.0010299363752748073, 'through': 0.0010299363752748073, 'operational': 0.0010299363752748073, 'from': 0.0020598727505496146, 'July.Â': 0.0010299363752748073, 'consonance': 0.0010299363752748073, 'public': 0.0020598727505496146, 'participation': 0.0020598727505496146, 'initiated': 0.0010299363752748073, 'â€˜Maharashtra': 0.0010299363752748073, 'Harit': 0.0010299363752748073, 'Senaâ€™/': 0.0010299363752748073, 'Armyâ€™': 0.0010299363752748073, 'is': 0.0, 'body': 0.0010299363752748073, 'dedicated': 0.0010299363752748073, 'participate': 0.0010299363752748073, 'activities': 0.0010299363752748073, 'wildlife': 0.0010299363752748073, 'related': 0.0010299363752748073, 'sectors': 0.0010299363752748073, 'around': 0.0010299363752748073, 'Individuals': 0.0010299363752748073, 'organisations': 0.0010299363752748073, 'interested': 0.0010299363752748073, 'volunteering': 0.0010299363752748073, 'can': 0.0, 'register': 0.0010299363752748073, 'Green': 0.0010299363752748073, 'Army': 0.0010299363752748073, 'websiteÂ': 0.0010299363752748073, 'www.greenarmy.mahaforest.gov.in': 0.0010299363752748073, 'An': 0.0010299363752748073, 'integrated': 0.0010299363752748073, 'place': 0.0010299363752748073, 'ensure': 0.0010299363752748073, 'seamless': 0.0010299363752748073, 'successful': 0.0010299363752748073, 'society': 0.0010299363752748073, 'especially': 0.0010299363752748073}\n"
     ]
    }
   ],
   "source": [
    "print(tf_idf_1)"
   ]
  },
  {
   "cell_type": "code",
   "execution_count": 92,
   "id": "e814ac32-7a83-439e-8634-e01e76c270c6",
   "metadata": {},
   "outputs": [
    {
     "name": "stdout",
     "output_type": "stream",
     "text": [
      "{'Millions': 0.0015934417943906788, 'of': 0.0, 'people': 0.0015934417943906788, 'in': 0.0, 'India': 0.006373767177562715, 'took': 0.0015934417943906788, 'part': 0.0, 'an': 0.0, 'annual': 0.0031868835887813576, 'tree': 0.0, 'planting': 0.0, 'drive': 0.0, 'Sunday': 0.0015934417943906788, '.': 0.0, 'More': 0.0015934417943906788, 'than': 0.0015934417943906788, '250': 0.0015934417943906788, 'million': 0.0031868835887813576, 'saplings': 0.0, 'were': 0.0, 'planted': 0.0, 'a': 0.0, 'single': 0.0, 'day': 0.0, 'across': 0.0, 'the': 0.0, 'country': 0.0031868835887813576, \"'s\": 0.0031868835887813576, 'most-populous': 0.0015934417943906788, 'state': 0.0, 'The': 0.0, 'campaign': 0.0015934417943906788, 'was': 0.0, 'led': 0.0015934417943906788, 'by': 0.0, 'Uttar': 0.006373767177562715, 'Pradesh': 0.006373767177562715, 'government': 0.0, 'officials': 0.0031868835887813576, ',': 0.0, 'lawmakers': 0.0015934417943906788, 'and': 0.0, 'activists': 0.0015934417943906788, 'bid': 0.0015934417943906788, 'to': 0.0, 'reduce': 0.0015934417943906788, 'carbon': 0.0015934417943906788, 'emissions': 0.0015934417943906788, 'combat': 0.0015934417943906788, 'climate': 0.0015934417943906788, 'change': 0.0015934417943906788, 'Where': 0.0015934417943906788, 'trees': 0.0, '?': 0.004780325383172036, 'volunteers': 0.0, 'forests': 0.0015934417943906788, 'farms': 0.0015934417943906788, 'schools': 0.0015934417943906788, 'along': 0.0, 'riverbanks': 0.0015934417943906788, 'highways': 0.0015934417943906788, '``': 0.007967208971953394, 'We': 0.0015934417943906788, 'are': 0.0015934417943906788, 'committed': 0.0015934417943906788, 'increasing': 0.0015934417943906788, 'forest': 0.0, 'cover': 0.0, 'over': 0.0, '15': 0.0015934417943906788, '%': 0.0, 'total': 0.0, 'land': 0.0, 'area': 0.0, 'next': 0.0015934417943906788, 'five': 0.0015934417943906788, 'years': 0.0, \"''\": 0.007967208971953394, 'said': 0.007967208971953394, 'official': 0.004780325383172036, 'Manoj': 0.0015934417943906788, 'Singh': 0.0031868835887813576, 'According': 0.0015934417943906788, 'another': 0.0015934417943906788, 'has': 0.0, 'increased': 0.0031868835887813576, 'last': 0.0031868835887813576, 'few': 0.0015934417943906788, 'There': 0.0031868835887813576, 'been': 0.0, 'increase': 0.0031868835887813576, '127': 0.0015934417943906788, 'sqare': 0.0031868835887813576, 'kilometers': 0.0015934417943906788, '[': 0.0015934417943906788, '79': 0.0015934417943906788, 'miles': 0.0015934417943906788, ']': 0.0015934417943906788, 'Â': 0.0, 'as': 0.0, 'compared': 0.0031868835887813576, '2017': 0.0, 'spokesperson': 0.0015934417943906788, 'quoted': 0.0015934417943906788, 'saying': 0.0015934417943906788, 'inÂ': 0.0015934417943906788, 'Indian': 0.0, 'Express': 0.0015934417943906788, 'newspaper': 0.0031868835887813576, 'also': 0.0015934417943906788, 'plants': 0.0015934417943906788, '3.05': 0.0015934417943906788, 'national': 0.0015934417943906788, 'average': 0.0015934417943906788, '2.89': 0.0015934417943906788, 'citing': 0.0015934417943906788, '2019': 0.0, 'Forest': 0.0, 'Survey': 0.0015934417943906788, 'report': 0.0015934417943906788, 'How': 0.0015934417943906788, 'many': 0.0, 'survive': 0.0031868835887813576, 'State': 0.0, 'Minister': 0.0015934417943906788, 'Dara': 0.0015934417943906788, 'long-term': 0.0015934417943906788, 'survival': 0.0, 'remains': 0.0015934417943906788, 'concern': 0.0015934417943906788, 'adding': 0.0015934417943906788, 'that': 0.0, 'usually': 0.0015934417943906788, 'only': 0.0015934417943906788, '60': 0.0015934417943906788, 'rest': 0.0015934417943906788, 'succumb': 0.0015934417943906788, 'disease': 0.0015934417943906788, 'or': 0.004780325383172036, 'lack': 0.0015934417943906788, 'water': 0.0015934417943906788, 'However': 0.0, 'he': 0.0031868835887813576, 'thatÂ': 0.0015934417943906788, 'about': 0.0, '80': 0.0015934417943906788, 'four': 0.0015934417943906788, 'drives': 0.0, 'have': 0.006373767177562715, 'survived': 0.0031868835887813576, 'All': 0.0, 'regions': 0.0015934417943906788, 'where': 0.0015934417943906788, 'plantation': 0.0, 'is': 0.0, 'being': 0.0015934417943906788, 'carried': 0.0015934417943906788, 'out': 0.0, 'geo-tagged': 0.0015934417943906788, 'so': 0.0031868835887813576, 'we': 0.0015934417943906788, 'can': 0.0, 'ascertain': 0.0015934417943906788, 'what': 0.0015934417943906788, 'exactly': 0.0015934417943906788, 'happened': 0.0015934417943906788, 'Chauhan': 0.0015934417943906788, 'told': 0.0015934417943906788, 'Pioneer': 0.0015934417943906788, 'These': 0.0015934417943906788, 'carry': 0.0015934417943906788, 'QR': 0.0015934417943906788, 'codes': 0.0015934417943906788, 'maintain': 0.0, 'record': 0.0, 'verify': 0.0015934417943906788, 'whether': 0.0015934417943906788, 'not': 0.0, 'Besides': 0.0015934417943906788, 'teams': 0.0015934417943906788, 'formed': 0.0015934417943906788, 'monitor': 0.0015934417943906788, 'progress': 0.0015934417943906788, 'What': 0.0015934417943906788, 'extent': 0.0015934417943906788, 'project': 0.0015934417943906788, 'vowed': 0.0015934417943906788, 'third': 0.0015934417943906788, 'its': 0.0, '95': 0.0015934417943906788, 'hectares': 0.0015934417943906788, 'under': 0.0, '2030': 0.0015934417943906788, 'allocated': 0.0015934417943906788, '$': 0.0015934417943906788, '6.2': 0.0015934417943906788, 'billion': 0.0031868835887813576, '(': 0.0, 'â‚¬5.2': 0.0015934417943906788, ')': 0.0, 'for': 0.0, 'tree-planting': 0.0015934417943906788, 'industrial': 0.0015934417943906788, 'development': 0.0015934417943906788, 'rapidly': 0.0015934417943906788, 'growing': 0.0015934417943906788, 'population': 0.0015934417943906788, 'put': 0.0015934417943906788, 'further': 0.0015934417943906788, 'stress': 0.0015934417943906788, 'on': 0.0}\n"
     ]
    }
   ],
   "source": [
    "print(tf_idf_2)"
   ]
  },
  {
   "cell_type": "code",
   "execution_count": 102,
   "id": "98d432d7-c92f-4c9d-a648-cd8d7a37ab2b",
   "metadata": {},
   "outputs": [],
   "source": [
    "sorted_1=sorted(tf_idf_1.items(),key=lambda x:x[1],reverse=True)"
   ]
  },
  {
   "cell_type": "code",
   "execution_count": 104,
   "id": "59c4469c-8e84-40a0-a941-c9da22ecce5b",
   "metadata": {},
   "outputs": [
    {
     "name": "stdout",
     "output_type": "stream",
     "text": [
      "[('crore', 0.012359236503297686), ('had', 0.00720955462692365), ('with', 0.00720955462692365), ('which', 0.00720955462692365), ('In', 0.006179618251648843), ('â€', 0.006179618251648843), ('”', 0.006179618251648843), ('Pune', 0.005149681876374036), ('Department', 0.005149681876374036), ('July', 0.005149681876374036), ('33', 0.004119745501099229), ('year', 0.004119745501099229), ('set', 0.004119745501099229), ('4', 0.004119745501099229), ('2016', 0.0030898091258244214), ('plant', 0.0030898091258244214), ('50', 0.0030898091258244214), ('it', 0.0030898091258244214), ('target', 0.0030898091258244214), ('lakh', 0.0030898091258244214), ('this', 0.0030898091258244214), ('Maharashtra', 0.0030898091258244214), ('be', 0.0030898091258244214), ('application', 0.0030898091258244214), ('department', 0.0020598727505496146), ('â€˜Green', 0.0020598727505496146), ('aim', 0.0020598727505496146), ('claimed', 0.0020598727505496146), ('agencies', 0.0020598727505496146), ('such', 0.0020598727505496146), ('gram', 0.0020598727505496146), ('panchayats', 0.0020598727505496146), ('uploaded', 0.0020598727505496146), ('created', 0.0020598727505496146), ('Division', 0.0020598727505496146), ('Circle', 0.0020598727505496146), ('comprises', 0.0020598727505496146), ('three', 0.0020598727505496146), ('National', 0.0020598727505496146), ('aims', 0.0020598727505496146), ('at', 0.0020598727505496146), ('programme', 0.0020598727505496146), ('all', 0.0020598727505496146), ('1st', 0.0020598727505496146), ('1stÂ', 0.0020598727505496146), ('will', 0.0020598727505496146), ('7thÂ', 0.0020598727505496146), ('stakeholders', 0.0020598727505496146), ('aÂ', 0.0020598727505496146), ('called', 0.0020598727505496146), ('protection', 0.0020598727505496146), ('from', 0.0020598727505496146), ('public', 0.0020598727505496146), ('participation', 0.0020598727505496146), ('Between', 0.0010299363752748073), ('theÂ', 0.0010299363752748073), ('BJPÂ', 0.0010299363752748073), ('launched', 0.0010299363752748073), ('Maharashtraâ€™', 0.0010299363752748073), ('four-year', 0.0010299363752748073), ('period', 0.0010299363752748073), ('October', 0.0010299363752748073), ('surpassed', 0.0010299363752748073), ('July-September', 0.0010299363752748073), ('2019.Â', 0.0010299363752748073), ('ExpressÂ', 0.0010299363752748073), ('found', 0.0010299363752748073), ('non-forest', 0.0010299363752748073), ('tasked', 0.0010299363752748073), ('mandatory', 0.0010299363752748073), ('audio-visual', 0.0010299363752748073), ('proof', 0.0010299363752748073), ('specially', 0.0010299363752748073), ('portal', 0.0010299363752748073), ('Revenue', 0.0010299363752748073), ('1.7', 0.0010299363752748073), (';', 0.0010299363752748073), ('however', 0.0010299363752748073), ('no', 0.0010299363752748073), ('evidence', 0.0010299363752748073), ('87', 0.0010299363752748073), ('per', 0.0010299363752748073), ('cent', 0.0010299363752748073), ('1.49', 0.0010299363752748073), ('Also', 0.0010299363752748073), ('59', 0.0010299363752748073), ('involved', 0.0010299363752748073), ('38', 0.0010299363752748073), ('submitted', 0.0010299363752748073), ('reports', 0.0010299363752748073), ('This', 0.0010299363752748073), ('targets', 0.0010299363752748073), ('comparatively', 0.0010299363752748073), ('modest', 0.0010299363752748073), ('For', 0.0010299363752748073), ('example', 0.0010299363752748073), ('divisions', 0.0010299363752748073), ('Solapur', 0.0010299363752748073), ('district', 0.0010299363752748073), ('planned', 0.0010299363752748073), ('17', 0.0010299363752748073), ('may', 0.0010299363752748073), ('meet', 0.0010299363752748073), ('due', 0.0010299363752748073), ('unavailability', 0.0010299363752748073), ('funds', 0.0010299363752748073), ('Last', 0.0010299363752748073), ('70', 0.0010299363752748073), ('six', 0.0010299363752748073), ('talukas', 0.0010299363752748073), ('namely', 0.0010299363752748073), ('Maval', 0.0010299363752748073), ('Mulshi', 0.0010299363752748073), ('Daund', 0.0010299363752748073), ('Indapur', 0.0010299363752748073), ('Baramati', 0.0010299363752748073), ('Havveli', 0.0010299363752748073), ('preparations', 0.0010299363752748073), ('done', 0.0010299363752748073), ('special', 0.0010299363752748073), ('emphasis', 0.0010299363752748073), ('teakwood', 0.0010299363752748073), ('Policy', 0.0010299363752748073), ('emphasizes', 0.0010299363752748073), ('maintaining', 0.0010299363752748073), ('countryâ€™s', 0.0010299363752748073), ('geographical', 0.0010299363752748073), ('green', 0.0010299363752748073), ('view', 0.0010299363752748073), ('within', 0.0010299363752748073), ('betweenÂ', 0.0010299363752748073), ('7th', 0.0010299363752748073), ('2017Â', 0.0010299363752748073), ('celebrateÂ', 0.0010299363752748073), ('â€˜Vanmohotsavâ€™', 0.0010299363752748073), ('announced', 0.0010299363752748073), ('plantingÂ', 0.0010299363752748073), ('2', 0.0010299363752748073), ('resounding', 0.0010299363752748073), ('success', 0.0010299363752748073), ('final', 0.0010299363752748073), ('reported', 0.0010299363752748073), ('figure', 0.0010299363752748073), ('ofÂ', 0.0010299363752748073), ('2.82', 0.0010299363752748073), ('plantedÂ', 0.0010299363752748073), ('To', 0.0010299363752748073), ('consistency', 0.0010299363752748073), ('platform', 0.0010299363752748073), ('without', 0.0010299363752748073), ('affecting', 0.0010299363752748073), ('momentum', 0.0010299363752748073), ('13', 0.0010299363752748073), ('mission', 0.0010299363752748073), ('shall', 0.0010299363752748073), ('accomplished', 0.0010299363752748073), ('consecutive', 0.0010299363752748073), ('viz', 0.0010299363752748073), ('2018', 0.0010299363752748073), ('TheÂ', 0.0010299363752748073), ('croreÂ', 0.0010299363752748073), ('during', 0.0010299363752748073), ('Vanmohotsav', 0.0010299363752748073), ('state-wide', 0.0010299363752748073), ('driveÂ', 0.0010299363752748073), ('involvement', 0.0010299363752748073), ('departments', 0.0010299363752748073), ('Students', 0.0010299363752748073), ('Schools', 0.0010299363752748073), ('Colleges', 0.0010299363752748073), ('NSS', 0.0010299363752748073), ('NCC', 0.0010299363752748073), ('CSR', 0.0010299363752748073), ('NGOs', 0.0010299363752748073), ('Railways', 0.0010299363752748073), ('Highways', 0.0010299363752748073), ('Defence', 0.0010299363752748073), ('NABARD', 0.0010299363752748073), ('other', 0.0010299363752748073), ('Society', 0.0010299363752748073), ('first', 0.0010299363752748073), ('kind', 0.0010299363752748073), ('24-hourÂ', 0.0010299363752748073), ('toll', 0.0010299363752748073), ('freeÂ', 0.0010299363752748073), ('helpline', 0.0010299363752748073), ('number', 0.0010299363752748073), ('1926Â', 0.0010299363752748073), ('â€˜Hello', 0.0010299363752748073), ('Forestâ€™', 0.0010299363752748073), ('up', 0.0010299363752748073), ('provide', 0.0010299363752748073), ('information', 0.0010299363752748073), ('regarding', 0.0010299363752748073), ('mass', 0.0010299363752748073), ('awareness', 0.0010299363752748073), ('mobile', 0.0010299363752748073), ('â€˜My', 0.0010299363752748073), ('Plantsâ€™Â', 0.0010299363752748073), ('details', 0.0010299363752748073), ('numbers', 0.0010299363752748073), ('species', 0.0010299363752748073), ('location', 0.0010299363752748073), ('into', 0.0010299363752748073), ('computer', 0.0010299363752748073), ('system', 0.0010299363752748073), ('individual', 0.0010299363752748073), ('collective', 0.0010299363752748073), ('organizational', 0.0010299363752748073), ('level', 0.0010299363752748073), ('should', 0.0010299363752748073), ('download', 0.0010299363752748073), ('use', 0.0010299363752748073), ('their', 0.0010299363752748073), ('work', 0.0010299363752748073), ('through', 0.0010299363752748073), ('operational', 0.0010299363752748073), ('July.Â', 0.0010299363752748073), ('consonance', 0.0010299363752748073), ('initiated', 0.0010299363752748073), ('â€˜Maharashtra', 0.0010299363752748073), ('Harit', 0.0010299363752748073), ('Senaâ€™/', 0.0010299363752748073), ('Armyâ€™', 0.0010299363752748073), ('body', 0.0010299363752748073), ('dedicated', 0.0010299363752748073), ('participate', 0.0010299363752748073), ('activities', 0.0010299363752748073), ('wildlife', 0.0010299363752748073), ('related', 0.0010299363752748073), ('sectors', 0.0010299363752748073), ('around', 0.0010299363752748073), ('Individuals', 0.0010299363752748073), ('organisations', 0.0010299363752748073), ('interested', 0.0010299363752748073), ('volunteering', 0.0010299363752748073), ('register', 0.0010299363752748073), ('Green', 0.0010299363752748073), ('Army', 0.0010299363752748073), ('websiteÂ', 0.0010299363752748073), ('www.greenarmy.mahaforest.gov.in', 0.0010299363752748073), ('An', 0.0010299363752748073), ('integrated', 0.0010299363752748073), ('place', 0.0010299363752748073), ('ensure', 0.0010299363752748073), ('seamless', 0.0010299363752748073), ('successful', 0.0010299363752748073), ('society', 0.0010299363752748073), ('especially', 0.0010299363752748073), ('and', 0.0), ('2019', 0.0), (',', 0.0), ('the', 0.0), ('state', 0.0), ('forest', 0.0), ('under', 0.0), ('government', 0.0), ('drive', 0.0), ('an', 0.0), ('to', 0.0), ('trees', 0.0), ('across', 0.0), ('in', 0.0), ('.', 0.0), ('by', 0.0), ('planting', 0.0), ('The', 0.0), ('Indian', 0.0), ('that', 0.0), ('as', 0.0), ('were', 0.0), ('not', 0.0), ('of', 0.0), ('tree', 0.0), ('plantation', 0.0), ('drives', 0.0), ('on', 0.0), ('was', 0.0), ('planted', 0.0), ('saplings', 0.0), ('for', 0.0), ('(', 0.0), (')', 0.0), ('out', 0.0), ('many', 0.0), ('survival', 0.0), ('about', 0.0), ('land', 0.0), ('However', 0.0), ('Forest', 0.0), ('%', 0.0), ('area', 0.0), ('cover', 0.0), ('a', 0.0), ('part', 0.0), ('over', 0.0), ('State', 0.0), ('Â', 0.0), ('total', 0.0), ('single', 0.0), ('day', 0.0), ('maintain', 0.0), ('its', 0.0), ('has', 0.0), ('years', 0.0), ('2017', 0.0), ('along', 0.0), ('been', 0.0), ('record', 0.0), ('All', 0.0), ('volunteers', 0.0), ('is', 0.0), ('can', 0.0)]\n"
     ]
    }
   ],
   "source": [
    "print(sorted_1)"
   ]
  },
  {
   "cell_type": "code",
   "execution_count": null,
   "id": "388ea6b0-bb9a-4e5a-b722-51f97aae4619",
   "metadata": {},
   "outputs": [],
   "source": []
  }
 ],
 "metadata": {
  "kernelspec": {
   "display_name": "Python 3 (ipykernel)",
   "language": "python",
   "name": "python3"
  },
  "language_info": {
   "codemirror_mode": {
    "name": "ipython",
    "version": 3
   },
   "file_extension": ".py",
   "mimetype": "text/x-python",
   "name": "python",
   "nbconvert_exporter": "python",
   "pygments_lexer": "ipython3",
   "version": "3.12.7"
  }
 },
 "nbformat": 4,
 "nbformat_minor": 5
}
